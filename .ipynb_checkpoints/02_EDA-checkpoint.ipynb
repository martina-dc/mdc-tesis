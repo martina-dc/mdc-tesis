{
 "cells": [
  {
   "cell_type": "markdown",
   "metadata": {
    "id": "eiMupGycJKXT"
   },
   "source": [
    "# Análisis de Datos Exploratorio\n",
    "Se levantará el dataset guardado en el notebook de preparación de datos, para poder analizarlo."
   ]
  },
  {
   "cell_type": "code",
   "execution_count": 5,
   "metadata": {
    "executionInfo": {
     "elapsed": 840,
     "status": "ok",
     "timestamp": 1660263698824,
     "user": {
      "displayName": "Martina Di Carlo",
      "userId": "17054237212499031598"
     },
     "user_tz": 180
    },
    "id": "LQXvtk6N9kid"
   },
   "outputs": [
    {
     "name": "stdout",
     "output_type": "stream",
     "text": [
      "Libreria: 'pyprojroot' esta instalada y se cargo correctamente\n"
     ]
    }
   ],
   "source": [
    "import pandas as pd\n",
    "import os\n",
    "import json\n",
    "import ast\n",
    "import numpy as np\n",
    "try:\n",
    "    from pyprojroot import here\n",
    "    print(\"Libreria: 'pyprojroot' esta instalada y se cargo correctamente\")\n",
    "except ModuleNotFoundError:\n",
    "    print(\"Libreria: 'pyprojroot' no esta instalada, se debe instalar\")\n",
    "    !pip install pyprojroot\n",
    "    "
   ]
  },
  {
   "cell_type": "code",
   "execution_count": 3,
   "metadata": {
    "executionInfo": {
     "elapsed": 4,
     "status": "ok",
     "timestamp": 1660263698825,
     "user": {
      "displayName": "Martina Di Carlo",
      "userId": "17054237212499031598"
     },
     "user_tz": 180
    },
    "id": "stxxrzZeKKd2"
   },
   "outputs": [],
   "source": [
    "pd.set_option('display.max_columns', None)\n",
    "pd.set_option('display.max_rows', None)\n",
    "pd.set_option('display.float_format', lambda x: '%.5f' % x)"
   ]
  },
  {
   "cell_type": "code",
   "execution_count": 13,
   "metadata": {
    "executionInfo": {
     "elapsed": 685,
     "status": "ok",
     "timestamp": 1660264554795,
     "user": {
      "displayName": "Martina Di Carlo",
      "userId": "17054237212499031598"
     },
     "user_tz": 180
    },
    "id": "UO7QBtErHkhr"
   },
   "outputs": [],
   "source": [
    "import seaborn as sns\n",
    "import matplotlib.pyplot as plt \n"
   ]
  },
  {
   "cell_type": "code",
   "execution_count": 6,
   "metadata": {},
   "outputs": [],
   "source": [
    "path = here() / \"data\""
   ]
  },
  {
   "cell_type": "code",
   "execution_count": 9,
   "metadata": {
    "executionInfo": {
     "elapsed": 431,
     "status": "ok",
     "timestamp": 1660264069826,
     "user": {
      "displayName": "Martina Di Carlo",
      "userId": "17054237212499031598"
     },
     "user_tz": 180
    },
    "id": "WEN2UFBqDdLD"
   },
   "outputs": [],
   "source": [
    "df = pd.read_csv(path / \"datos_laptops_transformed.csv\", sep = \";\")"
   ]
  },
  {
   "cell_type": "markdown",
   "metadata": {
    "id": "WEdtt72wKFIt"
   },
   "source": [
    "## Preview del dataset"
   ]
  },
  {
   "cell_type": "code",
   "execution_count": 10,
   "metadata": {
    "colab": {
     "base_uri": "https://localhost:8080/",
     "height": 485
    },
    "executionInfo": {
     "elapsed": 276,
     "status": "ok",
     "timestamp": 1660264782284,
     "user": {
      "displayName": "Martina Di Carlo",
      "userId": "17054237212499031598"
     },
     "user_tz": 180
    },
    "id": "-NgFtdgwDn9S",
    "outputId": "6ba03179-f6c9-4eb1-af5c-bd80eef36eae"
   },
   "outputs": [
    {
     "data": {
      "text/html": [
       "<div>\n",
       "<style scoped>\n",
       "    .dataframe tbody tr th:only-of-type {\n",
       "        vertical-align: middle;\n",
       "    }\n",
       "\n",
       "    .dataframe tbody tr th {\n",
       "        vertical-align: top;\n",
       "    }\n",
       "\n",
       "    .dataframe thead th {\n",
       "        text-align: right;\n",
       "    }\n",
       "</style>\n",
       "<table border=\"1\" class=\"dataframe\">\n",
       "  <thead>\n",
       "    <tr style=\"text-align: right;\">\n",
       "      <th></th>\n",
       "      <th>id</th>\n",
       "      <th>title</th>\n",
       "      <th>seller_id</th>\n",
       "      <th>price</th>\n",
       "      <th>base_price</th>\n",
       "      <th>deal_ids</th>\n",
       "      <th>initial_quantity</th>\n",
       "      <th>sold_quantity</th>\n",
       "      <th>listing_type_id</th>\n",
       "      <th>available_quantity</th>\n",
       "      <th>sold_quantity.1</th>\n",
       "      <th>sale_terms</th>\n",
       "      <th>condition</th>\n",
       "      <th>installment</th>\n",
       "      <th>display_size</th>\n",
       "      <th>shipping_cost</th>\n",
       "      <th>descriptions</th>\n",
       "      <th>attributes</th>\n",
       "      <th>warnings</th>\n",
       "      <th>status</th>\n",
       "      <th>date_created</th>\n",
       "      <th>shipping.mode</th>\n",
       "      <th>shipping.free_shipping</th>\n",
       "      <th>Tipo de batería</th>\n",
       "      <th>Marca</th>\n",
       "      <th>Cantidad de núcleos</th>\n",
       "      <th>Resolución de la pantalla</th>\n",
       "      <th>Tamaño de la pantalla</th>\n",
       "      <th>Tipo de pantalla</th>\n",
       "      <th>Tarjeta gráfica</th>\n",
       "      <th>Es 2 en 1</th>\n",
       "      <th>Es gamer</th>\n",
       "      <th>Es ultrabook</th>\n",
       "      <th>Condición del ítem</th>\n",
       "      <th>Línea</th>\n",
       "      <th>Modelo</th>\n",
       "      <th>Edición del sistema operativo</th>\n",
       "      <th>Nombre del sistema operativo</th>\n",
       "      <th>Versión del sistema operativo</th>\n",
       "      <th>Marca del procesador</th>\n",
       "      <th>Línea del procesador</th>\n",
       "      <th>Memoria RAM</th>\n",
       "      <th>Tipo de memoria RAM</th>\n",
       "      <th>Capacidad del SSD</th>\n",
       "      <th>Cantidad total de puertos USB</th>\n",
       "      <th>Peso</th>\n",
       "      <th>Con Bluetooth</th>\n",
       "      <th>Con puerto ethernet</th>\n",
       "      <th>Con HDMI</th>\n",
       "      <th>Con salida para auriculares</th>\n",
       "      <th>Con lector de tarjeta de memoria</th>\n",
       "      <th>Con micrófono</th>\n",
       "      <th>Con pantalla táctil</th>\n",
       "      <th>Con cámara web</th>\n",
       "      <th>Con Wi-Fi</th>\n",
       "      <th>Profundidad</th>\n",
       "      <th>Altura</th>\n",
       "      <th>Modos de sonido</th>\n",
       "      <th>Puertos USB</th>\n",
       "      <th>Puertos de video</th>\n",
       "      <th>Ancho</th>\n",
       "      <th>Con USB</th>\n",
       "      <th>Tipo de garantía</th>\n",
       "      <th>Tiempo de garantía</th>\n",
       "    </tr>\n",
       "  </thead>\n",
       "  <tbody>\n",
       "    <tr>\n",
       "      <th>0</th>\n",
       "      <td>MLA1151530200</td>\n",
       "      <td>Notebook Lenovo Ideapad 3 14iil05 Intel Core I...</td>\n",
       "      <td>174556876</td>\n",
       "      <td>89999.00000</td>\n",
       "      <td>89999.00000</td>\n",
       "      <td>['MLA6015']</td>\n",
       "      <td>105</td>\n",
       "      <td>50</td>\n",
       "      <td>gold_special</td>\n",
       "      <td>1</td>\n",
       "      <td>50</td>\n",
       "      <td>[{'id': 'WARRANTY_TYPE', 'name': 'Tipo de gara...</td>\n",
       "      <td>new</td>\n",
       "      <td>yes</td>\n",
       "      <td>hasta 14.1</td>\n",
       "      <td>free</td>\n",
       "      <td>[]</td>\n",
       "      <td>[{'id': 'BATTERY_TYPE', 'name': 'Tipo de bater...</td>\n",
       "      <td>[]</td>\n",
       "      <td>active</td>\n",
       "      <td>2022-08-11T16:12:19.000Z</td>\n",
       "      <td>me2</td>\n",
       "      <td>True</td>\n",
       "      <td>Ion de litio</td>\n",
       "      <td>Lenovo</td>\n",
       "      <td>2.00000</td>\n",
       "      <td>1920 px x 1080 px</td>\n",
       "      <td>14 \"</td>\n",
       "      <td>LCD</td>\n",
       "      <td>Intel UHD Graphics</td>\n",
       "      <td>No</td>\n",
       "      <td>No</td>\n",
       "      <td>No</td>\n",
       "      <td>Nuevo</td>\n",
       "      <td>IDEAPAD 3</td>\n",
       "      <td>14IIL05</td>\n",
       "      <td>S</td>\n",
       "      <td>Windows</td>\n",
       "      <td>11</td>\n",
       "      <td>Intel</td>\n",
       "      <td>Core i3</td>\n",
       "      <td>8 GB</td>\n",
       "      <td>DDR4</td>\n",
       "      <td>128 GB</td>\n",
       "      <td>3.00000</td>\n",
       "      <td>1.6 kg</td>\n",
       "      <td>Sí</td>\n",
       "      <td>No</td>\n",
       "      <td>Sí</td>\n",
       "      <td>Sí</td>\n",
       "      <td>Sí</td>\n",
       "      <td>Sí</td>\n",
       "      <td>No</td>\n",
       "      <td>Sí</td>\n",
       "      <td>Sí</td>\n",
       "      <td>NaN</td>\n",
       "      <td>NaN</td>\n",
       "      <td>NaN</td>\n",
       "      <td>NaN</td>\n",
       "      <td>NaN</td>\n",
       "      <td>NaN</td>\n",
       "      <td>NaN</td>\n",
       "      <td>Garantía de fábrica</td>\n",
       "      <td>12 meses</td>\n",
       "    </tr>\n",
       "    <tr>\n",
       "      <th>1</th>\n",
       "      <td>MLA1149134293</td>\n",
       "      <td>Notebook Lenovo Ideapad 14iil05  Platinum Gray...</td>\n",
       "      <td>335450469</td>\n",
       "      <td>132616.00000</td>\n",
       "      <td>132616.00000</td>\n",
       "      <td>[]</td>\n",
       "      <td>75</td>\n",
       "      <td>50</td>\n",
       "      <td>gold_special</td>\n",
       "      <td>1</td>\n",
       "      <td>50</td>\n",
       "      <td>[{'id': 'WARRANTY_TYPE', 'name': 'Tipo de gara...</td>\n",
       "      <td>new</td>\n",
       "      <td>yes</td>\n",
       "      <td>hasta 14.1</td>\n",
       "      <td>free</td>\n",
       "      <td>[]</td>\n",
       "      <td>[{'id': 'ALPHANUMERIC_MODEL', 'name': 'Modelo ...</td>\n",
       "      <td>[]</td>\n",
       "      <td>active</td>\n",
       "      <td>2022-08-01T19:07:12.000Z</td>\n",
       "      <td>me2</td>\n",
       "      <td>True</td>\n",
       "      <td>Polímero de litio</td>\n",
       "      <td>Lenovo</td>\n",
       "      <td>4.00000</td>\n",
       "      <td>1920 px x 1080 px</td>\n",
       "      <td>14 \"</td>\n",
       "      <td>LCD</td>\n",
       "      <td>Intel UHD Graphics G1</td>\n",
       "      <td>NaN</td>\n",
       "      <td>NaN</td>\n",
       "      <td>NaN</td>\n",
       "      <td>Nuevo</td>\n",
       "      <td>IdeaPad</td>\n",
       "      <td>3</td>\n",
       "      <td>Home</td>\n",
       "      <td>Windows</td>\n",
       "      <td>10</td>\n",
       "      <td>Intel</td>\n",
       "      <td>Core i5</td>\n",
       "      <td>8 GB</td>\n",
       "      <td>DDR4</td>\n",
       "      <td>512 GB</td>\n",
       "      <td>3.00000</td>\n",
       "      <td>1.6 kg</td>\n",
       "      <td>Sí</td>\n",
       "      <td>No</td>\n",
       "      <td>Sí</td>\n",
       "      <td>Sí</td>\n",
       "      <td>Sí</td>\n",
       "      <td>Sí</td>\n",
       "      <td>No</td>\n",
       "      <td>Sí</td>\n",
       "      <td>Sí</td>\n",
       "      <td>241 mm</td>\n",
       "      <td>19.9 mm</td>\n",
       "      <td>Dolby Audio,Stereo</td>\n",
       "      <td>2.0,3.2</td>\n",
       "      <td>HDMI</td>\n",
       "      <td>327.1 mm</td>\n",
       "      <td>Sí</td>\n",
       "      <td>Garantía del vendedor</td>\n",
       "      <td>6 meses</td>\n",
       "    </tr>\n",
       "    <tr>\n",
       "      <th>2</th>\n",
       "      <td>MLA1135443731</td>\n",
       "      <td>Notebook Exo Smart L33e Gris 14 , Intel Celero...</td>\n",
       "      <td>25704919</td>\n",
       "      <td>59999.00000</td>\n",
       "      <td>59999.00000</td>\n",
       "      <td>['MLA8258', 'MLA9166', 'MLA6015']</td>\n",
       "      <td>482</td>\n",
       "      <td>250</td>\n",
       "      <td>gold_special</td>\n",
       "      <td>1</td>\n",
       "      <td>250</td>\n",
       "      <td>[{'id': 'INVOICE', 'name': 'Facturación', 'val...</td>\n",
       "      <td>new</td>\n",
       "      <td>yes</td>\n",
       "      <td>hasta 14.1</td>\n",
       "      <td>free</td>\n",
       "      <td>[]</td>\n",
       "      <td>[{'id': 'ASPECT_RATIO', 'name': 'Relación de a...</td>\n",
       "      <td>[]</td>\n",
       "      <td>active</td>\n",
       "      <td>2022-05-04T15:42:38.000Z</td>\n",
       "      <td>me2</td>\n",
       "      <td>True</td>\n",
       "      <td>NaN</td>\n",
       "      <td>EXO</td>\n",
       "      <td>2.00000</td>\n",
       "      <td>1366 px x 768 px</td>\n",
       "      <td>14 \"</td>\n",
       "      <td>LED</td>\n",
       "      <td>Intel UHD Graphics 600</td>\n",
       "      <td>NaN</td>\n",
       "      <td>NaN</td>\n",
       "      <td>NaN</td>\n",
       "      <td>Nuevo</td>\n",
       "      <td>Smart</td>\n",
       "      <td>L33E</td>\n",
       "      <td>Home</td>\n",
       "      <td>Windows</td>\n",
       "      <td>10</td>\n",
       "      <td>Intel</td>\n",
       "      <td>Celeron</td>\n",
       "      <td>4 GB</td>\n",
       "      <td>DDR4</td>\n",
       "      <td>64 GB</td>\n",
       "      <td>2.00000</td>\n",
       "      <td>1350 g</td>\n",
       "      <td>Sí</td>\n",
       "      <td>NaN</td>\n",
       "      <td>Sí</td>\n",
       "      <td>Sí</td>\n",
       "      <td>Sí</td>\n",
       "      <td>Sí</td>\n",
       "      <td>NaN</td>\n",
       "      <td>Sí</td>\n",
       "      <td>Sí</td>\n",
       "      <td>216 mm</td>\n",
       "      <td>22.2 mm</td>\n",
       "      <td>NaN</td>\n",
       "      <td>2.0,3.0</td>\n",
       "      <td>Mini-HDMI</td>\n",
       "      <td>327 mm</td>\n",
       "      <td>Sí</td>\n",
       "      <td>Garantía de fábrica</td>\n",
       "      <td>12 meses</td>\n",
       "    </tr>\n",
       "  </tbody>\n",
       "</table>\n",
       "</div>"
      ],
      "text/plain": [
       "              id                                              title  \\\n",
       "0  MLA1151530200  Notebook Lenovo Ideapad 3 14iil05 Intel Core I...   \n",
       "1  MLA1149134293  Notebook Lenovo Ideapad 14iil05  Platinum Gray...   \n",
       "2  MLA1135443731  Notebook Exo Smart L33e Gris 14 , Intel Celero...   \n",
       "\n",
       "   seller_id        price   base_price                           deal_ids  \\\n",
       "0  174556876  89999.00000  89999.00000                        ['MLA6015']   \n",
       "1  335450469 132616.00000 132616.00000                                 []   \n",
       "2   25704919  59999.00000  59999.00000  ['MLA8258', 'MLA9166', 'MLA6015']   \n",
       "\n",
       "   initial_quantity  sold_quantity listing_type_id  available_quantity  \\\n",
       "0               105             50    gold_special                   1   \n",
       "1                75             50    gold_special                   1   \n",
       "2               482            250    gold_special                   1   \n",
       "\n",
       "   sold_quantity.1                                         sale_terms  \\\n",
       "0               50  [{'id': 'WARRANTY_TYPE', 'name': 'Tipo de gara...   \n",
       "1               50  [{'id': 'WARRANTY_TYPE', 'name': 'Tipo de gara...   \n",
       "2              250  [{'id': 'INVOICE', 'name': 'Facturación', 'val...   \n",
       "\n",
       "  condition installment display_size shipping_cost descriptions  \\\n",
       "0       new         yes   hasta 14.1          free           []   \n",
       "1       new         yes   hasta 14.1          free           []   \n",
       "2       new         yes   hasta 14.1          free           []   \n",
       "\n",
       "                                          attributes warnings  status  \\\n",
       "0  [{'id': 'BATTERY_TYPE', 'name': 'Tipo de bater...       []  active   \n",
       "1  [{'id': 'ALPHANUMERIC_MODEL', 'name': 'Modelo ...       []  active   \n",
       "2  [{'id': 'ASPECT_RATIO', 'name': 'Relación de a...       []  active   \n",
       "\n",
       "               date_created shipping.mode  shipping.free_shipping  \\\n",
       "0  2022-08-11T16:12:19.000Z           me2                    True   \n",
       "1  2022-08-01T19:07:12.000Z           me2                    True   \n",
       "2  2022-05-04T15:42:38.000Z           me2                    True   \n",
       "\n",
       "     Tipo de batería   Marca  Cantidad de núcleos Resolución de la pantalla  \\\n",
       "0       Ion de litio  Lenovo              2.00000         1920 px x 1080 px   \n",
       "1  Polímero de litio  Lenovo              4.00000         1920 px x 1080 px   \n",
       "2                NaN     EXO              2.00000          1366 px x 768 px   \n",
       "\n",
       "  Tamaño de la pantalla Tipo de pantalla         Tarjeta gráfica Es 2 en 1  \\\n",
       "0                  14 \"              LCD      Intel UHD Graphics        No   \n",
       "1                  14 \"              LCD   Intel UHD Graphics G1       NaN   \n",
       "2                  14 \"              LED  Intel UHD Graphics 600       NaN   \n",
       "\n",
       "  Es gamer Es ultrabook Condición del ítem      Línea   Modelo  \\\n",
       "0       No           No              Nuevo  IDEAPAD 3  14IIL05   \n",
       "1      NaN          NaN              Nuevo    IdeaPad        3   \n",
       "2      NaN          NaN              Nuevo      Smart     L33E   \n",
       "\n",
       "  Edición del sistema operativo Nombre del sistema operativo  \\\n",
       "0                             S                      Windows   \n",
       "1                          Home                      Windows   \n",
       "2                          Home                      Windows   \n",
       "\n",
       "  Versión del sistema operativo Marca del procesador Línea del procesador  \\\n",
       "0                            11                Intel              Core i3   \n",
       "1                            10                Intel              Core i5   \n",
       "2                            10                Intel              Celeron   \n",
       "\n",
       "  Memoria RAM Tipo de memoria RAM Capacidad del SSD  \\\n",
       "0        8 GB                DDR4            128 GB   \n",
       "1        8 GB                DDR4            512 GB   \n",
       "2        4 GB                DDR4             64 GB   \n",
       "\n",
       "   Cantidad total de puertos USB    Peso Con Bluetooth Con puerto ethernet  \\\n",
       "0                        3.00000  1.6 kg            Sí                  No   \n",
       "1                        3.00000  1.6 kg            Sí                  No   \n",
       "2                        2.00000  1350 g            Sí                 NaN   \n",
       "\n",
       "  Con HDMI Con salida para auriculares Con lector de tarjeta de memoria  \\\n",
       "0       Sí                          Sí                               Sí   \n",
       "1       Sí                          Sí                               Sí   \n",
       "2       Sí                          Sí                               Sí   \n",
       "\n",
       "  Con micrófono Con pantalla táctil Con cámara web Con Wi-Fi Profundidad  \\\n",
       "0            Sí                  No             Sí        Sí         NaN   \n",
       "1            Sí                  No             Sí        Sí      241 mm   \n",
       "2            Sí                 NaN             Sí        Sí      216 mm   \n",
       "\n",
       "    Altura     Modos de sonido Puertos USB Puertos de video     Ancho Con USB  \\\n",
       "0      NaN                 NaN         NaN              NaN       NaN     NaN   \n",
       "1  19.9 mm  Dolby Audio,Stereo     2.0,3.2             HDMI  327.1 mm      Sí   \n",
       "2  22.2 mm                 NaN     2.0,3.0        Mini-HDMI    327 mm      Sí   \n",
       "\n",
       "        Tipo de garantía Tiempo de garantía  \n",
       "0    Garantía de fábrica           12 meses  \n",
       "1  Garantía del vendedor            6 meses  \n",
       "2    Garantía de fábrica           12 meses  "
      ]
     },
     "execution_count": 10,
     "metadata": {},
     "output_type": "execute_result"
    }
   ],
   "source": [
    "df.head(3)"
   ]
  },
  {
   "cell_type": "code",
   "execution_count": 11,
   "metadata": {
    "colab": {
     "base_uri": "https://localhost:8080/",
     "height": 424
    },
    "executionInfo": {
     "elapsed": 266,
     "status": "ok",
     "timestamp": 1660264785811,
     "user": {
      "displayName": "Martina Di Carlo",
      "userId": "17054237212499031598"
     },
     "user_tz": 180
    },
    "id": "loV3CX7eLJ0x",
    "outputId": "d8e43e04-ed03-4d64-d9e8-44727963c2a9"
   },
   "outputs": [
    {
     "data": {
      "text/plain": [
       "(11574, 64)"
      ]
     },
     "execution_count": 11,
     "metadata": {},
     "output_type": "execute_result"
    }
   ],
   "source": [
    "df.shape"
   ]
  },
  {
   "cell_type": "code",
   "execution_count": 12,
   "metadata": {
    "colab": {
     "base_uri": "https://localhost:8080/"
    },
    "executionInfo": {
     "elapsed": 318,
     "status": "ok",
     "timestamp": 1660264788973,
     "user": {
      "displayName": "Martina Di Carlo",
      "userId": "17054237212499031598"
     },
     "user_tz": 180
    },
    "id": "VkqA9u3ufcGN",
    "outputId": "162322fc-3a6f-4293-e5f5-3e6802c236e0"
   },
   "outputs": [
    {
     "name": "stdout",
     "output_type": "stream",
     "text": [
      "<class 'pandas.core.frame.DataFrame'>\n",
      "RangeIndex: 11574 entries, 0 to 11573\n",
      "Data columns (total 64 columns):\n",
      " #   Column                            Non-Null Count  Dtype  \n",
      "---  ------                            --------------  -----  \n",
      " 0   id                                11574 non-null  object \n",
      " 1   title                             11574 non-null  object \n",
      " 2   seller_id                         11574 non-null  int64  \n",
      " 3   price                             11574 non-null  float64\n",
      " 4   base_price                        11574 non-null  float64\n",
      " 5   deal_ids                          11574 non-null  object \n",
      " 6   initial_quantity                  11574 non-null  int64  \n",
      " 7   sold_quantity                     11574 non-null  int64  \n",
      " 8   listing_type_id                   11574 non-null  object \n",
      " 9   available_quantity                11574 non-null  int64  \n",
      " 10  sold_quantity.1                   11574 non-null  int64  \n",
      " 11  sale_terms                        11574 non-null  object \n",
      " 12  condition                         11574 non-null  object \n",
      " 13  installment                       11574 non-null  object \n",
      " 14  display_size                      11574 non-null  object \n",
      " 15  shipping_cost                     11574 non-null  object \n",
      " 16  descriptions                      11574 non-null  object \n",
      " 17  attributes                        11574 non-null  object \n",
      " 18  warnings                          11574 non-null  object \n",
      " 19  status                            11574 non-null  object \n",
      " 20  date_created                      11574 non-null  object \n",
      " 21  shipping.mode                     11574 non-null  object \n",
      " 22  shipping.free_shipping            11574 non-null  bool   \n",
      " 23  Tipo de batería                   9644 non-null   object \n",
      " 24  Marca                             11574 non-null  object \n",
      " 25  Cantidad de núcleos               8495 non-null   float64\n",
      " 26  Resolución de la pantalla         9823 non-null   object \n",
      " 27  Tamaño de la pantalla             11574 non-null  object \n",
      " 28  Tipo de pantalla                  5838 non-null   object \n",
      " 29  Tarjeta gráfica                   8221 non-null   object \n",
      " 30  Es 2 en 1                         9152 non-null   object \n",
      " 31  Es gamer                          9032 non-null   object \n",
      " 32  Es ultrabook                      8843 non-null   object \n",
      " 33  Condición del ítem                11574 non-null  object \n",
      " 34  Línea                             11168 non-null  object \n",
      " 35  Modelo                            11574 non-null  object \n",
      " 36  Edición del sistema operativo     7330 non-null   object \n",
      " 37  Nombre del sistema operativo      11574 non-null  object \n",
      " 38  Versión del sistema operativo     8058 non-null   object \n",
      " 39  Marca del procesador              11572 non-null  object \n",
      " 40  Línea del procesador              9755 non-null   object \n",
      " 41  Memoria RAM                       10002 non-null  object \n",
      " 42  Tipo de memoria RAM               10246 non-null  object \n",
      " 43  Capacidad del SSD                 9300 non-null   object \n",
      " 44  Cantidad total de puertos USB     7074 non-null   float64\n",
      " 45  Peso                              10196 non-null  object \n",
      " 46  Con Bluetooth                     10036 non-null  object \n",
      " 47  Con puerto ethernet               5794 non-null   object \n",
      " 48  Con HDMI                          9491 non-null   object \n",
      " 49  Con salida para auriculares       7062 non-null   object \n",
      " 50  Con lector de tarjeta de memoria  5897 non-null   object \n",
      " 51  Con micrófono                     8944 non-null   object \n",
      " 52  Con pantalla táctil               9396 non-null   object \n",
      " 53  Con cámara web                    9137 non-null   object \n",
      " 54  Con Wi-Fi                         9676 non-null   object \n",
      " 55  Profundidad                       7434 non-null   object \n",
      " 56  Altura                            7367 non-null   object \n",
      " 57  Modos de sonido                   6107 non-null   object \n",
      " 58  Puertos USB                       6981 non-null   object \n",
      " 59  Puertos de video                  7077 non-null   object \n",
      " 60  Ancho                             7500 non-null   object \n",
      " 61  Con USB                           10080 non-null  object \n",
      " 62  Tipo de garantía                  11216 non-null  object \n",
      " 63  Tiempo de garantía                11056 non-null  object \n",
      "dtypes: bool(1), float64(4), int64(5), object(54)\n",
      "memory usage: 5.6+ MB\n"
     ]
    }
   ],
   "source": [
    "df.info()"
   ]
  },
  {
   "cell_type": "code",
   "execution_count": 14,
   "metadata": {
    "colab": {
     "base_uri": "https://localhost:8080/"
    },
    "executionInfo": {
     "elapsed": 9,
     "status": "ok",
     "timestamp": 1660264554115,
     "user": {
      "displayName": "Martina Di Carlo",
      "userId": "17054237212499031598"
     },
     "user_tz": 180
    },
    "id": "3kmXwdx3_nBN",
    "outputId": "7574c575-5f8c-47a4-cf3f-fa4f8c3854a5"
   },
   "outputs": [
    {
     "data": {
      "text/plain": [
       "(11574, 64)"
      ]
     },
     "execution_count": 14,
     "metadata": {},
     "output_type": "execute_result"
    }
   ],
   "source": [
    "df.shape"
   ]
  },
  {
   "cell_type": "markdown",
   "metadata": {
    "id": "qZGUwPUCVGeT"
   },
   "source": [
    "Haremos un analisis exploratorio con los siguientes campos para poder determinar cuales usar para las categorias:\n",
    "- precio\n",
    "- marca\n",
    "- resolucion\n",
    "- es gamer\n",
    "- velocidad max del procesador\n",
    "- marca\n",
    "- linea del procesador\n",
    "- memoria ram\n",
    "- capacidad del ssd\n",
    "- cuotas\n",
    "- tamaño de la pantalla  \n",
    "- costo de envío\n",
    "- peso"
   ]
  },
  {
   "cell_type": "markdown",
   "metadata": {},
   "source": [
    "### Precio"
   ]
  },
  {
   "cell_type": "code",
   "execution_count": 40,
   "metadata": {
    "colab": {
     "base_uri": "https://localhost:8080/"
    },
    "executionInfo": {
     "elapsed": 5,
     "status": "ok",
     "timestamp": 1660264554795,
     "user": {
      "displayName": "Martina Di Carlo",
      "userId": "17054237212499031598"
     },
     "user_tz": 180
    },
    "id": "-hqMEngnWUTR",
    "outputId": "2cac1cf5-75d9-4c15-f3b3-db97de294c9c"
   },
   "outputs": [
    {
     "data": {
      "text/plain": [
       "count      732.00000\n",
       "mean    185562.20898\n",
       "std     100917.94351\n",
       "min      28500.00000\n",
       "25%     119999.00000\n",
       "50%     169999.00000\n",
       "75%     229999.00000\n",
       "max     861385.00000\n",
       "Name: price, dtype: float64"
      ]
     },
     "execution_count": 40,
     "metadata": {},
     "output_type": "execute_result"
    }
   ],
   "source": [
    "df.price.describe()"
   ]
  },
  {
   "cell_type": "code",
   "execution_count": 28,
   "metadata": {
    "colab": {
     "base_uri": "https://localhost:8080/",
     "height": 464
    },
    "executionInfo": {
     "elapsed": 597,
     "status": "ok",
     "timestamp": 1660264555390,
     "user": {
      "displayName": "Martina Di Carlo",
      "userId": "17054237212499031598"
     },
     "user_tz": 180
    },
    "id": "JRPikZmaVaF1",
    "outputId": "581fedea-7870-4c4d-e7cd-7e813b5a024f"
   },
   "outputs": [
    {
     "data": {
      "image/png": "[encoded data removed]",
      "text/plain": [
       "<Figure size 800x500 with 1 Axes>"
      ]
     },
     "metadata": {},
     "output_type": "display_data"
    }
   ],
   "source": [
    "sns.set_theme(style=\"whitegrid\", palette=\"pastel\")\n",
    "\n",
    "plt.figure(figsize=(8,5))\n",
    "ax = sns.boxplot(x=\"price\", data=df)\n",
    "ax.set_title(\"Precio de la notebook\", size=14, family='serif')  \n",
    "plt.xlabel('Precio', size=12, family='serif')  \n",
    "plt.show()"
   ]
  },
  {
   "cell_type": "code",
   "execution_count": 30,
   "metadata": {},
   "outputs": [
    {
     "data": {
      "text/html": [
       "<div>\n",
       "<style scoped>\n",
       "    .dataframe tbody tr th:only-of-type {\n",
       "        vertical-align: middle;\n",
       "    }\n",
       "\n",
       "    .dataframe tbody tr th {\n",
       "        vertical-align: top;\n",
       "    }\n",
       "\n",
       "    .dataframe thead th {\n",
       "        text-align: right;\n",
       "    }\n",
       "</style>\n",
       "<table border=\"1\" class=\"dataframe\">\n",
       "  <thead>\n",
       "    <tr style=\"text-align: right;\">\n",
       "      <th></th>\n",
       "      <th>id</th>\n",
       "      <th>title</th>\n",
       "      <th>seller_id</th>\n",
       "      <th>price</th>\n",
       "      <th>base_price</th>\n",
       "      <th>deal_ids</th>\n",
       "      <th>initial_quantity</th>\n",
       "      <th>sold_quantity</th>\n",
       "      <th>listing_type_id</th>\n",
       "      <th>available_quantity</th>\n",
       "      <th>sold_quantity.1</th>\n",
       "      <th>sale_terms</th>\n",
       "      <th>condition</th>\n",
       "      <th>installment</th>\n",
       "      <th>display_size</th>\n",
       "      <th>shipping_cost</th>\n",
       "      <th>descriptions</th>\n",
       "      <th>attributes</th>\n",
       "      <th>warnings</th>\n",
       "      <th>status</th>\n",
       "      <th>date_created</th>\n",
       "      <th>shipping.mode</th>\n",
       "      <th>shipping.free_shipping</th>\n",
       "      <th>Tipo de batería</th>\n",
       "      <th>Marca</th>\n",
       "      <th>Cantidad de núcleos</th>\n",
       "      <th>Resolución de la pantalla</th>\n",
       "      <th>Tamaño de la pantalla</th>\n",
       "      <th>Tipo de pantalla</th>\n",
       "      <th>Tarjeta gráfica</th>\n",
       "      <th>Es 2 en 1</th>\n",
       "      <th>Es gamer</th>\n",
       "      <th>Es ultrabook</th>\n",
       "      <th>Condición del ítem</th>\n",
       "      <th>Línea</th>\n",
       "      <th>Modelo</th>\n",
       "      <th>Edición del sistema operativo</th>\n",
       "      <th>Nombre del sistema operativo</th>\n",
       "      <th>Versión del sistema operativo</th>\n",
       "      <th>Marca del procesador</th>\n",
       "      <th>Línea del procesador</th>\n",
       "      <th>Memoria RAM</th>\n",
       "      <th>Tipo de memoria RAM</th>\n",
       "      <th>Capacidad del SSD</th>\n",
       "      <th>Cantidad total de puertos USB</th>\n",
       "      <th>Peso</th>\n",
       "      <th>Con Bluetooth</th>\n",
       "      <th>Con puerto ethernet</th>\n",
       "      <th>Con HDMI</th>\n",
       "      <th>Con salida para auriculares</th>\n",
       "      <th>Con lector de tarjeta de memoria</th>\n",
       "      <th>Con micrófono</th>\n",
       "      <th>Con pantalla táctil</th>\n",
       "      <th>Con cámara web</th>\n",
       "      <th>Con Wi-Fi</th>\n",
       "      <th>Profundidad</th>\n",
       "      <th>Altura</th>\n",
       "      <th>Modos de sonido</th>\n",
       "      <th>Puertos USB</th>\n",
       "      <th>Puertos de video</th>\n",
       "      <th>Ancho</th>\n",
       "      <th>Con USB</th>\n",
       "      <th>Tipo de garantía</th>\n",
       "      <th>Tiempo de garantía</th>\n",
       "    </tr>\n",
       "  </thead>\n",
       "  <tbody>\n",
       "    <tr>\n",
       "      <th>11451</th>\n",
       "      <td>MLA1123217115</td>\n",
       "      <td>Apple Macbook Pro 16 2021 M1 Pro Ssd4tb 32gb S...</td>\n",
       "      <td>245722648</td>\n",
       "      <td>2701999.00000000</td>\n",
       "      <td>2701999.00000000</td>\n",
       "      <td>[]</td>\n",
       "      <td>1</td>\n",
       "      <td>0</td>\n",
       "      <td>gold_pro</td>\n",
       "      <td>1</td>\n",
       "      <td>0</td>\n",
       "      <td>[{'id': 'WARRANTY_TYPE', 'name': 'Tipo de gara...</td>\n",
       "      <td>new</td>\n",
       "      <td>no_interest</td>\n",
       "      <td>entre 14.1 y 16.9</td>\n",
       "      <td>free</td>\n",
       "      <td>[]</td>\n",
       "      <td>[{'id': 'BATTERY_TYPE', 'name': 'Tipo de bater...</td>\n",
       "      <td>[]</td>\n",
       "      <td>active</td>\n",
       "      <td>2022-02-11T19:25:21.000Z</td>\n",
       "      <td>me2</td>\n",
       "      <td>True</td>\n",
       "      <td>Polímero de litio</td>\n",
       "      <td>Apple</td>\n",
       "      <td>10.00000000</td>\n",
       "      <td>3456 px x 2234 px</td>\n",
       "      <td>16.2 \"</td>\n",
       "      <td>NaN</td>\n",
       "      <td>Apple GPU</td>\n",
       "      <td>No</td>\n",
       "      <td>No</td>\n",
       "      <td>NaN</td>\n",
       "      <td>Nuevo</td>\n",
       "      <td>MacBook Pro</td>\n",
       "      <td>Macbook Pro 16\"</td>\n",
       "      <td>NaN</td>\n",
       "      <td>macOS</td>\n",
       "      <td>Monterey</td>\n",
       "      <td>Apple</td>\n",
       "      <td>M1 Pro</td>\n",
       "      <td>32 GB</td>\n",
       "      <td>NaN</td>\n",
       "      <td>4 TB</td>\n",
       "      <td>NaN</td>\n",
       "      <td>2.15 kg</td>\n",
       "      <td>NaN</td>\n",
       "      <td>NaN</td>\n",
       "      <td>Sí</td>\n",
       "      <td>NaN</td>\n",
       "      <td>NaN</td>\n",
       "      <td>NaN</td>\n",
       "      <td>No</td>\n",
       "      <td>NaN</td>\n",
       "      <td>NaN</td>\n",
       "      <td>24.81 cm</td>\n",
       "      <td>NaN</td>\n",
       "      <td>NaN</td>\n",
       "      <td>NaN</td>\n",
       "      <td>NaN</td>\n",
       "      <td>35.57 cm</td>\n",
       "      <td>Sí</td>\n",
       "      <td>Garantía del vendedor</td>\n",
       "      <td>6 meses</td>\n",
       "    </tr>\n",
       "  </tbody>\n",
       "</table>\n",
       "</div>"
      ],
      "text/plain": [
       "                  id                                              title  \\\n",
       "11451  MLA1123217115  Apple Macbook Pro 16 2021 M1 Pro Ssd4tb 32gb S...   \n",
       "\n",
       "       seller_id            price       base_price deal_ids  initial_quantity  \\\n",
       "11451  245722648 2701999.00000000 2701999.00000000       []                 1   \n",
       "\n",
       "       sold_quantity listing_type_id  available_quantity  sold_quantity.1  \\\n",
       "11451              0        gold_pro                   1                0   \n",
       "\n",
       "                                              sale_terms condition  \\\n",
       "11451  [{'id': 'WARRANTY_TYPE', 'name': 'Tipo de gara...       new   \n",
       "\n",
       "       installment       display_size shipping_cost descriptions  \\\n",
       "11451  no_interest  entre 14.1 y 16.9          free           []   \n",
       "\n",
       "                                              attributes warnings  status  \\\n",
       "11451  [{'id': 'BATTERY_TYPE', 'name': 'Tipo de bater...       []  active   \n",
       "\n",
       "                   date_created shipping.mode  shipping.free_shipping  \\\n",
       "11451  2022-02-11T19:25:21.000Z           me2                    True   \n",
       "\n",
       "         Tipo de batería  Marca  Cantidad de núcleos  \\\n",
       "11451  Polímero de litio  Apple          10.00000000   \n",
       "\n",
       "      Resolución de la pantalla Tamaño de la pantalla Tipo de pantalla  \\\n",
       "11451         3456 px x 2234 px                16.2 \"              NaN   \n",
       "\n",
       "      Tarjeta gráfica Es 2 en 1 Es gamer Es ultrabook Condición del ítem  \\\n",
       "11451       Apple GPU        No       No          NaN              Nuevo   \n",
       "\n",
       "             Línea           Modelo Edición del sistema operativo  \\\n",
       "11451  MacBook Pro  Macbook Pro 16\"                           NaN   \n",
       "\n",
       "      Nombre del sistema operativo Versión del sistema operativo  \\\n",
       "11451                        macOS                      Monterey   \n",
       "\n",
       "      Marca del procesador Línea del procesador Memoria RAM  \\\n",
       "11451                Apple               M1 Pro       32 GB   \n",
       "\n",
       "      Tipo de memoria RAM Capacidad del SSD  Cantidad total de puertos USB  \\\n",
       "11451                 NaN              4 TB                            NaN   \n",
       "\n",
       "          Peso Con Bluetooth Con puerto ethernet Con HDMI  \\\n",
       "11451  2.15 kg           NaN                 NaN       Sí   \n",
       "\n",
       "      Con salida para auriculares Con lector de tarjeta de memoria  \\\n",
       "11451                         NaN                              NaN   \n",
       "\n",
       "      Con micrófono Con pantalla táctil Con cámara web Con Wi-Fi Profundidad  \\\n",
       "11451           NaN                  No            NaN       NaN    24.81 cm   \n",
       "\n",
       "      Altura Modos de sonido Puertos USB Puertos de video     Ancho Con USB  \\\n",
       "11451    NaN             NaN         NaN              NaN  35.57 cm      Sí   \n",
       "\n",
       "            Tipo de garantía Tiempo de garantía  \n",
       "11451  Garantía del vendedor            6 meses  "
      ]
     },
     "execution_count": 30,
     "metadata": {},
     "output_type": "execute_result"
    }
   ],
   "source": [
    "df[df.price > 2500000]"
   ]
  },
  {
   "cell_type": "markdown",
   "metadata": {},
   "source": [
    "Tiene sentido esta computadora que es una MAC de alto nivel, por lo tanto no la eliminaremos del dataframe.\n",
    "\n",
    "### Marca  \n",
    "Como existen muchas marcas se procede a agrupar aquellas que aparezcan menos de 100 veces, bajo el nombre \"Otros\". Se entiende que las marcas más populares estan dentro de las que tienen mas de 100 y que no sería tan relevante dejar el nombre de una marca que aparece menos de 100 veces."
   ]
  },
  {
   "cell_type": "code",
   "execution_count": 32,
   "metadata": {
    "executionInfo": {
     "elapsed": 8,
     "status": "ok",
     "timestamp": 1660264555391,
     "user": {
      "displayName": "Martina Di Carlo",
      "userId": "17054237212499031598"
     },
     "user_tz": 180
    },
    "id": "KYWMddgRV2vS"
   },
   "outputs": [],
   "source": [
    "marcas = df.Marca.value_counts().to_frame()\n",
    "marcas[\"condicion\"] = marcas.index\n",
    "marcas.loc[marcas[\"Marca\"] < 100, \"condicion\"] = \"Otro\"\n",
    "marcas = marcas.rename_axis('Marca_Original').reset_index()\n",
    "marcas.columns = [\"Marca_Original\", \"Cantidad\", \"Marca_Nueva\"]\n",
    "marcas.tail()\n",
    "\n",
    "del marcas[\"Cantidad\"]"
   ]
  },
  {
   "cell_type": "code",
   "execution_count": 33,
   "metadata": {
    "executionInfo": {
     "elapsed": 7,
     "status": "ok",
     "timestamp": 1660264555391,
     "user": {
      "displayName": "Martina Di Carlo",
      "userId": "17054237212499031598"
     },
     "user_tz": 180
    },
    "id": "7qK8aqjcXEAd"
   },
   "outputs": [],
   "source": [
    "df = df.merge(marcas,\n",
    "         how = \"left\",\n",
    "         left_on = \"Marca\",\n",
    "         right_on = \"Marca_Original\")\n"
   ]
  },
  {
   "cell_type": "code",
   "execution_count": 35,
   "metadata": {
    "executionInfo": {
     "elapsed": 7,
     "status": "ok",
     "timestamp": 1660264555392,
     "user": {
      "displayName": "Martina Di Carlo",
      "userId": "17054237212499031598"
     },
     "user_tz": 180
    },
    "id": "XpW5vSRXbBWp"
   },
   "outputs": [],
   "source": [
    "del df[\"Marca_Original\"], df[\"Marca\"]\n",
    "df.rename(columns = {\"Marca_Nueva\" : \"Marca\"}, inplace = True)"
   ]
  },
  {
   "cell_type": "code",
   "execution_count": 43,
   "metadata": {
    "colab": {
     "base_uri": "https://localhost:8080/",
     "height": 464
    },
    "executionInfo": {
     "elapsed": 651,
     "status": "ok",
     "timestamp": 1660264556037,
     "user": {
      "displayName": "Martina Di Carlo",
      "userId": "17054237212499031598"
     },
     "user_tz": 180
    },
    "id": "zvjrPSaAZ5vH",
    "outputId": "970199ce-8caa-4071-a07e-57db6f3ecf73"
   },
   "outputs": [
    {
     "data": {
      "image/png": "[encoded data removed]",
      "text/plain": [
       "<Figure size 1000x600 with 1 Axes>"
      ]
     },
     "metadata": {},
     "output_type": "display_data"
    }
   ],
   "source": [
    "sns.set_theme(style=\"whitegrid\", palette=\"pastel\")\n",
    "\n",
    "plt.figure(figsize=(10,6))\n",
    "ax = sns.boxplot(x=\"price\", data=df, y = \"Marca\")  \n",
    "ax.set_title(\"Precio de la notebook por marca\", size=14, family='serif') \n",
    "plt.ylabel('Marca', size=12, family='serif')  \n",
    "plt.xlabel('Precio', size=12, family='serif')  \n",
    "plt.show()"
   ]
  },
  {
   "cell_type": "code",
   "execution_count": 46,
   "metadata": {
    "colab": {
     "base_uri": "https://localhost:8080/",
     "height": 464
    },
    "executionInfo": {
     "elapsed": 18,
     "status": "ok",
     "timestamp": 1660264556038,
     "user": {
      "displayName": "Martina Di Carlo",
      "userId": "17054237212499031598"
     },
     "user_tz": 180
    },
    "id": "5-Il2V67bU4x",
    "outputId": "63df418d-de8f-4d2e-97d7-1432a6bc29b4"
   },
   "outputs": [
    {
     "data": {
      "image/png": "[encoded data removed]",
      "text/plain": [
       "<Figure size 800x400 with 1 Axes>"
      ]
     },
     "metadata": {},
     "output_type": "display_data"
    }
   ],
   "source": [
    "sns.set_theme(style=\"whitegrid\", palette=\"pastel\")\n",
    "\n",
    "plt.figure(figsize=(8,4))\n",
    "ax = sns.boxplot(x=\"price\", data=df[df[\"price\"] < 1.000000e+07], y = \"Es gamer\")\n",
    "ax.set_title(\"Gamer\", size=14, family='serif') \n",
    "plt.ylabel('Gamer', size=12, family='serif')  \n",
    "plt.xlabel('Precio', size=12, family='serif')  \n",
    "plt.show()"
   ]
  },
  {
   "cell_type": "markdown",
   "metadata": {
    "id": "wRsLk_sRfBDP"
   },
   "source": [
    "## Procesador"
   ]
  },
  {
   "cell_type": "code",
   "execution_count": 48,
   "metadata": {
    "colab": {
     "base_uri": "https://localhost:8080/",
     "height": 206
    },
    "executionInfo": {
     "elapsed": 16,
     "status": "ok",
     "timestamp": 1660264556038,
     "user": {
      "displayName": "Martina Di Carlo",
      "userId": "17054237212499031598"
     },
     "user_tz": 180
    },
    "id": "AaUd7EeLcdw0",
    "outputId": "ad4ad79f-03b7-41ed-94f2-4cf368ab88d6"
   },
   "outputs": [
    {
     "data": {
      "text/html": [
       "<div>\n",
       "<style scoped>\n",
       "    .dataframe tbody tr th:only-of-type {\n",
       "        vertical-align: middle;\n",
       "    }\n",
       "\n",
       "    .dataframe tbody tr th {\n",
       "        vertical-align: top;\n",
       "    }\n",
       "\n",
       "    .dataframe thead th {\n",
       "        text-align: right;\n",
       "    }\n",
       "</style>\n",
       "<table border=\"1\" class=\"dataframe\">\n",
       "  <thead>\n",
       "    <tr style=\"text-align: right;\">\n",
       "      <th></th>\n",
       "      <th>Línea del procesador</th>\n",
       "    </tr>\n",
       "  </thead>\n",
       "  <tbody>\n",
       "    <tr>\n",
       "      <th>Core i5</th>\n",
       "      <td>2286</td>\n",
       "    </tr>\n",
       "    <tr>\n",
       "      <th>Core i3</th>\n",
       "      <td>1463</td>\n",
       "    </tr>\n",
       "    <tr>\n",
       "      <th>Core i7</th>\n",
       "      <td>1206</td>\n",
       "    </tr>\n",
       "    <tr>\n",
       "      <th>Celeron</th>\n",
       "      <td>891</td>\n",
       "    </tr>\n",
       "    <tr>\n",
       "      <th>Ryzen 5</th>\n",
       "      <td>672</td>\n",
       "    </tr>\n",
       "    <tr>\n",
       "      <th>Ryzen 3</th>\n",
       "      <td>270</td>\n",
       "    </tr>\n",
       "    <tr>\n",
       "      <th>Ryzen 7</th>\n",
       "      <td>212</td>\n",
       "    </tr>\n",
       "    <tr>\n",
       "      <th>AMD Ryzen 3 3250U</th>\n",
       "      <td>144</td>\n",
       "    </tr>\n",
       "    <tr>\n",
       "      <th>i5-1135G7</th>\n",
       "      <td>105</td>\n",
       "    </tr>\n",
       "    <tr>\n",
       "      <th>Pentium Silver</th>\n",
       "      <td>96</td>\n",
       "    </tr>\n",
       "  </tbody>\n",
       "</table>\n",
       "</div>"
      ],
      "text/plain": [
       "                   Línea del procesador\n",
       "Core i5                            2286\n",
       "Core i3                            1463\n",
       "Core i7                            1206\n",
       "Celeron                             891\n",
       "Ryzen 5                             672\n",
       "Ryzen 3                             270\n",
       "Ryzen 7                             212\n",
       "AMD Ryzen 3 3250U                   144\n",
       "i5-1135G7                           105\n",
       "Pentium Silver                       96"
      ]
     },
     "execution_count": 48,
     "metadata": {},
     "output_type": "execute_result"
    }
   ],
   "source": [
    "df[\"Línea del procesador\"].value_counts().to_frame().head(10)"
   ]
  },
  {
   "cell_type": "code",
   "execution_count": 49,
   "metadata": {
    "colab": {
     "base_uri": "https://localhost:8080/"
    },
    "executionInfo": {
     "elapsed": 8,
     "status": "ok",
     "timestamp": 1660264556038,
     "user": {
      "displayName": "Martina Di Carlo",
      "userId": "17054237212499031598"
     },
     "user_tz": 180
    },
    "id": "B_r8tVAJcr2L",
    "outputId": "5368a563-4f1b-4bd1-d0a0-3301034b285c"
   },
   "outputs": [
    {
     "data": {
      "text/plain": [
       "381"
      ]
     },
     "execution_count": 49,
     "metadata": {},
     "output_type": "execute_result"
    }
   ],
   "source": [
    "df[\"Línea del procesador\"].nunique()"
   ]
  },
  {
   "cell_type": "code",
   "execution_count": 51,
   "metadata": {
    "executionInfo": {
     "elapsed": 429,
     "status": "ok",
     "timestamp": 1660264556462,
     "user": {
      "displayName": "Martina Di Carlo",
      "userId": "17054237212499031598"
     },
     "user_tz": 180
    },
    "id": "au3hhFPqfAma"
   },
   "outputs": [],
   "source": [
    "condic_i3 = df[\"Línea del procesador\"].str.lower().str.contains(\"i3\", na=False)\n",
    "condic_i5 = df[\"Línea del procesador\"].str.lower().str.contains(\"i5\", na=False)\n",
    "condic_i7 = df[\"Línea del procesador\"].str.lower().str.contains(\"i7\", na=False)\n",
    "condic_i9 = df[\"Línea del procesador\"].str.lower().str.contains(\"i9\", na=False)\n",
    "\n",
    "df[\"linea_procesador\"] = df[\"Línea del procesador\"].copy()\n",
    "df.loc[condic_i3, \"linea_procesador\"] = \"Core i3\"\n",
    "df.loc[condic_i5, \"linea_procesador\"] = \"Core i5\"\n",
    "df.loc[condic_i7, \"linea_procesador\"] = \"Core i7\"\n",
    "df.loc[condic_i9, \"linea_procesador\"] = \"Core i9\""
   ]
  },
  {
   "cell_type": "code",
   "execution_count": 52,
   "metadata": {
    "executionInfo": {
     "elapsed": 13,
     "status": "ok",
     "timestamp": 1660264556462,
     "user": {
      "displayName": "Martina Di Carlo",
      "userId": "17054237212499031598"
     },
     "user_tz": 180
    },
    "id": "0Og0ILBQf9f9"
   },
   "outputs": [],
   "source": [
    "cond_ryzen = df[\"Línea del procesador\"].str.lower().str.contains(\"ryzen\", na=False)\n",
    "condic_r3 = df[\"Línea del procesador\"].str.lower().str.contains(\"3\", na=False)\n",
    "condic_r5 = df[\"Línea del procesador\"].str.lower().str.contains(\"5\", na=False)\n",
    "condic_r7 = df[\"Línea del procesador\"].str.lower().str.contains(\"7\", na=False)\n",
    "condic_r9 = df[\"Línea del procesador\"].str.lower().str.contains(\"9\", na=False)\n",
    "\n",
    "\n",
    "df.loc[condic_r3 & cond_ryzen, \"linea_procesador\"] = \"Ryzen 3\"\n",
    "df.loc[condic_r5& cond_ryzen, \"linea_procesador\"] = \"Ryzen 5\"\n",
    "df.loc[condic_r7& cond_ryzen, \"linea_procesador\"] = \"Ryzen 7\"\n",
    "df.loc[condic_r9& cond_ryzen, \"linea_procesador\"] = \"Ryzen 9\"\n"
   ]
  },
  {
   "cell_type": "code",
   "execution_count": 53,
   "metadata": {
    "executionInfo": {
     "elapsed": 14,
     "status": "ok",
     "timestamp": 1660264556463,
     "user": {
      "displayName": "Martina Di Carlo",
      "userId": "17054237212499031598"
     },
     "user_tz": 180
    },
    "id": "pYXBGvBVh_e2"
   },
   "outputs": [],
   "source": [
    "\n",
    "condic_a6 = df[\"Línea del procesador\"].str.lower().str.contains(\"a6\", na=False)\n",
    "condic_a8 = df[\"Línea del procesador\"].str.lower().str.contains(\"a8\", na=False)\n",
    "condic_a10 = df[\"Línea del procesador\"].str.lower().str.contains(\"a10\", na=False)\n",
    "condic_a12 = df[\"Línea del procesador\"].str.lower().str.contains(\"a12\", na=False)\n",
    "\n",
    "\n",
    "df.loc[condic_a6, \"linea_procesador\"] = \"AMD A6\"\n",
    "df.loc[condic_a8, \"linea_procesador\"] = \"AMD A8\"\n",
    "df.loc[condic_a10, \"linea_procesador\"] = \"AMD A10\"\n",
    "df.loc[condic_a12, \"linea_procesador\"] = \"AMD A12\""
   ]
  },
  {
   "cell_type": "code",
   "execution_count": 54,
   "metadata": {
    "executionInfo": {
     "elapsed": 13,
     "status": "ok",
     "timestamp": 1660264556463,
     "user": {
      "displayName": "Martina Di Carlo",
      "userId": "17054237212499031598"
     },
     "user_tz": 180
    },
    "id": "V9-XeAKWgpt3"
   },
   "outputs": [],
   "source": [
    "cond_celeron = df[\"Línea del procesador\"].str.lower().str.contains(\"celeron\", na=False)\n",
    "df.loc[cond_celeron, \"linea_procesador\"] = \"Celeron\""
   ]
  },
  {
   "cell_type": "code",
   "execution_count": 55,
   "metadata": {
    "executionInfo": {
     "elapsed": 13,
     "status": "ok",
     "timestamp": 1660264556463,
     "user": {
      "displayName": "Martina Di Carlo",
      "userId": "17054237212499031598"
     },
     "user_tz": 180
    },
    "id": "736cKipzhXoz"
   },
   "outputs": [],
   "source": [
    "cond_pentium = df[\"Línea del procesador\"].str.lower().str.contains(\"pentium\", na=False)\n",
    "df.loc[cond_pentium, \"linea_procesador\"] = \"Pentium\""
   ]
  },
  {
   "cell_type": "code",
   "execution_count": 56,
   "metadata": {
    "executionInfo": {
     "elapsed": 13,
     "status": "ok",
     "timestamp": 1660264556463,
     "user": {
      "displayName": "Martina Di Carlo",
      "userId": "17054237212499031598"
     },
     "user_tz": 180
    },
    "id": "nr_v3FoVhll5"
   },
   "outputs": [],
   "source": [
    "cond_athlon = df[\"Línea del procesador\"].str.lower().str.contains(\"athlon\", na=False)\n",
    "df.loc[cond_athlon, \"linea_procesador\"] = \"Athlon\""
   ]
  },
  {
   "cell_type": "code",
   "execution_count": 57,
   "metadata": {
    "executionInfo": {
     "elapsed": 13,
     "status": "ok",
     "timestamp": 1660264556463,
     "user": {
      "displayName": "Martina Di Carlo",
      "userId": "17054237212499031598"
     },
     "user_tz": 180
    },
    "id": "pM6jSoRdicQS"
   },
   "outputs": [],
   "source": [
    "cond_sempron = df[\"Línea del procesador\"].str.lower().str.contains(\"sempron\", na=False)\n",
    "df.loc[cond_sempron, \"linea_procesador\"] = \"Sempron\""
   ]
  },
  {
   "cell_type": "code",
   "execution_count": 58,
   "metadata": {
    "executionInfo": {
     "elapsed": 14,
     "status": "ok",
     "timestamp": 1660264556464,
     "user": {
      "displayName": "Martina Di Carlo",
      "userId": "17054237212499031598"
     },
     "user_tz": 180
    },
    "id": "AZ3CSqG6g0FI"
   },
   "outputs": [],
   "source": [
    "cond_m1 = df[\"Línea del procesador\"].str.lower().str.contains(\"m1\", na=False)\n",
    "df.loc[cond_m1, \"linea_procesador\"] = \"M1\"\n",
    "\n",
    "cond_m2 = df[\"Línea del procesador\"].str.lower().str.contains(\"m2\", na=False)\n",
    "df.loc[cond_m2, \"linea_procesador\"] = \"M2\""
   ]
  },
  {
   "cell_type": "code",
   "execution_count": 59,
   "metadata": {
    "colab": {
     "base_uri": "https://localhost:8080/"
    },
    "executionInfo": {
     "elapsed": 13,
     "status": "ok",
     "timestamp": 1660264556464,
     "user": {
      "displayName": "Martina Di Carlo",
      "userId": "17054237212499031598"
     },
     "user_tz": 180
    },
    "id": "vGtgFb3BfjR3",
    "outputId": "ba19edb4-bc0a-40af-dd7d-42302a8deb0d"
   },
   "outputs": [
    {
     "data": {
      "text/plain": [
       "21"
      ]
     },
     "execution_count": 59,
     "metadata": {},
     "output_type": "execute_result"
    }
   ],
   "source": [
    "df[\"linea_procesador\"].nunique()"
   ]
  },
  {
   "cell_type": "code",
   "execution_count": 60,
   "metadata": {
    "colab": {
     "base_uri": "https://localhost:8080/",
     "height": 206
    },
    "executionInfo": {
     "elapsed": 13,
     "status": "ok",
     "timestamp": 1660264556464,
     "user": {
      "displayName": "Martina Di Carlo",
      "userId": "17054237212499031598"
     },
     "user_tz": 180
    },
    "id": "qkQjYVcSfz0x",
    "outputId": "df92b09c-6040-4719-ce30-cec0b1d3a03e"
   },
   "outputs": [
    {
     "data": {
      "text/html": [
       "\n",
       "  <div id=\"df-0953b505-e0f3-4781-b388-110c100c1539\">\n",
       "    <div class=\"colab-df-container\">\n",
       "      <div>\n",
       "<style scoped>\n",
       "    .dataframe tbody tr th:only-of-type {\n",
       "        vertical-align: middle;\n",
       "    }\n",
       "\n",
       "    .dataframe tbody tr th {\n",
       "        vertical-align: top;\n",
       "    }\n",
       "\n",
       "    .dataframe thead th {\n",
       "        text-align: right;\n",
       "    }\n",
       "</style>\n",
       "<table border=\"1\" class=\"dataframe\">\n",
       "  <thead>\n",
       "    <tr style=\"text-align: right;\">\n",
       "      <th></th>\n",
       "      <th>linea_procesador_Original</th>\n",
       "      <th>Cantidad</th>\n",
       "      <th>linea_procesador_Nueva</th>\n",
       "    </tr>\n",
       "  </thead>\n",
       "  <tbody>\n",
       "    <tr>\n",
       "      <th>16</th>\n",
       "      <td>CORE I 7 1165G7</td>\n",
       "      <td>1</td>\n",
       "      <td>Otro</td>\n",
       "    </tr>\n",
       "    <tr>\n",
       "      <th>17</th>\n",
       "      <td>Intel Apollo N3350 (Max. 2.4GHz)</td>\n",
       "      <td>1</td>\n",
       "      <td>Otro</td>\n",
       "    </tr>\n",
       "    <tr>\n",
       "      <th>18</th>\n",
       "      <td>A4-Series</td>\n",
       "      <td>1</td>\n",
       "      <td>Otro</td>\n",
       "    </tr>\n",
       "    <tr>\n",
       "      <th>19</th>\n",
       "      <td>N4020</td>\n",
       "      <td>1</td>\n",
       "      <td>Otro</td>\n",
       "    </tr>\n",
       "    <tr>\n",
       "      <th>20</th>\n",
       "      <td>A9-Series</td>\n",
       "      <td>1</td>\n",
       "      <td>Otro</td>\n",
       "    </tr>\n",
       "  </tbody>\n",
       "</table>\n",
       "</div>\n",
       "      <button class=\"colab-df-convert\" onclick=\"convertToInteractive('df-0953b505-e0f3-4781-b388-110c100c1539')\"\n",
       "              title=\"Convert this dataframe to an interactive table.\"\n",
       "              style=\"display:none;\">\n",
       "        \n",
       "  <svg xmlns=\"http://www.w3.org/2000/svg\" height=\"24px\"viewBox=\"0 0 24 24\"\n",
       "       width=\"24px\">\n",
       "    <path d=\"M0 0h24v24H0V0z\" fill=\"none\"/>\n",
       "    <path d=\"M18.56 5.44l.94 2.06.94-2.06 2.06-.94-2.06-.94-.94-2.06-.94 2.06-2.06.94zm-11 1L8.5 8.5l.94-2.06 2.06-.94-2.06-.94L8.5 2.5l-.94 2.06-2.06.94zm10 10l.94 2.06.94-2.06 2.06-.94-2.06-.94-.94-2.06-.94 2.06-2.06.94z\"/><path d=\"M17.41 7.96l-1.37-1.37c-.4-.4-.92-.59-1.43-.59-.52 0-1.04.2-1.43.59L10.3 9.45l-7.72 7.72c-.78.78-.78 2.05 0 2.83L4 21.41c.39.39.9.59 1.41.59.51 0 1.02-.2 1.41-.59l7.78-7.78 2.81-2.81c.8-.78.8-2.07 0-2.86zM5.41 20L4 18.59l7.72-7.72 1.47 1.35L5.41 20z\"/>\n",
       "  </svg>\n",
       "      </button>\n",
       "      \n",
       "  <style>\n",
       "    .colab-df-container {\n",
       "      display:flex;\n",
       "      flex-wrap:wrap;\n",
       "      gap: 12px;\n",
       "    }\n",
       "\n",
       "    .colab-df-convert {\n",
       "      background-color: #E8F0FE;\n",
       "      border: none;\n",
       "      border-radius: 50%;\n",
       "      cursor: pointer;\n",
       "      display: none;\n",
       "      fill: #1967D2;\n",
       "      height: 32px;\n",
       "      padding: 0 0 0 0;\n",
       "      width: 32px;\n",
       "    }\n",
       "\n",
       "    .colab-df-convert:hover {\n",
       "      background-color: #E2EBFA;\n",
       "      box-shadow: 0px 1px 2px rgba(60, 64, 67, 0.3), 0px 1px 3px 1px rgba(60, 64, 67, 0.15);\n",
       "      fill: #174EA6;\n",
       "    }\n",
       "\n",
       "    [theme=dark] .colab-df-convert {\n",
       "      background-color: #3B4455;\n",
       "      fill: #D2E3FC;\n",
       "    }\n",
       "\n",
       "    [theme=dark] .colab-df-convert:hover {\n",
       "      background-color: #434B5C;\n",
       "      box-shadow: 0px 1px 3px 1px rgba(0, 0, 0, 0.15);\n",
       "      filter: drop-shadow(0px 1px 2px rgba(0, 0, 0, 0.3));\n",
       "      fill: #FFFFFF;\n",
       "    }\n",
       "  </style>\n",
       "\n",
       "      <script>\n",
       "        const buttonEl =\n",
       "          document.querySelector('#df-0953b505-e0f3-4781-b388-110c100c1539 button.colab-df-convert');\n",
       "        buttonEl.style.display =\n",
       "          google.colab.kernel.accessAllowed ? 'block' : 'none';\n",
       "\n",
       "        async function convertToInteractive(key) {\n",
       "          const element = document.querySelector('#df-0953b505-e0f3-4781-b388-110c100c1539');\n",
       "          const dataTable =\n",
       "            await google.colab.kernel.invokeFunction('convertToInteractive',\n",
       "                                                     [key], {});\n",
       "          if (!dataTable) return;\n",
       "\n",
       "          const docLinkHtml = 'Like what you see? Visit the ' +\n",
       "            '<a target=\"_blank\" href=https://colab.research.google.com/notebooks/data_table.ipynb>data table notebook</a>'\n",
       "            + ' to learn more about interactive tables.';\n",
       "          element.innerHTML = '';\n",
       "          dataTable['output_type'] = 'display_data';\n",
       "          await google.colab.output.renderOutput(dataTable, element);\n",
       "          const docLink = document.createElement('div');\n",
       "          docLink.innerHTML = docLinkHtml;\n",
       "          element.appendChild(docLink);\n",
       "        }\n",
       "      </script>\n",
       "    </div>\n",
       "  </div>\n",
       "  "
      ],
      "text/plain": [
       "           linea_procesador_Original  Cantidad linea_procesador_Nueva\n",
       "16                   CORE I 7 1165G7         1                   Otro\n",
       "17  Intel Apollo N3350 (Max. 2.4GHz)         1                   Otro\n",
       "18                         A4-Series         1                   Otro\n",
       "19                             N4020         1                   Otro\n",
       "20                         A9-Series         1                   Otro"
      ]
     },
     "execution_count": 60,
     "metadata": {},
     "output_type": "execute_result"
    }
   ],
   "source": [
    "proc = df.linea_procesador.value_counts().to_frame()\n",
    "proc[\"condicion\"] = proc.index\n",
    "proc.loc[proc[\"linea_procesador\"] < 9, \"condicion\"] = \"Otro\"\n",
    "proc = proc.rename_axis('linea_procesador_Original').reset_index()\n",
    "proc.columns = [\"linea_procesador_Original\", \"Cantidad\", \"linea_procesador_Nueva\"]\n",
    "proc.tail()\n"
   ]
  },
  {
   "cell_type": "code",
   "execution_count": 61,
   "metadata": {
    "executionInfo": {
     "elapsed": 12,
     "status": "ok",
     "timestamp": 1660264556464,
     "user": {
      "displayName": "Martina Di Carlo",
      "userId": "17054237212499031598"
     },
     "user_tz": 180
    },
    "id": "oUZPyzHGjTJe"
   },
   "outputs": [],
   "source": [
    "del proc[\"Cantidad\"]"
   ]
  },
  {
   "cell_type": "code",
   "execution_count": 62,
   "metadata": {
    "colab": {
     "base_uri": "https://localhost:8080/",
     "height": 409
    },
    "executionInfo": {
     "elapsed": 13,
     "status": "ok",
     "timestamp": 1660264556465,
     "user": {
      "displayName": "Martina Di Carlo",
      "userId": "17054237212499031598"
     },
     "user_tz": 180
    },
    "id": "SedwN6GhjG0q",
    "outputId": "96d9cfbb-4745-481e-e772-bf134a4b4c25"
   },
   "outputs": [
    {
     "data": {
      "text/html": [
       "\n",
       "  <div id=\"df-4c811644-6a21-4ca5-a6ff-1038fde6916b\">\n",
       "    <div class=\"colab-df-container\">\n",
       "      <div>\n",
       "<style scoped>\n",
       "    .dataframe tbody tr th:only-of-type {\n",
       "        vertical-align: middle;\n",
       "    }\n",
       "\n",
       "    .dataframe tbody tr th {\n",
       "        vertical-align: top;\n",
       "    }\n",
       "\n",
       "    .dataframe thead th {\n",
       "        text-align: right;\n",
       "    }\n",
       "</style>\n",
       "<table border=\"1\" class=\"dataframe\">\n",
       "  <thead>\n",
       "    <tr style=\"text-align: right;\">\n",
       "      <th></th>\n",
       "      <th>id</th>\n",
       "      <th>price</th>\n",
       "      <th>Resolución de la pantalla</th>\n",
       "      <th>Es gamer</th>\n",
       "      <th>Velocidad máxima del procesador</th>\n",
       "      <th>Capacidad del SSD</th>\n",
       "      <th>Memoria RAM</th>\n",
       "      <th>Velocidad de la memoria RAM</th>\n",
       "      <th>Línea del procesador</th>\n",
       "      <th>Marca del procesador</th>\n",
       "      <th>Capacidad del SSD</th>\n",
       "      <th>Frecuencia de actualización de la pantalla</th>\n",
       "      <th>Marca</th>\n",
       "      <th>linea_procesador</th>\n",
       "      <th>linea_procesador_Original</th>\n",
       "      <th>linea_procesador_Nueva</th>\n",
       "    </tr>\n",
       "  </thead>\n",
       "  <tbody>\n",
       "    <tr>\n",
       "      <th>0</th>\n",
       "      <td>MLA1129251702</td>\n",
       "      <td>164899.00000</td>\n",
       "      <td>1366 px x 768 px</td>\n",
       "      <td>Sí</td>\n",
       "      <td>NaN</td>\n",
       "      <td>256 GB</td>\n",
       "      <td>12 GB</td>\n",
       "      <td>NaN</td>\n",
       "      <td>Ryzen 7</td>\n",
       "      <td>AMD</td>\n",
       "      <td>256 GB</td>\n",
       "      <td>None</td>\n",
       "      <td>HP</td>\n",
       "      <td>Ryzen 7</td>\n",
       "      <td>Ryzen 7</td>\n",
       "      <td>Ryzen 7</td>\n",
       "    </tr>\n",
       "    <tr>\n",
       "      <th>1</th>\n",
       "      <td>MLA1147028688</td>\n",
       "      <td>129499.00000</td>\n",
       "      <td>1920 px x 1080 px</td>\n",
       "      <td>No</td>\n",
       "      <td>4 GHz</td>\n",
       "      <td>256 GB</td>\n",
       "      <td>8 GB</td>\n",
       "      <td>3200 MHz</td>\n",
       "      <td>Ryzen 5</td>\n",
       "      <td>AMD</td>\n",
       "      <td>256 GB</td>\n",
       "      <td>NaN</td>\n",
       "      <td>HP</td>\n",
       "      <td>Ryzen 5</td>\n",
       "      <td>Ryzen 5</td>\n",
       "      <td>Ryzen 5</td>\n",
       "    </tr>\n",
       "    <tr>\n",
       "      <th>2</th>\n",
       "      <td>MLA1110784573</td>\n",
       "      <td>66999.00000</td>\n",
       "      <td>1366 px x 768 px</td>\n",
       "      <td>No</td>\n",
       "      <td>NaN</td>\n",
       "      <td>128 GB</td>\n",
       "      <td>4 GB</td>\n",
       "      <td>NaN</td>\n",
       "      <td>Celeron</td>\n",
       "      <td>Intel</td>\n",
       "      <td>128 GB</td>\n",
       "      <td>60 Hz</td>\n",
       "      <td>Otro</td>\n",
       "      <td>Celeron</td>\n",
       "      <td>Celeron</td>\n",
       "      <td>Celeron</td>\n",
       "    </tr>\n",
       "    <tr>\n",
       "      <th>3</th>\n",
       "      <td>MLA1149134293</td>\n",
       "      <td>138100.00000</td>\n",
       "      <td>1920 px x 1080 px</td>\n",
       "      <td>NaN</td>\n",
       "      <td>3.6 GHz</td>\n",
       "      <td>512 GB</td>\n",
       "      <td>8 GB</td>\n",
       "      <td>2666 MHz</td>\n",
       "      <td>Core i5</td>\n",
       "      <td>Intel</td>\n",
       "      <td>512 GB</td>\n",
       "      <td>NaN</td>\n",
       "      <td>Lenovo</td>\n",
       "      <td>Core i5</td>\n",
       "      <td>Core i5</td>\n",
       "      <td>Core i5</td>\n",
       "    </tr>\n",
       "    <tr>\n",
       "      <th>4</th>\n",
       "      <td>MLA1140410405</td>\n",
       "      <td>129999.00000</td>\n",
       "      <td>1920 px x 1080 px</td>\n",
       "      <td>No</td>\n",
       "      <td>4.1 GHz</td>\n",
       "      <td>256 GB</td>\n",
       "      <td>8 GB</td>\n",
       "      <td>NaN</td>\n",
       "      <td>Core i3</td>\n",
       "      <td>Intel</td>\n",
       "      <td>256 GB</td>\n",
       "      <td>60 Hz</td>\n",
       "      <td>Otro</td>\n",
       "      <td>Core i3</td>\n",
       "      <td>Core i3</td>\n",
       "      <td>Core i3</td>\n",
       "    </tr>\n",
       "  </tbody>\n",
       "</table>\n",
       "</div>\n",
       "      <button class=\"colab-df-convert\" onclick=\"convertToInteractive('df-4c811644-6a21-4ca5-a6ff-1038fde6916b')\"\n",
       "              title=\"Convert this dataframe to an interactive table.\"\n",
       "              style=\"display:none;\">\n",
       "        \n",
       "  <svg xmlns=\"http://www.w3.org/2000/svg\" height=\"24px\"viewBox=\"0 0 24 24\"\n",
       "       width=\"24px\">\n",
       "    <path d=\"M0 0h24v24H0V0z\" fill=\"none\"/>\n",
       "    <path d=\"M18.56 5.44l.94 2.06.94-2.06 2.06-.94-2.06-.94-.94-2.06-.94 2.06-2.06.94zm-11 1L8.5 8.5l.94-2.06 2.06-.94-2.06-.94L8.5 2.5l-.94 2.06-2.06.94zm10 10l.94 2.06.94-2.06 2.06-.94-2.06-.94-.94-2.06-.94 2.06-2.06.94z\"/><path d=\"M17.41 7.96l-1.37-1.37c-.4-.4-.92-.59-1.43-.59-.52 0-1.04.2-1.43.59L10.3 9.45l-7.72 7.72c-.78.78-.78 2.05 0 2.83L4 21.41c.39.39.9.59 1.41.59.51 0 1.02-.2 1.41-.59l7.78-7.78 2.81-2.81c.8-.78.8-2.07 0-2.86zM5.41 20L4 18.59l7.72-7.72 1.47 1.35L5.41 20z\"/>\n",
       "  </svg>\n",
       "      </button>\n",
       "      \n",
       "  <style>\n",
       "    .colab-df-container {\n",
       "      display:flex;\n",
       "      flex-wrap:wrap;\n",
       "      gap: 12px;\n",
       "    }\n",
       "\n",
       "    .colab-df-convert {\n",
       "      background-color: #E8F0FE;\n",
       "      border: none;\n",
       "      border-radius: 50%;\n",
       "      cursor: pointer;\n",
       "      display: none;\n",
       "      fill: #1967D2;\n",
       "      height: 32px;\n",
       "      padding: 0 0 0 0;\n",
       "      width: 32px;\n",
       "    }\n",
       "\n",
       "    .colab-df-convert:hover {\n",
       "      background-color: #E2EBFA;\n",
       "      box-shadow: 0px 1px 2px rgba(60, 64, 67, 0.3), 0px 1px 3px 1px rgba(60, 64, 67, 0.15);\n",
       "      fill: #174EA6;\n",
       "    }\n",
       "\n",
       "    [theme=dark] .colab-df-convert {\n",
       "      background-color: #3B4455;\n",
       "      fill: #D2E3FC;\n",
       "    }\n",
       "\n",
       "    [theme=dark] .colab-df-convert:hover {\n",
       "      background-color: #434B5C;\n",
       "      box-shadow: 0px 1px 3px 1px rgba(0, 0, 0, 0.15);\n",
       "      filter: drop-shadow(0px 1px 2px rgba(0, 0, 0, 0.3));\n",
       "      fill: #FFFFFF;\n",
       "    }\n",
       "  </style>\n",
       "\n",
       "      <script>\n",
       "        const buttonEl =\n",
       "          document.querySelector('#df-4c811644-6a21-4ca5-a6ff-1038fde6916b button.colab-df-convert');\n",
       "        buttonEl.style.display =\n",
       "          google.colab.kernel.accessAllowed ? 'block' : 'none';\n",
       "\n",
       "        async function convertToInteractive(key) {\n",
       "          const element = document.querySelector('#df-4c811644-6a21-4ca5-a6ff-1038fde6916b');\n",
       "          const dataTable =\n",
       "            await google.colab.kernel.invokeFunction('convertToInteractive',\n",
       "                                                     [key], {});\n",
       "          if (!dataTable) return;\n",
       "\n",
       "          const docLinkHtml = 'Like what you see? Visit the ' +\n",
       "            '<a target=\"_blank\" href=https://colab.research.google.com/notebooks/data_table.ipynb>data table notebook</a>'\n",
       "            + ' to learn more about interactive tables.';\n",
       "          element.innerHTML = '';\n",
       "          dataTable['output_type'] = 'display_data';\n",
       "          await google.colab.output.renderOutput(dataTable, element);\n",
       "          const docLink = document.createElement('div');\n",
       "          docLink.innerHTML = docLinkHtml;\n",
       "          element.appendChild(docLink);\n",
       "        }\n",
       "      </script>\n",
       "    </div>\n",
       "  </div>\n",
       "  "
      ],
      "text/plain": [
       "              id        price Resolución de la pantalla Es gamer  \\\n",
       "0  MLA1129251702 164899.00000          1366 px x 768 px       Sí   \n",
       "1  MLA1147028688 129499.00000         1920 px x 1080 px       No   \n",
       "2  MLA1110784573  66999.00000          1366 px x 768 px       No   \n",
       "3  MLA1149134293 138100.00000         1920 px x 1080 px      NaN   \n",
       "4  MLA1140410405 129999.00000         1920 px x 1080 px       No   \n",
       "\n",
       "  Velocidad máxima del procesador Capacidad del SSD Memoria RAM  \\\n",
       "0                             NaN            256 GB       12 GB   \n",
       "1                           4 GHz            256 GB        8 GB   \n",
       "2                             NaN            128 GB        4 GB   \n",
       "3                         3.6 GHz            512 GB        8 GB   \n",
       "4                         4.1 GHz            256 GB        8 GB   \n",
       "\n",
       "  Velocidad de la memoria RAM Línea del procesador Marca del procesador  \\\n",
       "0                         NaN              Ryzen 7                  AMD   \n",
       "1                    3200 MHz              Ryzen 5                  AMD   \n",
       "2                         NaN              Celeron                Intel   \n",
       "3                    2666 MHz              Core i5                Intel   \n",
       "4                         NaN              Core i3                Intel   \n",
       "\n",
       "  Capacidad del SSD Frecuencia de actualización de la pantalla   Marca  \\\n",
       "0            256 GB                                       None      HP   \n",
       "1            256 GB                                        NaN      HP   \n",
       "2            128 GB                                      60 Hz    Otro   \n",
       "3            512 GB                                        NaN  Lenovo   \n",
       "4            256 GB                                      60 Hz    Otro   \n",
       "\n",
       "  linea_procesador linea_procesador_Original linea_procesador_Nueva  \n",
       "0          Ryzen 7                   Ryzen 7                Ryzen 7  \n",
       "1          Ryzen 5                   Ryzen 5                Ryzen 5  \n",
       "2          Celeron                   Celeron                Celeron  \n",
       "3          Core i5                   Core i5                Core i5  \n",
       "4          Core i3                   Core i3                Core i3  "
      ]
     },
     "execution_count": 62,
     "metadata": {},
     "output_type": "execute_result"
    }
   ],
   "source": [
    "df = df.merge(proc,\n",
    "         how = \"left\",\n",
    "         left_on = \"linea_procesador\",\n",
    "         right_on = \"linea_procesador_Original\")\n",
    "df.head()"
   ]
  },
  {
   "cell_type": "code",
   "execution_count": 63,
   "metadata": {
    "colab": {
     "base_uri": "https://localhost:8080/",
     "height": 285
    },
    "executionInfo": {
     "elapsed": 12,
     "status": "ok",
     "timestamp": 1660264556465,
     "user": {
      "displayName": "Martina Di Carlo",
      "userId": "17054237212499031598"
     },
     "user_tz": 180
    },
    "id": "QKSp_yjujZYn",
    "outputId": "5e80fa7e-24e5-4324-e1d1-7179333436ed"
   },
   "outputs": [
    {
     "data": {
      "text/html": [
       "\n",
       "  <div id=\"df-150ccbfa-31f7-4462-a3ac-0cd4a79b9fa2\">\n",
       "    <div class=\"colab-df-container\">\n",
       "      <div>\n",
       "<style scoped>\n",
       "    .dataframe tbody tr th:only-of-type {\n",
       "        vertical-align: middle;\n",
       "    }\n",
       "\n",
       "    .dataframe tbody tr th {\n",
       "        vertical-align: top;\n",
       "    }\n",
       "\n",
       "    .dataframe thead th {\n",
       "        text-align: right;\n",
       "    }\n",
       "</style>\n",
       "<table border=\"1\" class=\"dataframe\">\n",
       "  <thead>\n",
       "    <tr style=\"text-align: right;\">\n",
       "      <th></th>\n",
       "      <th>id</th>\n",
       "      <th>price</th>\n",
       "      <th>Resolución de la pantalla</th>\n",
       "      <th>Es gamer</th>\n",
       "      <th>Velocidad máxima del procesador</th>\n",
       "      <th>Capacidad del SSD</th>\n",
       "      <th>Memoria RAM</th>\n",
       "      <th>Velocidad de la memoria RAM</th>\n",
       "      <th>Marca del procesador</th>\n",
       "      <th>Capacidad del SSD</th>\n",
       "      <th>Frecuencia de actualización de la pantalla</th>\n",
       "      <th>Marca</th>\n",
       "      <th>linea_procesador</th>\n",
       "    </tr>\n",
       "  </thead>\n",
       "  <tbody>\n",
       "    <tr>\n",
       "      <th>0</th>\n",
       "      <td>MLA1129251702</td>\n",
       "      <td>164899.00000</td>\n",
       "      <td>1366 px x 768 px</td>\n",
       "      <td>Sí</td>\n",
       "      <td>NaN</td>\n",
       "      <td>256 GB</td>\n",
       "      <td>12 GB</td>\n",
       "      <td>NaN</td>\n",
       "      <td>AMD</td>\n",
       "      <td>256 GB</td>\n",
       "      <td>None</td>\n",
       "      <td>HP</td>\n",
       "      <td>Ryzen 7</td>\n",
       "    </tr>\n",
       "    <tr>\n",
       "      <th>1</th>\n",
       "      <td>MLA1147028688</td>\n",
       "      <td>129499.00000</td>\n",
       "      <td>1920 px x 1080 px</td>\n",
       "      <td>No</td>\n",
       "      <td>4 GHz</td>\n",
       "      <td>256 GB</td>\n",
       "      <td>8 GB</td>\n",
       "      <td>3200 MHz</td>\n",
       "      <td>AMD</td>\n",
       "      <td>256 GB</td>\n",
       "      <td>NaN</td>\n",
       "      <td>HP</td>\n",
       "      <td>Ryzen 5</td>\n",
       "    </tr>\n",
       "    <tr>\n",
       "      <th>2</th>\n",
       "      <td>MLA1110784573</td>\n",
       "      <td>66999.00000</td>\n",
       "      <td>1366 px x 768 px</td>\n",
       "      <td>No</td>\n",
       "      <td>NaN</td>\n",
       "      <td>128 GB</td>\n",
       "      <td>4 GB</td>\n",
       "      <td>NaN</td>\n",
       "      <td>Intel</td>\n",
       "      <td>128 GB</td>\n",
       "      <td>60 Hz</td>\n",
       "      <td>Otro</td>\n",
       "      <td>Celeron</td>\n",
       "    </tr>\n",
       "    <tr>\n",
       "      <th>3</th>\n",
       "      <td>MLA1149134293</td>\n",
       "      <td>138100.00000</td>\n",
       "      <td>1920 px x 1080 px</td>\n",
       "      <td>NaN</td>\n",
       "      <td>3.6 GHz</td>\n",
       "      <td>512 GB</td>\n",
       "      <td>8 GB</td>\n",
       "      <td>2666 MHz</td>\n",
       "      <td>Intel</td>\n",
       "      <td>512 GB</td>\n",
       "      <td>NaN</td>\n",
       "      <td>Lenovo</td>\n",
       "      <td>Core i5</td>\n",
       "    </tr>\n",
       "    <tr>\n",
       "      <th>4</th>\n",
       "      <td>MLA1140410405</td>\n",
       "      <td>129999.00000</td>\n",
       "      <td>1920 px x 1080 px</td>\n",
       "      <td>No</td>\n",
       "      <td>4.1 GHz</td>\n",
       "      <td>256 GB</td>\n",
       "      <td>8 GB</td>\n",
       "      <td>NaN</td>\n",
       "      <td>Intel</td>\n",
       "      <td>256 GB</td>\n",
       "      <td>60 Hz</td>\n",
       "      <td>Otro</td>\n",
       "      <td>Core i3</td>\n",
       "    </tr>\n",
       "  </tbody>\n",
       "</table>\n",
       "</div>\n",
       "      <button class=\"colab-df-convert\" onclick=\"convertToInteractive('df-150ccbfa-31f7-4462-a3ac-0cd4a79b9fa2')\"\n",
       "              title=\"Convert this dataframe to an interactive table.\"\n",
       "              style=\"display:none;\">\n",
       "        \n",
       "  <svg xmlns=\"http://www.w3.org/2000/svg\" height=\"24px\"viewBox=\"0 0 24 24\"\n",
       "       width=\"24px\">\n",
       "    <path d=\"M0 0h24v24H0V0z\" fill=\"none\"/>\n",
       "    <path d=\"M18.56 5.44l.94 2.06.94-2.06 2.06-.94-2.06-.94-.94-2.06-.94 2.06-2.06.94zm-11 1L8.5 8.5l.94-2.06 2.06-.94-2.06-.94L8.5 2.5l-.94 2.06-2.06.94zm10 10l.94 2.06.94-2.06 2.06-.94-2.06-.94-.94-2.06-.94 2.06-2.06.94z\"/><path d=\"M17.41 7.96l-1.37-1.37c-.4-.4-.92-.59-1.43-.59-.52 0-1.04.2-1.43.59L10.3 9.45l-7.72 7.72c-.78.78-.78 2.05 0 2.83L4 21.41c.39.39.9.59 1.41.59.51 0 1.02-.2 1.41-.59l7.78-7.78 2.81-2.81c.8-.78.8-2.07 0-2.86zM5.41 20L4 18.59l7.72-7.72 1.47 1.35L5.41 20z\"/>\n",
       "  </svg>\n",
       "      </button>\n",
       "      \n",
       "  <style>\n",
       "    .colab-df-container {\n",
       "      display:flex;\n",
       "      flex-wrap:wrap;\n",
       "      gap: 12px;\n",
       "    }\n",
       "\n",
       "    .colab-df-convert {\n",
       "      background-color: #E8F0FE;\n",
       "      border: none;\n",
       "      border-radius: 50%;\n",
       "      cursor: pointer;\n",
       "      display: none;\n",
       "      fill: #1967D2;\n",
       "      height: 32px;\n",
       "      padding: 0 0 0 0;\n",
       "      width: 32px;\n",
       "    }\n",
       "\n",
       "    .colab-df-convert:hover {\n",
       "      background-color: #E2EBFA;\n",
       "      box-shadow: 0px 1px 2px rgba(60, 64, 67, 0.3), 0px 1px 3px 1px rgba(60, 64, 67, 0.15);\n",
       "      fill: #174EA6;\n",
       "    }\n",
       "\n",
       "    [theme=dark] .colab-df-convert {\n",
       "      background-color: #3B4455;\n",
       "      fill: #D2E3FC;\n",
       "    }\n",
       "\n",
       "    [theme=dark] .colab-df-convert:hover {\n",
       "      background-color: #434B5C;\n",
       "      box-shadow: 0px 1px 3px 1px rgba(0, 0, 0, 0.15);\n",
       "      filter: drop-shadow(0px 1px 2px rgba(0, 0, 0, 0.3));\n",
       "      fill: #FFFFFF;\n",
       "    }\n",
       "  </style>\n",
       "\n",
       "      <script>\n",
       "        const buttonEl =\n",
       "          document.querySelector('#df-150ccbfa-31f7-4462-a3ac-0cd4a79b9fa2 button.colab-df-convert');\n",
       "        buttonEl.style.display =\n",
       "          google.colab.kernel.accessAllowed ? 'block' : 'none';\n",
       "\n",
       "        async function convertToInteractive(key) {\n",
       "          const element = document.querySelector('#df-150ccbfa-31f7-4462-a3ac-0cd4a79b9fa2');\n",
       "          const dataTable =\n",
       "            await google.colab.kernel.invokeFunction('convertToInteractive',\n",
       "                                                     [key], {});\n",
       "          if (!dataTable) return;\n",
       "\n",
       "          const docLinkHtml = 'Like what you see? Visit the ' +\n",
       "            '<a target=\"_blank\" href=https://colab.research.google.com/notebooks/data_table.ipynb>data table notebook</a>'\n",
       "            + ' to learn more about interactive tables.';\n",
       "          element.innerHTML = '';\n",
       "          dataTable['output_type'] = 'display_data';\n",
       "          await google.colab.output.renderOutput(dataTable, element);\n",
       "          const docLink = document.createElement('div');\n",
       "          docLink.innerHTML = docLinkHtml;\n",
       "          element.appendChild(docLink);\n",
       "        }\n",
       "      </script>\n",
       "    </div>\n",
       "  </div>\n",
       "  "
      ],
      "text/plain": [
       "              id        price Resolución de la pantalla Es gamer  \\\n",
       "0  MLA1129251702 164899.00000          1366 px x 768 px       Sí   \n",
       "1  MLA1147028688 129499.00000         1920 px x 1080 px       No   \n",
       "2  MLA1110784573  66999.00000          1366 px x 768 px       No   \n",
       "3  MLA1149134293 138100.00000         1920 px x 1080 px      NaN   \n",
       "4  MLA1140410405 129999.00000         1920 px x 1080 px       No   \n",
       "\n",
       "  Velocidad máxima del procesador Capacidad del SSD Memoria RAM  \\\n",
       "0                             NaN            256 GB       12 GB   \n",
       "1                           4 GHz            256 GB        8 GB   \n",
       "2                             NaN            128 GB        4 GB   \n",
       "3                         3.6 GHz            512 GB        8 GB   \n",
       "4                         4.1 GHz            256 GB        8 GB   \n",
       "\n",
       "  Velocidad de la memoria RAM Marca del procesador Capacidad del SSD  \\\n",
       "0                         NaN                  AMD            256 GB   \n",
       "1                    3200 MHz                  AMD            256 GB   \n",
       "2                         NaN                Intel            128 GB   \n",
       "3                    2666 MHz                Intel            512 GB   \n",
       "4                         NaN                Intel            256 GB   \n",
       "\n",
       "  Frecuencia de actualización de la pantalla   Marca linea_procesador  \n",
       "0                                       None      HP          Ryzen 7  \n",
       "1                                        NaN      HP          Ryzen 5  \n",
       "2                                      60 Hz    Otro          Celeron  \n",
       "3                                        NaN  Lenovo          Core i5  \n",
       "4                                      60 Hz    Otro          Core i3  "
      ]
     },
     "execution_count": 63,
     "metadata": {},
     "output_type": "execute_result"
    }
   ],
   "source": [
    "del df[\"linea_procesador\"], df[\"linea_procesador_Original\"], df[\"Línea del procesador\"]\n",
    "\n",
    "df = df.rename(columns = {\"linea_procesador_Nueva\"  : \"linea_procesador\"})\n",
    "df.head()"
   ]
  },
  {
   "cell_type": "code",
   "execution_count": 64,
   "metadata": {
    "executionInfo": {
     "elapsed": 12,
     "status": "ok",
     "timestamp": 1660264556465,
     "user": {
      "displayName": "Martina Di Carlo",
      "userId": "17054237212499031598"
     },
     "user_tz": 180
    },
    "id": "9zyUep7cjuVf"
   },
   "outputs": [],
   "source": [
    "df[['Capacidad RAM', 'Medida_RAM']] = df[\"Memoria RAM\"].str.split(' ', 1, expand=True)"
   ]
  },
  {
   "cell_type": "code",
   "execution_count": 65,
   "metadata": {
    "executionInfo": {
     "elapsed": 11,
     "status": "ok",
     "timestamp": 1660264556465,
     "user": {
      "displayName": "Martina Di Carlo",
      "userId": "17054237212499031598"
     },
     "user_tz": 180
    },
    "id": "_2VYXGKRj4RH"
   },
   "outputs": [],
   "source": [
    "cond_ram_mb = (df[\"Medida_RAM\"].str.lower() == \"mb\")\n",
    "df.loc[cond_ram_mb, \"Capacidad RAM\"] = df['Capacidad RAM'].fillna(-1).astype(float, errors = \"ignore\").astype(int) / 1000\n",
    "df.loc[cond_ram_mb, \"Medida_RAM\"] = \"GB\""
   ]
  },
  {
   "cell_type": "code",
   "execution_count": 66,
   "metadata": {
    "executionInfo": {
     "elapsed": 11,
     "status": "ok",
     "timestamp": 1660264556465,
     "user": {
      "displayName": "Martina Di Carlo",
      "userId": "17054237212499031598"
     },
     "user_tz": 180
    },
    "id": "iZgg0Tg9sI4L"
   },
   "outputs": [],
   "source": [
    "cond_ram_kb = (df[\"Medida_RAM\"].str.lower() == \"kb\")\n",
    "df.loc[cond_ram_kb, \"Capacidad RAM\"] = df['Capacidad RAM'].fillna(-1).astype(float, errors = \"ignore\").astype(int) / 1000000\n",
    "df.loc[cond_ram_kb, \"Medida_RAM\"] = \"GB\""
   ]
  },
  {
   "cell_type": "code",
   "execution_count": 67,
   "metadata": {
    "colab": {
     "base_uri": "https://localhost:8080/"
    },
    "executionInfo": {
     "elapsed": 12,
     "status": "ok",
     "timestamp": 1660264556466,
     "user": {
      "displayName": "Martina Di Carlo",
      "userId": "17054237212499031598"
     },
     "user_tz": 180
    },
    "id": "8hNQS-rBmMss",
    "outputId": "ebec98cf-98a3-4364-9888-3328cfe4c9cb"
   },
   "outputs": [
    {
     "data": {
      "text/plain": [
       "GB    732\n",
       "Name: Medida_RAM, dtype: int64"
      ]
     },
     "execution_count": 67,
     "metadata": {},
     "output_type": "execute_result"
    }
   ],
   "source": [
    "df['Medida_RAM'].value_counts()"
   ]
  },
  {
   "cell_type": "code",
   "execution_count": 68,
   "metadata": {
    "executionInfo": {
     "elapsed": 10,
     "status": "ok",
     "timestamp": 1660264556466,
     "user": {
      "displayName": "Martina Di Carlo",
      "userId": "17054237212499031598"
     },
     "user_tz": 180
    },
    "id": "TTUsUidhtYAi"
   },
   "outputs": [],
   "source": [
    "df[\"Capacidad RAM\"] = df[\"Capacidad RAM\"].fillna(-1).astype(float)"
   ]
  },
  {
   "cell_type": "code",
   "execution_count": 69,
   "metadata": {
    "colab": {
     "base_uri": "https://localhost:8080/",
     "height": 464
    },
    "executionInfo": {
     "elapsed": 282,
     "status": "ok",
     "timestamp": 1660264556739,
     "user": {
      "displayName": "Martina Di Carlo",
      "userId": "17054237212499031598"
     },
     "user_tz": 180
    },
    "id": "9ooMjWcrtQhW",
    "outputId": "495b5d3e-3883-4b97-ff2a-6a15cf74f26d"
   },
   "outputs": [
    {
     "data": {
      "image/png": "[encoded data removed]",
      "text/plain": [
       "<Figure size 864x504 with 1 Axes>"
      ]
     },
     "metadata": {},
     "output_type": "display_data"
    }
   ],
   "source": [
    "sns.set_theme(style=\"whitegrid\")\n",
    "\n",
    "plt.figure(figsize=(12,7))\n",
    "ax = sns.boxplot(x=\"Capacidad RAM\", data=df[df[\"Capacidad RAM\"] < 129])\n",
    "ax.set_title(\"Laptop's RAM\")\n",
    "plt.show()"
   ]
  },
  {
   "cell_type": "code",
   "execution_count": 70,
   "metadata": {
    "colab": {
     "base_uri": "https://localhost:8080/"
    },
    "executionInfo": {
     "elapsed": 5,
     "status": "ok",
     "timestamp": 1660264556740,
     "user": {
      "displayName": "Martina Di Carlo",
      "userId": "17054237212499031598"
     },
     "user_tz": 180
    },
    "id": "ckSbuPt2h6Xw",
    "outputId": "88a4c1f2-e216-4ac3-a3c7-32b8620c5491"
   },
   "outputs": [
    {
     "data": {
      "text/plain": [
       "count   732.00000\n",
       "mean     10.40437\n",
       "std       7.39286\n",
       "min       2.00000\n",
       "25%       8.00000\n",
       "50%       8.00000\n",
       "75%      12.00000\n",
       "max      64.00000\n",
       "Name: Capacidad RAM, dtype: float64"
      ]
     },
     "execution_count": 70,
     "metadata": {},
     "output_type": "execute_result"
    }
   ],
   "source": [
    "df[\"Capacidad RAM\"].describe()"
   ]
  },
  {
   "cell_type": "code",
   "execution_count": 71,
   "metadata": {
    "colab": {
     "base_uri": "https://localhost:8080/",
     "height": 464
    },
    "executionInfo": {
     "elapsed": 333,
     "status": "ok",
     "timestamp": 1660264557070,
     "user": {
      "displayName": "Martina Di Carlo",
      "userId": "17054237212499031598"
     },
     "user_tz": 180
    },
    "id": "3K2tMp61tltz",
    "outputId": "92d3d74c-969b-44c1-e7d8-7fd2dabf1da3"
   },
   "outputs": [
    {
     "data": {
      "image/png": "[encoded data removed]",
      "text/plain": [
       "<Figure size 864x504 with 1 Axes>"
      ]
     },
     "metadata": {},
     "output_type": "display_data"
    }
   ],
   "source": [
    "sns.set_theme(style=\"whitegrid\")\n",
    "\n",
    "plt.figure(figsize=(12,7))\n",
    "ax = sns.boxplot(x=\"Capacidad RAM\", data=df[df[\"Capacidad RAM\"] < 129], y = \"Marca\")\n",
    "ax.set_title(\"Laptop's RAM\")\n",
    "plt.show()"
   ]
  },
  {
   "cell_type": "markdown",
   "metadata": {
    "id": "UysqsuMqvvla"
   },
   "source": [
    "## Velocidad max del procesador"
   ]
  },
  {
   "cell_type": "code",
   "execution_count": 72,
   "metadata": {
    "colab": {
     "base_uri": "https://localhost:8080/"
    },
    "executionInfo": {
     "elapsed": 7,
     "status": "ok",
     "timestamp": 1660264557070,
     "user": {
      "displayName": "Martina Di Carlo",
      "userId": "17054237212499031598"
     },
     "user_tz": 180
    },
    "id": "VUwHAJ9UfFWt",
    "outputId": "cfac1959-fa93-4945-8cdd-042e7ae89b8f"
   },
   "outputs": [
    {
     "data": {
      "text/plain": [
       "4.2 GHz     70\n",
       "4.1 GHz     50\n",
       "2.8 GHz     27\n",
       "3.4 GHz     23\n",
       "3.5 GHz     22\n",
       "4 GHz       21\n",
       "4.7 GHz     19\n",
       "2.6 GHz     15\n",
       "3.9 GHz     13\n",
       "3.1 GHz     12\n",
       "3.6 GHz     12\n",
       "3.7 GHz      8\n",
       "4.9 GHz      7\n",
       "3.22 GHz     7\n",
       "4.4 GHz      6\n",
       "4.5 GHz      6\n",
       "2.4 GHz      4\n",
       "1.9 GHz      3\n",
       "4.8 GHz      3\n",
       "2.3 GHz      2\n",
       "4.3 GHz      2\n",
       "3.2 GHz      2\n",
       "2.7 GHz      2\n",
       "3.3 GHz      1\n",
       "2.9 GHz      1\n",
       "1.92 GHz     1\n",
       "4.6 GHz      1\n",
       "Name: Velocidad máxima del procesador, dtype: int64"
      ]
     },
     "execution_count": 72,
     "metadata": {},
     "output_type": "execute_result"
    }
   ],
   "source": [
    "df[\"Velocidad máxima del procesador\"].value_counts()"
   ]
  },
  {
   "cell_type": "code",
   "execution_count": 73,
   "metadata": {
    "executionInfo": {
     "elapsed": 5,
     "status": "ok",
     "timestamp": 1660264557070,
     "user": {
      "displayName": "Martina Di Carlo",
      "userId": "17054237212499031598"
     },
     "user_tz": 180
    },
    "id": "E_sDLEQCfR8k"
   },
   "outputs": [],
   "source": [
    "df[['velocidad_max_procesador', 'medida_vel_procesador']] = df[\"Velocidad máxima del procesador\"].str.split(' ', 1, expand=True)"
   ]
  },
  {
   "cell_type": "code",
   "execution_count": 74,
   "metadata": {
    "colab": {
     "base_uri": "https://localhost:8080/"
    },
    "executionInfo": {
     "elapsed": 5,
     "status": "ok",
     "timestamp": 1660264557070,
     "user": {
      "displayName": "Martina Di Carlo",
      "userId": "17054237212499031598"
     },
     "user_tz": 180
    },
    "id": "s_6bKw1hfabM",
    "outputId": "7dc3a8ec-a368-470e-a2cf-fe85f7ee7dca"
   },
   "outputs": [
    {
     "data": {
      "text/plain": [
       "GHz    340\n",
       "Name: medida_vel_procesador, dtype: int64"
      ]
     },
     "execution_count": 74,
     "metadata": {},
     "output_type": "execute_result"
    }
   ],
   "source": [
    "df.medida_vel_procesador.value_counts()"
   ]
  },
  {
   "cell_type": "code",
   "execution_count": 75,
   "metadata": {
    "executionInfo": {
     "elapsed": 4,
     "status": "ok",
     "timestamp": 1660264557071,
     "user": {
      "displayName": "Martina Di Carlo",
      "userId": "17054237212499031598"
     },
     "user_tz": 180
    },
    "id": "OMHmKRiYfPFL"
   },
   "outputs": [],
   "source": [
    "cond_ram_MHz = (df[\"medida_vel_procesador\"].str.lower() == \"mhz\")\n",
    "df.loc[cond_ram_MHz, \"velocidad_max_procesador\"] = df['velocidad_max_procesador'].fillna(-1).astype(float, errors = \"ignore\").astype(int) / 1000\n",
    "df.loc[cond_ram_MHz, \"medida_vel_procesador\"] = \"GHz\""
   ]
  },
  {
   "cell_type": "code",
   "execution_count": 76,
   "metadata": {
    "executionInfo": {
     "elapsed": 4,
     "status": "ok",
     "timestamp": 1660264557071,
     "user": {
      "displayName": "Martina Di Carlo",
      "userId": "17054237212499031598"
     },
     "user_tz": 180
    },
    "id": "4UfujhBAfs_T"
   },
   "outputs": [],
   "source": [
    "cond_ram_Hz = (df[\"medida_vel_procesador\"].str.lower() == \"hz\")\n",
    "df.loc[cond_ram_Hz, \"velocidad_max_procesador\"] = df['velocidad_max_procesador'].fillna(-1).astype(float, errors = \"ignore\").astype(int) / 1000000000\n",
    "df.loc[cond_ram_Hz, \"medida_vel_procesador\"] = \"GHz\""
   ]
  },
  {
   "cell_type": "code",
   "execution_count": 77,
   "metadata": {
    "executionInfo": {
     "elapsed": 4,
     "status": "ok",
     "timestamp": 1660264557071,
     "user": {
      "displayName": "Martina Di Carlo",
      "userId": "17054237212499031598"
     },
     "user_tz": 180
    },
    "id": "Y_phm9hTgHFj"
   },
   "outputs": [],
   "source": [
    "df[\"velocidad_max_procesador\"] = df[\"velocidad_max_procesador\"].astype(float)"
   ]
  },
  {
   "cell_type": "code",
   "execution_count": 78,
   "metadata": {
    "colab": {
     "base_uri": "https://localhost:8080/",
     "height": 464
    },
    "executionInfo": {
     "elapsed": 5,
     "status": "ok",
     "timestamp": 1660264557499,
     "user": {
      "displayName": "Martina Di Carlo",
      "userId": "17054237212499031598"
     },
     "user_tz": 180
    },
    "id": "4XPYyt7Kvtub",
    "outputId": "deb5154e-803b-4757-8027-432c390496c7"
   },
   "outputs": [
    {
     "data": {
      "image/png": "[encoded data removed]",
      "text/plain": [
       "<Figure size 864x504 with 1 Axes>"
      ]
     },
     "metadata": {},
     "output_type": "display_data"
    }
   ],
   "source": [
    "sns.set_theme(style=\"whitegrid\")\n",
    "\n",
    "plt.figure(figsize=(12,7))\n",
    "ax = sns.boxplot(x=\"velocidad_max_procesador\", data=df[df[\"velocidad_max_procesador\"] < 40])\n",
    "ax.set_title(\"Laptop's Vel procesador\")\n",
    "plt.show()"
   ]
  },
  {
   "cell_type": "code",
   "execution_count": 79,
   "metadata": {
    "colab": {
     "base_uri": "https://localhost:8080/"
    },
    "executionInfo": {
     "elapsed": 5,
     "status": "ok",
     "timestamp": 1660264557500,
     "user": {
      "displayName": "Martina Di Carlo",
      "userId": "17054237212499031598"
     },
     "user_tz": 180
    },
    "id": "Xk7PQ8CkgFow",
    "outputId": "209f28ec-4e4c-449d-afad-f0e162019c13"
   },
   "outputs": [
    {
     "data": {
      "text/plain": [
       "count   340.00000\n",
       "mean      3.76606\n",
       "std       0.65025\n",
       "min       1.90000\n",
       "25%       3.40000\n",
       "50%       4.00000\n",
       "75%       4.20000\n",
       "max       4.90000\n",
       "Name: velocidad_max_procesador, dtype: float64"
      ]
     },
     "execution_count": 79,
     "metadata": {},
     "output_type": "execute_result"
    }
   ],
   "source": [
    "df[\"velocidad_max_procesador\"].describe()"
   ]
  },
  {
   "cell_type": "markdown",
   "metadata": {
    "id": "HEKx5E-NhYhr"
   },
   "source": [
    "##Etiquetado "
   ]
  },
  {
   "cell_type": "code",
   "execution_count": 80,
   "metadata": {
    "colab": {
     "base_uri": "https://localhost:8080/"
    },
    "executionInfo": {
     "elapsed": 13,
     "status": "ok",
     "timestamp": 1660264557943,
     "user": {
      "displayName": "Martina Di Carlo",
      "userId": "17054237212499031598"
     },
     "user_tz": 180
    },
    "id": "YxXf_0t1hdsQ",
    "outputId": "ef7c9acc-8ed4-4e05-83b6-24be6ceb9ff1"
   },
   "outputs": [
    {
     "data": {
      "text/plain": [
       "No    509\n",
       "Sí    110\n",
       "Name: Es gamer, dtype: int64"
      ]
     },
     "execution_count": 80,
     "metadata": {},
     "output_type": "execute_result"
    }
   ],
   "source": [
    "df[\"Es gamer\"].value_counts()"
   ]
  },
  {
   "cell_type": "code",
   "execution_count": 81,
   "metadata": {
    "colab": {
     "base_uri": "https://localhost:8080/"
    },
    "executionInfo": {
     "elapsed": 13,
     "status": "ok",
     "timestamp": 1660264557944,
     "user": {
      "displayName": "Martina Di Carlo",
      "userId": "17054237212499031598"
     },
     "user_tz": 180
    },
    "id": "UaOXKEbwKabi",
    "outputId": "7cef171d-7305-49bf-a5f9-c322df964ff3"
   },
   "outputs": [
    {
     "data": {
      "text/plain": [
       "392"
      ]
     },
     "execution_count": 81,
     "metadata": {},
     "output_type": "execute_result"
    }
   ],
   "source": [
    "df[\"velocidad_max_procesador\"].isna().sum()\n"
   ]
  },
  {
   "cell_type": "code",
   "execution_count": 82,
   "metadata": {
    "executionInfo": {
     "elapsed": 11,
     "status": "ok",
     "timestamp": 1660264557944,
     "user": {
      "displayName": "Martina Di Carlo",
      "userId": "17054237212499031598"
     },
     "user_tz": 180
    },
    "id": "rjxwDQyogaPB"
   },
   "outputs": [],
   "source": [
    "cond_gamer = (df[\"Es gamer\"] == \"Sí\")\n",
    "cond_mac_MSI = df[\"Marca\"].isin([\"MSI\",\"Apple\"])\n",
    "cond_ram = df[\"Capacidad RAM\"] > 12\n",
    "cond_procesador = df[\"linea_procesador\"].isin([\"Core i7\", \"Core i9\", \"Ryzen 7\", \"Ryzen 9\"])\n"
   ]
  },
  {
   "cell_type": "code",
   "execution_count": 83,
   "metadata": {
    "executionInfo": {
     "elapsed": 11,
     "status": "ok",
     "timestamp": 1660264557944,
     "user": {
      "displayName": "Martina Di Carlo",
      "userId": "17054237212499031598"
     },
     "user_tz": 180
    },
    "id": "WZOUXKmsirI1"
   },
   "outputs": [],
   "source": [
    "df[\"label\"] = \"Estandar Tradicional\"\n",
    "df.loc[cond_gamer, \"label\"] = \"Gamer\"\n",
    "df.loc[df[\"Es gamer\"].isna(), \"label\"] = \"\"\n",
    "df.loc[cond_mac_MSI, \"label\"] = \"Estandar Premium\"\n",
    "df.loc[cond_ram, \"label\"] = \"Estandar Premium\"\n",
    "df.loc[df[\"Capacidad RAM\"] == -1, \"label\"] = \"\"\n",
    "df.loc[df[\"linea_procesador\"].isna(), \"label\"] = \"\"\n",
    "df.loc[cond_procesador, \"label\"] = \"Estandar Premium\"\n"
   ]
  },
  {
   "cell_type": "code",
   "execution_count": 84,
   "metadata": {
    "colab": {
     "base_uri": "https://localhost:8080/"
    },
    "executionInfo": {
     "elapsed": 10,
     "status": "ok",
     "timestamp": 1660264557944,
     "user": {
      "displayName": "Martina Di Carlo",
      "userId": "17054237212499031598"
     },
     "user_tz": 180
    },
    "id": "YjcK1RvgjD8H",
    "outputId": "439ecba7-502f-4e41-92cd-e042dd915c2b"
   },
   "outputs": [
    {
     "data": {
      "text/plain": [
       "Estandar Tradicional    338\n",
       "Estandar Premium        241\n",
       "                        105\n",
       "Gamer                    48\n",
       "Name: label, dtype: int64"
      ]
     },
     "execution_count": 84,
     "metadata": {},
     "output_type": "execute_result"
    }
   ],
   "source": [
    "df.label.value_counts()"
   ]
  },
  {
   "cell_type": "code",
   "execution_count": 85,
   "metadata": {
    "colab": {
     "base_uri": "https://localhost:8080/",
     "height": 409
    },
    "executionInfo": {
     "elapsed": 10,
     "status": "ok",
     "timestamp": 1660264557945,
     "user": {
      "displayName": "Martina Di Carlo",
      "userId": "17054237212499031598"
     },
     "user_tz": 180
    },
    "id": "229NpCBct7Q4",
    "outputId": "91ed1c27-ee73-446d-f9b6-2b84c655e8b7"
   },
   "outputs": [
    {
     "data": {
      "text/html": [
       "\n",
       "  <div id=\"df-4f417bde-7aad-4c41-bb35-f9c5ce6ea9a7\">\n",
       "    <div class=\"colab-df-container\">\n",
       "      <div>\n",
       "<style scoped>\n",
       "    .dataframe tbody tr th:only-of-type {\n",
       "        vertical-align: middle;\n",
       "    }\n",
       "\n",
       "    .dataframe tbody tr th {\n",
       "        vertical-align: top;\n",
       "    }\n",
       "\n",
       "    .dataframe thead th {\n",
       "        text-align: right;\n",
       "    }\n",
       "</style>\n",
       "<table border=\"1\" class=\"dataframe\">\n",
       "  <thead>\n",
       "    <tr style=\"text-align: right;\">\n",
       "      <th></th>\n",
       "      <th>id</th>\n",
       "      <th>price</th>\n",
       "      <th>Resolución de la pantalla</th>\n",
       "      <th>Es gamer</th>\n",
       "      <th>Velocidad máxima del procesador</th>\n",
       "      <th>Capacidad del SSD</th>\n",
       "      <th>Memoria RAM</th>\n",
       "      <th>Velocidad de la memoria RAM</th>\n",
       "      <th>Marca del procesador</th>\n",
       "      <th>Capacidad del SSD</th>\n",
       "      <th>Frecuencia de actualización de la pantalla</th>\n",
       "      <th>Marca</th>\n",
       "      <th>linea_procesador</th>\n",
       "      <th>Capacidad RAM</th>\n",
       "      <th>Medida_RAM</th>\n",
       "      <th>velocidad_max_procesador</th>\n",
       "      <th>medida_vel_procesador</th>\n",
       "      <th>label</th>\n",
       "    </tr>\n",
       "  </thead>\n",
       "  <tbody>\n",
       "    <tr>\n",
       "      <th>0</th>\n",
       "      <td>MLA1129251702</td>\n",
       "      <td>164899.00000</td>\n",
       "      <td>1366 px x 768 px</td>\n",
       "      <td>Sí</td>\n",
       "      <td>NaN</td>\n",
       "      <td>256 GB</td>\n",
       "      <td>12 GB</td>\n",
       "      <td>NaN</td>\n",
       "      <td>AMD</td>\n",
       "      <td>256 GB</td>\n",
       "      <td>None</td>\n",
       "      <td>HP</td>\n",
       "      <td>Ryzen 7</td>\n",
       "      <td>12.00000</td>\n",
       "      <td>GB</td>\n",
       "      <td>NaN</td>\n",
       "      <td>NaN</td>\n",
       "      <td>Estandar Premium</td>\n",
       "    </tr>\n",
       "    <tr>\n",
       "      <th>1</th>\n",
       "      <td>MLA1147028688</td>\n",
       "      <td>129499.00000</td>\n",
       "      <td>1920 px x 1080 px</td>\n",
       "      <td>No</td>\n",
       "      <td>4 GHz</td>\n",
       "      <td>256 GB</td>\n",
       "      <td>8 GB</td>\n",
       "      <td>3200 MHz</td>\n",
       "      <td>AMD</td>\n",
       "      <td>256 GB</td>\n",
       "      <td>NaN</td>\n",
       "      <td>HP</td>\n",
       "      <td>Ryzen 5</td>\n",
       "      <td>8.00000</td>\n",
       "      <td>GB</td>\n",
       "      <td>4.00000</td>\n",
       "      <td>GHz</td>\n",
       "      <td>Estandar Tradicional</td>\n",
       "    </tr>\n",
       "    <tr>\n",
       "      <th>2</th>\n",
       "      <td>MLA1110784573</td>\n",
       "      <td>66999.00000</td>\n",
       "      <td>1366 px x 768 px</td>\n",
       "      <td>No</td>\n",
       "      <td>NaN</td>\n",
       "      <td>128 GB</td>\n",
       "      <td>4 GB</td>\n",
       "      <td>NaN</td>\n",
       "      <td>Intel</td>\n",
       "      <td>128 GB</td>\n",
       "      <td>60 Hz</td>\n",
       "      <td>Otro</td>\n",
       "      <td>Celeron</td>\n",
       "      <td>4.00000</td>\n",
       "      <td>GB</td>\n",
       "      <td>NaN</td>\n",
       "      <td>NaN</td>\n",
       "      <td>Estandar Tradicional</td>\n",
       "    </tr>\n",
       "    <tr>\n",
       "      <th>3</th>\n",
       "      <td>MLA1149134293</td>\n",
       "      <td>138100.00000</td>\n",
       "      <td>1920 px x 1080 px</td>\n",
       "      <td>NaN</td>\n",
       "      <td>3.6 GHz</td>\n",
       "      <td>512 GB</td>\n",
       "      <td>8 GB</td>\n",
       "      <td>2666 MHz</td>\n",
       "      <td>Intel</td>\n",
       "      <td>512 GB</td>\n",
       "      <td>NaN</td>\n",
       "      <td>Lenovo</td>\n",
       "      <td>Core i5</td>\n",
       "      <td>8.00000</td>\n",
       "      <td>GB</td>\n",
       "      <td>3.60000</td>\n",
       "      <td>GHz</td>\n",
       "      <td></td>\n",
       "    </tr>\n",
       "    <tr>\n",
       "      <th>4</th>\n",
       "      <td>MLA1140410405</td>\n",
       "      <td>129999.00000</td>\n",
       "      <td>1920 px x 1080 px</td>\n",
       "      <td>No</td>\n",
       "      <td>4.1 GHz</td>\n",
       "      <td>256 GB</td>\n",
       "      <td>8 GB</td>\n",
       "      <td>NaN</td>\n",
       "      <td>Intel</td>\n",
       "      <td>256 GB</td>\n",
       "      <td>60 Hz</td>\n",
       "      <td>Otro</td>\n",
       "      <td>Core i3</td>\n",
       "      <td>8.00000</td>\n",
       "      <td>GB</td>\n",
       "      <td>4.10000</td>\n",
       "      <td>GHz</td>\n",
       "      <td>Estandar Tradicional</td>\n",
       "    </tr>\n",
       "  </tbody>\n",
       "</table>\n",
       "</div>\n",
       "      <button class=\"colab-df-convert\" onclick=\"convertToInteractive('df-4f417bde-7aad-4c41-bb35-f9c5ce6ea9a7')\"\n",
       "              title=\"Convert this dataframe to an interactive table.\"\n",
       "              style=\"display:none;\">\n",
       "        \n",
       "  <svg xmlns=\"http://www.w3.org/2000/svg\" height=\"24px\"viewBox=\"0 0 24 24\"\n",
       "       width=\"24px\">\n",
       "    <path d=\"M0 0h24v24H0V0z\" fill=\"none\"/>\n",
       "    <path d=\"M18.56 5.44l.94 2.06.94-2.06 2.06-.94-2.06-.94-.94-2.06-.94 2.06-2.06.94zm-11 1L8.5 8.5l.94-2.06 2.06-.94-2.06-.94L8.5 2.5l-.94 2.06-2.06.94zm10 10l.94 2.06.94-2.06 2.06-.94-2.06-.94-.94-2.06-.94 2.06-2.06.94z\"/><path d=\"M17.41 7.96l-1.37-1.37c-.4-.4-.92-.59-1.43-.59-.52 0-1.04.2-1.43.59L10.3 9.45l-7.72 7.72c-.78.78-.78 2.05 0 2.83L4 21.41c.39.39.9.59 1.41.59.51 0 1.02-.2 1.41-.59l7.78-7.78 2.81-2.81c.8-.78.8-2.07 0-2.86zM5.41 20L4 18.59l7.72-7.72 1.47 1.35L5.41 20z\"/>\n",
       "  </svg>\n",
       "      </button>\n",
       "      \n",
       "  <style>\n",
       "    .colab-df-container {\n",
       "      display:flex;\n",
       "      flex-wrap:wrap;\n",
       "      gap: 12px;\n",
       "    }\n",
       "\n",
       "    .colab-df-convert {\n",
       "      background-color: #E8F0FE;\n",
       "      border: none;\n",
       "      border-radius: 50%;\n",
       "      cursor: pointer;\n",
       "      display: none;\n",
       "      fill: #1967D2;\n",
       "      height: 32px;\n",
       "      padding: 0 0 0 0;\n",
       "      width: 32px;\n",
       "    }\n",
       "\n",
       "    .colab-df-convert:hover {\n",
       "      background-color: #E2EBFA;\n",
       "      box-shadow: 0px 1px 2px rgba(60, 64, 67, 0.3), 0px 1px 3px 1px rgba(60, 64, 67, 0.15);\n",
       "      fill: #174EA6;\n",
       "    }\n",
       "\n",
       "    [theme=dark] .colab-df-convert {\n",
       "      background-color: #3B4455;\n",
       "      fill: #D2E3FC;\n",
       "    }\n",
       "\n",
       "    [theme=dark] .colab-df-convert:hover {\n",
       "      background-color: #434B5C;\n",
       "      box-shadow: 0px 1px 3px 1px rgba(0, 0, 0, 0.15);\n",
       "      filter: drop-shadow(0px 1px 2px rgba(0, 0, 0, 0.3));\n",
       "      fill: #FFFFFF;\n",
       "    }\n",
       "  </style>\n",
       "\n",
       "      <script>\n",
       "        const buttonEl =\n",
       "          document.querySelector('#df-4f417bde-7aad-4c41-bb35-f9c5ce6ea9a7 button.colab-df-convert');\n",
       "        buttonEl.style.display =\n",
       "          google.colab.kernel.accessAllowed ? 'block' : 'none';\n",
       "\n",
       "        async function convertToInteractive(key) {\n",
       "          const element = document.querySelector('#df-4f417bde-7aad-4c41-bb35-f9c5ce6ea9a7');\n",
       "          const dataTable =\n",
       "            await google.colab.kernel.invokeFunction('convertToInteractive',\n",
       "                                                     [key], {});\n",
       "          if (!dataTable) return;\n",
       "\n",
       "          const docLinkHtml = 'Like what you see? Visit the ' +\n",
       "            '<a target=\"_blank\" href=https://colab.research.google.com/notebooks/data_table.ipynb>data table notebook</a>'\n",
       "            + ' to learn more about interactive tables.';\n",
       "          element.innerHTML = '';\n",
       "          dataTable['output_type'] = 'display_data';\n",
       "          await google.colab.output.renderOutput(dataTable, element);\n",
       "          const docLink = document.createElement('div');\n",
       "          docLink.innerHTML = docLinkHtml;\n",
       "          element.appendChild(docLink);\n",
       "        }\n",
       "      </script>\n",
       "    </div>\n",
       "  </div>\n",
       "  "
      ],
      "text/plain": [
       "              id        price Resolución de la pantalla Es gamer  \\\n",
       "0  MLA1129251702 164899.00000          1366 px x 768 px       Sí   \n",
       "1  MLA1147028688 129499.00000         1920 px x 1080 px       No   \n",
       "2  MLA1110784573  66999.00000          1366 px x 768 px       No   \n",
       "3  MLA1149134293 138100.00000         1920 px x 1080 px      NaN   \n",
       "4  MLA1140410405 129999.00000         1920 px x 1080 px       No   \n",
       "\n",
       "  Velocidad máxima del procesador Capacidad del SSD Memoria RAM  \\\n",
       "0                             NaN            256 GB       12 GB   \n",
       "1                           4 GHz            256 GB        8 GB   \n",
       "2                             NaN            128 GB        4 GB   \n",
       "3                         3.6 GHz            512 GB        8 GB   \n",
       "4                         4.1 GHz            256 GB        8 GB   \n",
       "\n",
       "  Velocidad de la memoria RAM Marca del procesador Capacidad del SSD  \\\n",
       "0                         NaN                  AMD            256 GB   \n",
       "1                    3200 MHz                  AMD            256 GB   \n",
       "2                         NaN                Intel            128 GB   \n",
       "3                    2666 MHz                Intel            512 GB   \n",
       "4                         NaN                Intel            256 GB   \n",
       "\n",
       "  Frecuencia de actualización de la pantalla   Marca linea_procesador  \\\n",
       "0                                       None      HP          Ryzen 7   \n",
       "1                                        NaN      HP          Ryzen 5   \n",
       "2                                      60 Hz    Otro          Celeron   \n",
       "3                                        NaN  Lenovo          Core i5   \n",
       "4                                      60 Hz    Otro          Core i3   \n",
       "\n",
       "   Capacidad RAM Medida_RAM  velocidad_max_procesador medida_vel_procesador  \\\n",
       "0       12.00000         GB                       NaN                   NaN   \n",
       "1        8.00000         GB                   4.00000                   GHz   \n",
       "2        4.00000         GB                       NaN                   NaN   \n",
       "3        8.00000         GB                   3.60000                   GHz   \n",
       "4        8.00000         GB                   4.10000                   GHz   \n",
       "\n",
       "                  label  \n",
       "0      Estandar Premium  \n",
       "1  Estandar Tradicional  \n",
       "2  Estandar Tradicional  \n",
       "3                        \n",
       "4  Estandar Tradicional  "
      ]
     },
     "execution_count": 85,
     "metadata": {},
     "output_type": "execute_result"
    }
   ],
   "source": [
    "df.head()"
   ]
  },
  {
   "cell_type": "code",
   "execution_count": 86,
   "metadata": {
    "executionInfo": {
     "elapsed": 9,
     "status": "ok",
     "timestamp": 1660264557945,
     "user": {
      "displayName": "Martina Di Carlo",
      "userId": "17054237212499031598"
     },
     "user_tz": 180
    },
    "id": "pUsl_YPYuxf7"
   },
   "outputs": [],
   "source": [
    "to_label = ( df.label == \"\")\n",
    "to_train = ( ( df.label != \"\") & ( df.label.notna()))"
   ]
  },
  {
   "cell_type": "code",
   "execution_count": 87,
   "metadata": {
    "colab": {
     "base_uri": "https://localhost:8080/"
    },
    "executionInfo": {
     "elapsed": 9,
     "status": "ok",
     "timestamp": 1660264557945,
     "user": {
      "displayName": "Martina Di Carlo",
      "userId": "17054237212499031598"
     },
     "user_tz": 180
    },
    "id": "pz73HyDFvyS_",
    "outputId": "1746c2c2-d10b-43af-bcc2-0c34aa35986c"
   },
   "outputs": [
    {
     "data": {
      "text/plain": [
       "(105, 18)"
      ]
     },
     "execution_count": 87,
     "metadata": {},
     "output_type": "execute_result"
    }
   ],
   "source": [
    "df[to_label].shape"
   ]
  },
  {
   "cell_type": "code",
   "execution_count": 88,
   "metadata": {
    "colab": {
     "base_uri": "https://localhost:8080/"
    },
    "executionInfo": {
     "elapsed": 7,
     "status": "ok",
     "timestamp": 1660264557945,
     "user": {
      "displayName": "Martina Di Carlo",
      "userId": "17054237212499031598"
     },
     "user_tz": 180
    },
    "id": "YnfWZZdtwB2b",
    "outputId": "d62e1f79-5553-4d22-aaa9-f3c6f6621409"
   },
   "outputs": [
    {
     "data": {
      "text/plain": [
       "(627, 18)"
      ]
     },
     "execution_count": 88,
     "metadata": {},
     "output_type": "execute_result"
    }
   ],
   "source": [
    "df[to_train].shape"
   ]
  },
  {
   "cell_type": "code",
   "execution_count": 89,
   "metadata": {
    "executionInfo": {
     "elapsed": 269,
     "status": "ok",
     "timestamp": 1660264558208,
     "user": {
      "displayName": "Martina Di Carlo",
      "userId": "17054237212499031598"
     },
     "user_tz": 180
    },
    "id": "nwlXwvtivBzL"
   },
   "outputs": [],
   "source": [
    "df[to_label].to_csv(\"/content/drive/MyDrive/Austral/Maestria/Redes/Trabajo Final Redes/ML_dataset/to_label.csv\", index = False)\n",
    "df[to_train].to_csv(\"/content/drive/MyDrive/Austral/Maestria/Redes/Trabajo Final Redes/ML_dataset/to_train.csv\", index = False)"
   ]
  },
  {
   "cell_type": "code",
   "execution_count": 90,
   "metadata": {
    "colab": {
     "base_uri": "https://localhost:8080/"
    },
    "executionInfo": {
     "elapsed": 7,
     "status": "ok",
     "timestamp": 1660264558208,
     "user": {
      "displayName": "Martina Di Carlo",
      "userId": "17054237212499031598"
     },
     "user_tz": 180
    },
    "id": "phSoIYdAPDQ0",
    "outputId": "c70f93ee-9c5b-4ece-a10e-3728e2ed7981"
   },
   "outputs": [
    {
     "name": "stderr",
     "output_type": "stream",
     "text": [
      "/usr/local/lib/python3.7/dist-packages/ipykernel_launcher.py:4: SettingWithCopyWarning: \n",
      "A value is trying to be set on a copy of a slice from a DataFrame.\n",
      "Try using .loc[row_indexer,col_indexer] = value instead\n",
      "\n",
      "See the caveats in the documentation: https://pandas.pydata.org/pandas-docs/stable/user_guide/indexing.html#returning-a-view-versus-a-copy\n",
      "  after removing the cwd from sys.path.\n"
     ]
    }
   ],
   "source": [
    "labels = df[[\"id\", \"label\"]]\n",
    "labels.head()\n",
    "path_images = \"/content/drive/MyDrive/Austral/Maestria/Redes/Trabajo Final Redes/imagenes/MLA1652/\"\n",
    "labels[\"path\"] = path_images + \"categ-MLA1652_itemid-\" + df.id.copy() + \".jpg\""
   ]
  },
  {
   "cell_type": "code",
   "execution_count": 91,
   "metadata": {
    "executionInfo": {
     "elapsed": 41626,
     "status": "ok",
     "timestamp": 1660264599833,
     "user": {
      "displayName": "Martina Di Carlo",
      "userId": "17054237212499031598"
     },
     "user_tz": 180
    },
    "id": "yDtEIThummC2"
   },
   "outputs": [],
   "source": [
    "lista = []\n",
    "for file in os.listdir(path_images):\n",
    "  lista.append(file)\n"
   ]
  },
  {
   "cell_type": "code",
   "execution_count": 92,
   "metadata": {
    "colab": {
     "base_uri": "https://localhost:8080/",
     "height": 206
    },
    "executionInfo": {
     "elapsed": 22,
     "status": "ok",
     "timestamp": 1660264599833,
     "user": {
      "displayName": "Martina Di Carlo",
      "userId": "17054237212499031598"
     },
     "user_tz": 180
    },
    "id": "LMVzkyYpmtDc",
    "outputId": "4a179d67-e142-4b00-fb2d-de4bb511f8ec"
   },
   "outputs": [
    {
     "data": {
      "text/html": [
       "\n",
       "  <div id=\"df-b76ab6db-d85c-4928-acb2-01af5a205d35\">\n",
       "    <div class=\"colab-df-container\">\n",
       "      <div>\n",
       "<style scoped>\n",
       "    .dataframe tbody tr th:only-of-type {\n",
       "        vertical-align: middle;\n",
       "    }\n",
       "\n",
       "    .dataframe tbody tr th {\n",
       "        vertical-align: top;\n",
       "    }\n",
       "\n",
       "    .dataframe thead th {\n",
       "        text-align: right;\n",
       "    }\n",
       "</style>\n",
       "<table border=\"1\" class=\"dataframe\">\n",
       "  <thead>\n",
       "    <tr style=\"text-align: right;\">\n",
       "      <th></th>\n",
       "      <th>path_real</th>\n",
       "    </tr>\n",
       "  </thead>\n",
       "  <tbody>\n",
       "    <tr>\n",
       "      <th>0</th>\n",
       "      <td>/content/drive/MyDrive/Austral/Maestria/Redes/...</td>\n",
       "    </tr>\n",
       "    <tr>\n",
       "      <th>1</th>\n",
       "      <td>/content/drive/MyDrive/Austral/Maestria/Redes/...</td>\n",
       "    </tr>\n",
       "    <tr>\n",
       "      <th>2</th>\n",
       "      <td>/content/drive/MyDrive/Austral/Maestria/Redes/...</td>\n",
       "    </tr>\n",
       "    <tr>\n",
       "      <th>3</th>\n",
       "      <td>/content/drive/MyDrive/Austral/Maestria/Redes/...</td>\n",
       "    </tr>\n",
       "    <tr>\n",
       "      <th>4</th>\n",
       "      <td>/content/drive/MyDrive/Austral/Maestria/Redes/...</td>\n",
       "    </tr>\n",
       "  </tbody>\n",
       "</table>\n",
       "</div>\n",
       "      <button class=\"colab-df-convert\" onclick=\"convertToInteractive('df-b76ab6db-d85c-4928-acb2-01af5a205d35')\"\n",
       "              title=\"Convert this dataframe to an interactive table.\"\n",
       "              style=\"display:none;\">\n",
       "        \n",
       "  <svg xmlns=\"http://www.w3.org/2000/svg\" height=\"24px\"viewBox=\"0 0 24 24\"\n",
       "       width=\"24px\">\n",
       "    <path d=\"M0 0h24v24H0V0z\" fill=\"none\"/>\n",
       "    <path d=\"M18.56 5.44l.94 2.06.94-2.06 2.06-.94-2.06-.94-.94-2.06-.94 2.06-2.06.94zm-11 1L8.5 8.5l.94-2.06 2.06-.94-2.06-.94L8.5 2.5l-.94 2.06-2.06.94zm10 10l.94 2.06.94-2.06 2.06-.94-2.06-.94-.94-2.06-.94 2.06-2.06.94z\"/><path d=\"M17.41 7.96l-1.37-1.37c-.4-.4-.92-.59-1.43-.59-.52 0-1.04.2-1.43.59L10.3 9.45l-7.72 7.72c-.78.78-.78 2.05 0 2.83L4 21.41c.39.39.9.59 1.41.59.51 0 1.02-.2 1.41-.59l7.78-7.78 2.81-2.81c.8-.78.8-2.07 0-2.86zM5.41 20L4 18.59l7.72-7.72 1.47 1.35L5.41 20z\"/>\n",
       "  </svg>\n",
       "      </button>\n",
       "      \n",
       "  <style>\n",
       "    .colab-df-container {\n",
       "      display:flex;\n",
       "      flex-wrap:wrap;\n",
       "      gap: 12px;\n",
       "    }\n",
       "\n",
       "    .colab-df-convert {\n",
       "      background-color: #E8F0FE;\n",
       "      border: none;\n",
       "      border-radius: 50%;\n",
       "      cursor: pointer;\n",
       "      display: none;\n",
       "      fill: #1967D2;\n",
       "      height: 32px;\n",
       "      padding: 0 0 0 0;\n",
       "      width: 32px;\n",
       "    }\n",
       "\n",
       "    .colab-df-convert:hover {\n",
       "      background-color: #E2EBFA;\n",
       "      box-shadow: 0px 1px 2px rgba(60, 64, 67, 0.3), 0px 1px 3px 1px rgba(60, 64, 67, 0.15);\n",
       "      fill: #174EA6;\n",
       "    }\n",
       "\n",
       "    [theme=dark] .colab-df-convert {\n",
       "      background-color: #3B4455;\n",
       "      fill: #D2E3FC;\n",
       "    }\n",
       "\n",
       "    [theme=dark] .colab-df-convert:hover {\n",
       "      background-color: #434B5C;\n",
       "      box-shadow: 0px 1px 3px 1px rgba(0, 0, 0, 0.15);\n",
       "      filter: drop-shadow(0px 1px 2px rgba(0, 0, 0, 0.3));\n",
       "      fill: #FFFFFF;\n",
       "    }\n",
       "  </style>\n",
       "\n",
       "      <script>\n",
       "        const buttonEl =\n",
       "          document.querySelector('#df-b76ab6db-d85c-4928-acb2-01af5a205d35 button.colab-df-convert');\n",
       "        buttonEl.style.display =\n",
       "          google.colab.kernel.accessAllowed ? 'block' : 'none';\n",
       "\n",
       "        async function convertToInteractive(key) {\n",
       "          const element = document.querySelector('#df-b76ab6db-d85c-4928-acb2-01af5a205d35');\n",
       "          const dataTable =\n",
       "            await google.colab.kernel.invokeFunction('convertToInteractive',\n",
       "                                                     [key], {});\n",
       "          if (!dataTable) return;\n",
       "\n",
       "          const docLinkHtml = 'Like what you see? Visit the ' +\n",
       "            '<a target=\"_blank\" href=https://colab.research.google.com/notebooks/data_table.ipynb>data table notebook</a>'\n",
       "            + ' to learn more about interactive tables.';\n",
       "          element.innerHTML = '';\n",
       "          dataTable['output_type'] = 'display_data';\n",
       "          await google.colab.output.renderOutput(dataTable, element);\n",
       "          const docLink = document.createElement('div');\n",
       "          docLink.innerHTML = docLinkHtml;\n",
       "          element.appendChild(docLink);\n",
       "        }\n",
       "      </script>\n",
       "    </div>\n",
       "  </div>\n",
       "  "
      ],
      "text/plain": [
       "                                           path_real\n",
       "0  /content/drive/MyDrive/Austral/Maestria/Redes/...\n",
       "1  /content/drive/MyDrive/Austral/Maestria/Redes/...\n",
       "2  /content/drive/MyDrive/Austral/Maestria/Redes/...\n",
       "3  /content/drive/MyDrive/Austral/Maestria/Redes/...\n",
       "4  /content/drive/MyDrive/Austral/Maestria/Redes/..."
      ]
     },
     "execution_count": 92,
     "metadata": {},
     "output_type": "execute_result"
    }
   ],
   "source": [
    "df_fotos = pd.DataFrame(lista)\n",
    "df_fotos.columns = [\"0\"]\n",
    "df_fotos[\"path_real\"] = path_images + + df_fotos[\"0\"].copy()\n",
    "del df_fotos[\"0\"]\n",
    "df_fotos.head()"
   ]
  },
  {
   "cell_type": "code",
   "execution_count": 93,
   "metadata": {
    "colab": {
     "base_uri": "https://localhost:8080/",
     "height": 206
    },
    "executionInfo": {
     "elapsed": 15,
     "status": "ok",
     "timestamp": 1660264599833,
     "user": {
      "displayName": "Martina Di Carlo",
      "userId": "17054237212499031598"
     },
     "user_tz": 180
    },
    "id": "Q29zmEqJoyzL",
    "outputId": "cb8b04e2-557f-436a-9928-c106c414b83c"
   },
   "outputs": [
    {
     "data": {
      "text/html": [
       "\n",
       "  <div id=\"df-779e70f6-20cf-405b-8b73-9e341f8194ba\">\n",
       "    <div class=\"colab-df-container\">\n",
       "      <div>\n",
       "<style scoped>\n",
       "    .dataframe tbody tr th:only-of-type {\n",
       "        vertical-align: middle;\n",
       "    }\n",
       "\n",
       "    .dataframe tbody tr th {\n",
       "        vertical-align: top;\n",
       "    }\n",
       "\n",
       "    .dataframe thead th {\n",
       "        text-align: right;\n",
       "    }\n",
       "</style>\n",
       "<table border=\"1\" class=\"dataframe\">\n",
       "  <thead>\n",
       "    <tr style=\"text-align: right;\">\n",
       "      <th></th>\n",
       "      <th>id</th>\n",
       "      <th>label</th>\n",
       "      <th>path</th>\n",
       "    </tr>\n",
       "  </thead>\n",
       "  <tbody>\n",
       "    <tr>\n",
       "      <th>0</th>\n",
       "      <td>MLA1129251702</td>\n",
       "      <td>Estandar Premium</td>\n",
       "      <td>/content/drive/MyDrive/Austral/Maestria/Redes/...</td>\n",
       "    </tr>\n",
       "    <tr>\n",
       "      <th>1</th>\n",
       "      <td>MLA1147028688</td>\n",
       "      <td>Estandar Tradicional</td>\n",
       "      <td>/content/drive/MyDrive/Austral/Maestria/Redes/...</td>\n",
       "    </tr>\n",
       "    <tr>\n",
       "      <th>2</th>\n",
       "      <td>MLA1110784573</td>\n",
       "      <td>Estandar Tradicional</td>\n",
       "      <td>/content/drive/MyDrive/Austral/Maestria/Redes/...</td>\n",
       "    </tr>\n",
       "    <tr>\n",
       "      <th>3</th>\n",
       "      <td>MLA1149134293</td>\n",
       "      <td></td>\n",
       "      <td>/content/drive/MyDrive/Austral/Maestria/Redes/...</td>\n",
       "    </tr>\n",
       "    <tr>\n",
       "      <th>4</th>\n",
       "      <td>MLA1140410405</td>\n",
       "      <td>Estandar Tradicional</td>\n",
       "      <td>/content/drive/MyDrive/Austral/Maestria/Redes/...</td>\n",
       "    </tr>\n",
       "  </tbody>\n",
       "</table>\n",
       "</div>\n",
       "      <button class=\"colab-df-convert\" onclick=\"convertToInteractive('df-779e70f6-20cf-405b-8b73-9e341f8194ba')\"\n",
       "              title=\"Convert this dataframe to an interactive table.\"\n",
       "              style=\"display:none;\">\n",
       "        \n",
       "  <svg xmlns=\"http://www.w3.org/2000/svg\" height=\"24px\"viewBox=\"0 0 24 24\"\n",
       "       width=\"24px\">\n",
       "    <path d=\"M0 0h24v24H0V0z\" fill=\"none\"/>\n",
       "    <path d=\"M18.56 5.44l.94 2.06.94-2.06 2.06-.94-2.06-.94-.94-2.06-.94 2.06-2.06.94zm-11 1L8.5 8.5l.94-2.06 2.06-.94-2.06-.94L8.5 2.5l-.94 2.06-2.06.94zm10 10l.94 2.06.94-2.06 2.06-.94-2.06-.94-.94-2.06-.94 2.06-2.06.94z\"/><path d=\"M17.41 7.96l-1.37-1.37c-.4-.4-.92-.59-1.43-.59-.52 0-1.04.2-1.43.59L10.3 9.45l-7.72 7.72c-.78.78-.78 2.05 0 2.83L4 21.41c.39.39.9.59 1.41.59.51 0 1.02-.2 1.41-.59l7.78-7.78 2.81-2.81c.8-.78.8-2.07 0-2.86zM5.41 20L4 18.59l7.72-7.72 1.47 1.35L5.41 20z\"/>\n",
       "  </svg>\n",
       "      </button>\n",
       "      \n",
       "  <style>\n",
       "    .colab-df-container {\n",
       "      display:flex;\n",
       "      flex-wrap:wrap;\n",
       "      gap: 12px;\n",
       "    }\n",
       "\n",
       "    .colab-df-convert {\n",
       "      background-color: #E8F0FE;\n",
       "      border: none;\n",
       "      border-radius: 50%;\n",
       "      cursor: pointer;\n",
       "      display: none;\n",
       "      fill: #1967D2;\n",
       "      height: 32px;\n",
       "      padding: 0 0 0 0;\n",
       "      width: 32px;\n",
       "    }\n",
       "\n",
       "    .colab-df-convert:hover {\n",
       "      background-color: #E2EBFA;\n",
       "      box-shadow: 0px 1px 2px rgba(60, 64, 67, 0.3), 0px 1px 3px 1px rgba(60, 64, 67, 0.15);\n",
       "      fill: #174EA6;\n",
       "    }\n",
       "\n",
       "    [theme=dark] .colab-df-convert {\n",
       "      background-color: #3B4455;\n",
       "      fill: #D2E3FC;\n",
       "    }\n",
       "\n",
       "    [theme=dark] .colab-df-convert:hover {\n",
       "      background-color: #434B5C;\n",
       "      box-shadow: 0px 1px 3px 1px rgba(0, 0, 0, 0.15);\n",
       "      filter: drop-shadow(0px 1px 2px rgba(0, 0, 0, 0.3));\n",
       "      fill: #FFFFFF;\n",
       "    }\n",
       "  </style>\n",
       "\n",
       "      <script>\n",
       "        const buttonEl =\n",
       "          document.querySelector('#df-779e70f6-20cf-405b-8b73-9e341f8194ba button.colab-df-convert');\n",
       "        buttonEl.style.display =\n",
       "          google.colab.kernel.accessAllowed ? 'block' : 'none';\n",
       "\n",
       "        async function convertToInteractive(key) {\n",
       "          const element = document.querySelector('#df-779e70f6-20cf-405b-8b73-9e341f8194ba');\n",
       "          const dataTable =\n",
       "            await google.colab.kernel.invokeFunction('convertToInteractive',\n",
       "                                                     [key], {});\n",
       "          if (!dataTable) return;\n",
       "\n",
       "          const docLinkHtml = 'Like what you see? Visit the ' +\n",
       "            '<a target=\"_blank\" href=https://colab.research.google.com/notebooks/data_table.ipynb>data table notebook</a>'\n",
       "            + ' to learn more about interactive tables.';\n",
       "          element.innerHTML = '';\n",
       "          dataTable['output_type'] = 'display_data';\n",
       "          await google.colab.output.renderOutput(dataTable, element);\n",
       "          const docLink = document.createElement('div');\n",
       "          docLink.innerHTML = docLinkHtml;\n",
       "          element.appendChild(docLink);\n",
       "        }\n",
       "      </script>\n",
       "    </div>\n",
       "  </div>\n",
       "  "
      ],
      "text/plain": [
       "              id                 label  \\\n",
       "0  MLA1129251702      Estandar Premium   \n",
       "1  MLA1147028688  Estandar Tradicional   \n",
       "2  MLA1110784573  Estandar Tradicional   \n",
       "3  MLA1149134293                         \n",
       "4  MLA1140410405  Estandar Tradicional   \n",
       "\n",
       "                                                path  \n",
       "0  /content/drive/MyDrive/Austral/Maestria/Redes/...  \n",
       "1  /content/drive/MyDrive/Austral/Maestria/Redes/...  \n",
       "2  /content/drive/MyDrive/Austral/Maestria/Redes/...  \n",
       "3  /content/drive/MyDrive/Austral/Maestria/Redes/...  \n",
       "4  /content/drive/MyDrive/Austral/Maestria/Redes/...  "
      ]
     },
     "execution_count": 93,
     "metadata": {},
     "output_type": "execute_result"
    }
   ],
   "source": [
    "labels.head()"
   ]
  },
  {
   "cell_type": "code",
   "execution_count": 94,
   "metadata": {
    "colab": {
     "base_uri": "https://localhost:8080/"
    },
    "executionInfo": {
     "elapsed": 15,
     "status": "ok",
     "timestamp": 1660264599834,
     "user": {
      "displayName": "Martina Di Carlo",
      "userId": "17054237212499031598"
     },
     "user_tz": 180
    },
    "id": "aFa0OAcrsULd",
    "outputId": "317d5638-7fd1-470e-95e3-534d4c668597"
   },
   "outputs": [
    {
     "data": {
      "text/plain": [
       "(732, 3)"
      ]
     },
     "execution_count": 94,
     "metadata": {},
     "output_type": "execute_result"
    }
   ],
   "source": [
    "labels.shape"
   ]
  },
  {
   "cell_type": "code",
   "execution_count": 95,
   "metadata": {
    "colab": {
     "base_uri": "https://localhost:8080/"
    },
    "executionInfo": {
     "elapsed": 12,
     "status": "ok",
     "timestamp": 1660264599834,
     "user": {
      "displayName": "Martina Di Carlo",
      "userId": "17054237212499031598"
     },
     "user_tz": 180
    },
    "id": "IB_MwkDDsgYf",
    "outputId": "5e53e7a9-2bb3-48ce-e7e8-b59496ecf692"
   },
   "outputs": [
    {
     "data": {
      "text/plain": [
       "724"
      ]
     },
     "execution_count": 95,
     "metadata": {},
     "output_type": "execute_result"
    }
   ],
   "source": [
    "labels.path.nunique()"
   ]
  },
  {
   "cell_type": "code",
   "execution_count": 96,
   "metadata": {
    "colab": {
     "base_uri": "https://localhost:8080/"
    },
    "executionInfo": {
     "elapsed": 10,
     "status": "ok",
     "timestamp": 1660264599834,
     "user": {
      "displayName": "Martina Di Carlo",
      "userId": "17054237212499031598"
     },
     "user_tz": 180
    },
    "id": "ZrCCaNkVsbYu",
    "outputId": "b4e37915-beb6-44e0-d9c3-b51c6be8ee59"
   },
   "outputs": [
    {
     "data": {
      "text/plain": [
       "(9999, 1)"
      ]
     },
     "execution_count": 96,
     "metadata": {},
     "output_type": "execute_result"
    }
   ],
   "source": [
    "df_fotos.shape"
   ]
  },
  {
   "cell_type": "code",
   "execution_count": 97,
   "metadata": {
    "colab": {
     "base_uri": "https://localhost:8080/"
    },
    "executionInfo": {
     "elapsed": 7,
     "status": "ok",
     "timestamp": 1660264599834,
     "user": {
      "displayName": "Martina Di Carlo",
      "userId": "17054237212499031598"
     },
     "user_tz": 180
    },
    "id": "tEPPFcrzsctG",
    "outputId": "aadec774-2380-4820-f58d-d6abe6906a36"
   },
   "outputs": [
    {
     "data": {
      "text/plain": [
       "9999"
      ]
     },
     "execution_count": 97,
     "metadata": {},
     "output_type": "execute_result"
    }
   ],
   "source": [
    "df_fotos.path_real.nunique()"
   ]
  },
  {
   "cell_type": "code",
   "execution_count": 98,
   "metadata": {
    "executionInfo": {
     "elapsed": 455,
     "status": "ok",
     "timestamp": 1660264600284,
     "user": {
      "displayName": "Martina Di Carlo",
      "userId": "17054237212499031598"
     },
     "user_tz": 180
    },
    "id": "s7dioGZ_sk_Q"
   },
   "outputs": [],
   "source": [
    "result = labels.merge(df_fotos,\n",
    "             how = \"left\",\n",
    "             left_on = \"path\",\n",
    "             right_on = \"path_real\")\n",
    "del result[\"path\"], result[\"id\"]"
   ]
  },
  {
   "cell_type": "code",
   "execution_count": 99,
   "metadata": {
    "colab": {
     "base_uri": "https://localhost:8080/",
     "height": 206
    },
    "executionInfo": {
     "elapsed": 16,
     "status": "ok",
     "timestamp": 1660264600284,
     "user": {
      "displayName": "Martina Di Carlo",
      "userId": "17054237212499031598"
     },
     "user_tz": 180
    },
    "id": "wAUCQL1Hu5Bb",
    "outputId": "bdc8de19-f8f4-4d20-fd5d-202c1a4b89e7"
   },
   "outputs": [
    {
     "data": {
      "text/html": [
       "\n",
       "  <div id=\"df-b5f877aa-f0e2-4d28-b6ff-cc8921ce3427\">\n",
       "    <div class=\"colab-df-container\">\n",
       "      <div>\n",
       "<style scoped>\n",
       "    .dataframe tbody tr th:only-of-type {\n",
       "        vertical-align: middle;\n",
       "    }\n",
       "\n",
       "    .dataframe tbody tr th {\n",
       "        vertical-align: top;\n",
       "    }\n",
       "\n",
       "    .dataframe thead th {\n",
       "        text-align: right;\n",
       "    }\n",
       "</style>\n",
       "<table border=\"1\" class=\"dataframe\">\n",
       "  <thead>\n",
       "    <tr style=\"text-align: right;\">\n",
       "      <th></th>\n",
       "      <th>label</th>\n",
       "      <th>path_real</th>\n",
       "    </tr>\n",
       "  </thead>\n",
       "  <tbody>\n",
       "    <tr>\n",
       "      <th>0</th>\n",
       "      <td>Estandar Premium</td>\n",
       "      <td>NaN</td>\n",
       "    </tr>\n",
       "    <tr>\n",
       "      <th>1</th>\n",
       "      <td>Estandar Tradicional</td>\n",
       "      <td>NaN</td>\n",
       "    </tr>\n",
       "    <tr>\n",
       "      <th>2</th>\n",
       "      <td>Estandar Tradicional</td>\n",
       "      <td>NaN</td>\n",
       "    </tr>\n",
       "    <tr>\n",
       "      <th>3</th>\n",
       "      <td></td>\n",
       "      <td>NaN</td>\n",
       "    </tr>\n",
       "    <tr>\n",
       "      <th>4</th>\n",
       "      <td>Estandar Tradicional</td>\n",
       "      <td>/content/drive/MyDrive/Austral/Maestria/Redes/...</td>\n",
       "    </tr>\n",
       "  </tbody>\n",
       "</table>\n",
       "</div>\n",
       "      <button class=\"colab-df-convert\" onclick=\"convertToInteractive('df-b5f877aa-f0e2-4d28-b6ff-cc8921ce3427')\"\n",
       "              title=\"Convert this dataframe to an interactive table.\"\n",
       "              style=\"display:none;\">\n",
       "        \n",
       "  <svg xmlns=\"http://www.w3.org/2000/svg\" height=\"24px\"viewBox=\"0 0 24 24\"\n",
       "       width=\"24px\">\n",
       "    <path d=\"M0 0h24v24H0V0z\" fill=\"none\"/>\n",
       "    <path d=\"M18.56 5.44l.94 2.06.94-2.06 2.06-.94-2.06-.94-.94-2.06-.94 2.06-2.06.94zm-11 1L8.5 8.5l.94-2.06 2.06-.94-2.06-.94L8.5 2.5l-.94 2.06-2.06.94zm10 10l.94 2.06.94-2.06 2.06-.94-2.06-.94-.94-2.06-.94 2.06-2.06.94z\"/><path d=\"M17.41 7.96l-1.37-1.37c-.4-.4-.92-.59-1.43-.59-.52 0-1.04.2-1.43.59L10.3 9.45l-7.72 7.72c-.78.78-.78 2.05 0 2.83L4 21.41c.39.39.9.59 1.41.59.51 0 1.02-.2 1.41-.59l7.78-7.78 2.81-2.81c.8-.78.8-2.07 0-2.86zM5.41 20L4 18.59l7.72-7.72 1.47 1.35L5.41 20z\"/>\n",
       "  </svg>\n",
       "      </button>\n",
       "      \n",
       "  <style>\n",
       "    .colab-df-container {\n",
       "      display:flex;\n",
       "      flex-wrap:wrap;\n",
       "      gap: 12px;\n",
       "    }\n",
       "\n",
       "    .colab-df-convert {\n",
       "      background-color: #E8F0FE;\n",
       "      border: none;\n",
       "      border-radius: 50%;\n",
       "      cursor: pointer;\n",
       "      display: none;\n",
       "      fill: #1967D2;\n",
       "      height: 32px;\n",
       "      padding: 0 0 0 0;\n",
       "      width: 32px;\n",
       "    }\n",
       "\n",
       "    .colab-df-convert:hover {\n",
       "      background-color: #E2EBFA;\n",
       "      box-shadow: 0px 1px 2px rgba(60, 64, 67, 0.3), 0px 1px 3px 1px rgba(60, 64, 67, 0.15);\n",
       "      fill: #174EA6;\n",
       "    }\n",
       "\n",
       "    [theme=dark] .colab-df-convert {\n",
       "      background-color: #3B4455;\n",
       "      fill: #D2E3FC;\n",
       "    }\n",
       "\n",
       "    [theme=dark] .colab-df-convert:hover {\n",
       "      background-color: #434B5C;\n",
       "      box-shadow: 0px 1px 3px 1px rgba(0, 0, 0, 0.15);\n",
       "      filter: drop-shadow(0px 1px 2px rgba(0, 0, 0, 0.3));\n",
       "      fill: #FFFFFF;\n",
       "    }\n",
       "  </style>\n",
       "\n",
       "      <script>\n",
       "        const buttonEl =\n",
       "          document.querySelector('#df-b5f877aa-f0e2-4d28-b6ff-cc8921ce3427 button.colab-df-convert');\n",
       "        buttonEl.style.display =\n",
       "          google.colab.kernel.accessAllowed ? 'block' : 'none';\n",
       "\n",
       "        async function convertToInteractive(key) {\n",
       "          const element = document.querySelector('#df-b5f877aa-f0e2-4d28-b6ff-cc8921ce3427');\n",
       "          const dataTable =\n",
       "            await google.colab.kernel.invokeFunction('convertToInteractive',\n",
       "                                                     [key], {});\n",
       "          if (!dataTable) return;\n",
       "\n",
       "          const docLinkHtml = 'Like what you see? Visit the ' +\n",
       "            '<a target=\"_blank\" href=https://colab.research.google.com/notebooks/data_table.ipynb>data table notebook</a>'\n",
       "            + ' to learn more about interactive tables.';\n",
       "          element.innerHTML = '';\n",
       "          dataTable['output_type'] = 'display_data';\n",
       "          await google.colab.output.renderOutput(dataTable, element);\n",
       "          const docLink = document.createElement('div');\n",
       "          docLink.innerHTML = docLinkHtml;\n",
       "          element.appendChild(docLink);\n",
       "        }\n",
       "      </script>\n",
       "    </div>\n",
       "  </div>\n",
       "  "
      ],
      "text/plain": [
       "                  label                                          path_real\n",
       "0      Estandar Premium                                                NaN\n",
       "1  Estandar Tradicional                                                NaN\n",
       "2  Estandar Tradicional                                                NaN\n",
       "3                                                                      NaN\n",
       "4  Estandar Tradicional  /content/drive/MyDrive/Austral/Maestria/Redes/..."
      ]
     },
     "execution_count": 99,
     "metadata": {},
     "output_type": "execute_result"
    }
   ],
   "source": [
    "result.head()"
   ]
  },
  {
   "cell_type": "code",
   "execution_count": 100,
   "metadata": {
    "executionInfo": {
     "elapsed": 16,
     "status": "ok",
     "timestamp": 1660264600284,
     "user": {
      "displayName": "Martina Di Carlo",
      "userId": "17054237212499031598"
     },
     "user_tz": 180
    },
    "id": "a16mwLiK53-H"
   },
   "outputs": [],
   "source": [
    "result[\"path_real\"] = result[\"path_real\"].str.split(\"/\").str[10]\n",
    "result[\"dummy\"] = 1"
   ]
  },
  {
   "cell_type": "code",
   "execution_count": 101,
   "metadata": {
    "colab": {
     "base_uri": "https://localhost:8080/",
     "height": 206
    },
    "executionInfo": {
     "elapsed": 16,
     "status": "ok",
     "timestamp": 1660264600285,
     "user": {
      "displayName": "Martina Di Carlo",
      "userId": "17054237212499031598"
     },
     "user_tz": 180
    },
    "id": "SJNRRTpu7Adi",
    "outputId": "4e082b3e-13fd-4609-ca26-2e16e4e650f2"
   },
   "outputs": [
    {
     "data": {
      "text/html": [
       "\n",
       "  <div id=\"df-94e57cdb-3e73-4397-b1dd-0a638adb7c42\">\n",
       "    <div class=\"colab-df-container\">\n",
       "      <div>\n",
       "<style scoped>\n",
       "    .dataframe tbody tr th:only-of-type {\n",
       "        vertical-align: middle;\n",
       "    }\n",
       "\n",
       "    .dataframe tbody tr th {\n",
       "        vertical-align: top;\n",
       "    }\n",
       "\n",
       "    .dataframe thead th {\n",
       "        text-align: right;\n",
       "    }\n",
       "</style>\n",
       "<table border=\"1\" class=\"dataframe\">\n",
       "  <thead>\n",
       "    <tr style=\"text-align: right;\">\n",
       "      <th></th>\n",
       "      <th>label</th>\n",
       "      <th>path_real</th>\n",
       "      <th>dummy</th>\n",
       "    </tr>\n",
       "  </thead>\n",
       "  <tbody>\n",
       "    <tr>\n",
       "      <th>0</th>\n",
       "      <td>Estandar Premium</td>\n",
       "      <td>NaN</td>\n",
       "      <td>1</td>\n",
       "    </tr>\n",
       "    <tr>\n",
       "      <th>1</th>\n",
       "      <td>Estandar Tradicional</td>\n",
       "      <td>NaN</td>\n",
       "      <td>1</td>\n",
       "    </tr>\n",
       "    <tr>\n",
       "      <th>2</th>\n",
       "      <td>Estandar Tradicional</td>\n",
       "      <td>NaN</td>\n",
       "      <td>1</td>\n",
       "    </tr>\n",
       "    <tr>\n",
       "      <th>3</th>\n",
       "      <td></td>\n",
       "      <td>NaN</td>\n",
       "      <td>1</td>\n",
       "    </tr>\n",
       "    <tr>\n",
       "      <th>4</th>\n",
       "      <td>Estandar Tradicional</td>\n",
       "      <td>categ-MLA1652_itemid-MLA1140410405.jpg</td>\n",
       "      <td>1</td>\n",
       "    </tr>\n",
       "  </tbody>\n",
       "</table>\n",
       "</div>\n",
       "      <button class=\"colab-df-convert\" onclick=\"convertToInteractive('df-94e57cdb-3e73-4397-b1dd-0a638adb7c42')\"\n",
       "              title=\"Convert this dataframe to an interactive table.\"\n",
       "              style=\"display:none;\">\n",
       "        \n",
       "  <svg xmlns=\"http://www.w3.org/2000/svg\" height=\"24px\"viewBox=\"0 0 24 24\"\n",
       "       width=\"24px\">\n",
       "    <path d=\"M0 0h24v24H0V0z\" fill=\"none\"/>\n",
       "    <path d=\"M18.56 5.44l.94 2.06.94-2.06 2.06-.94-2.06-.94-.94-2.06-.94 2.06-2.06.94zm-11 1L8.5 8.5l.94-2.06 2.06-.94-2.06-.94L8.5 2.5l-.94 2.06-2.06.94zm10 10l.94 2.06.94-2.06 2.06-.94-2.06-.94-.94-2.06-.94 2.06-2.06.94z\"/><path d=\"M17.41 7.96l-1.37-1.37c-.4-.4-.92-.59-1.43-.59-.52 0-1.04.2-1.43.59L10.3 9.45l-7.72 7.72c-.78.78-.78 2.05 0 2.83L4 21.41c.39.39.9.59 1.41.59.51 0 1.02-.2 1.41-.59l7.78-7.78 2.81-2.81c.8-.78.8-2.07 0-2.86zM5.41 20L4 18.59l7.72-7.72 1.47 1.35L5.41 20z\"/>\n",
       "  </svg>\n",
       "      </button>\n",
       "      \n",
       "  <style>\n",
       "    .colab-df-container {\n",
       "      display:flex;\n",
       "      flex-wrap:wrap;\n",
       "      gap: 12px;\n",
       "    }\n",
       "\n",
       "    .colab-df-convert {\n",
       "      background-color: #E8F0FE;\n",
       "      border: none;\n",
       "      border-radius: 50%;\n",
       "      cursor: pointer;\n",
       "      display: none;\n",
       "      fill: #1967D2;\n",
       "      height: 32px;\n",
       "      padding: 0 0 0 0;\n",
       "      width: 32px;\n",
       "    }\n",
       "\n",
       "    .colab-df-convert:hover {\n",
       "      background-color: #E2EBFA;\n",
       "      box-shadow: 0px 1px 2px rgba(60, 64, 67, 0.3), 0px 1px 3px 1px rgba(60, 64, 67, 0.15);\n",
       "      fill: #174EA6;\n",
       "    }\n",
       "\n",
       "    [theme=dark] .colab-df-convert {\n",
       "      background-color: #3B4455;\n",
       "      fill: #D2E3FC;\n",
       "    }\n",
       "\n",
       "    [theme=dark] .colab-df-convert:hover {\n",
       "      background-color: #434B5C;\n",
       "      box-shadow: 0px 1px 3px 1px rgba(0, 0, 0, 0.15);\n",
       "      filter: drop-shadow(0px 1px 2px rgba(0, 0, 0, 0.3));\n",
       "      fill: #FFFFFF;\n",
       "    }\n",
       "  </style>\n",
       "\n",
       "      <script>\n",
       "        const buttonEl =\n",
       "          document.querySelector('#df-94e57cdb-3e73-4397-b1dd-0a638adb7c42 button.colab-df-convert');\n",
       "        buttonEl.style.display =\n",
       "          google.colab.kernel.accessAllowed ? 'block' : 'none';\n",
       "\n",
       "        async function convertToInteractive(key) {\n",
       "          const element = document.querySelector('#df-94e57cdb-3e73-4397-b1dd-0a638adb7c42');\n",
       "          const dataTable =\n",
       "            await google.colab.kernel.invokeFunction('convertToInteractive',\n",
       "                                                     [key], {});\n",
       "          if (!dataTable) return;\n",
       "\n",
       "          const docLinkHtml = 'Like what you see? Visit the ' +\n",
       "            '<a target=\"_blank\" href=https://colab.research.google.com/notebooks/data_table.ipynb>data table notebook</a>'\n",
       "            + ' to learn more about interactive tables.';\n",
       "          element.innerHTML = '';\n",
       "          dataTable['output_type'] = 'display_data';\n",
       "          await google.colab.output.renderOutput(dataTable, element);\n",
       "          const docLink = document.createElement('div');\n",
       "          docLink.innerHTML = docLinkHtml;\n",
       "          element.appendChild(docLink);\n",
       "        }\n",
       "      </script>\n",
       "    </div>\n",
       "  </div>\n",
       "  "
      ],
      "text/plain": [
       "                  label                               path_real  dummy\n",
       "0      Estandar Premium                                     NaN      1\n",
       "1  Estandar Tradicional                                     NaN      1\n",
       "2  Estandar Tradicional                                     NaN      1\n",
       "3                                                           NaN      1\n",
       "4  Estandar Tradicional  categ-MLA1652_itemid-MLA1140410405.jpg      1"
      ]
     },
     "execution_count": 101,
     "metadata": {},
     "output_type": "execute_result"
    }
   ],
   "source": [
    "result.head()"
   ]
  },
  {
   "cell_type": "code",
   "execution_count": 102,
   "metadata": {
    "executionInfo": {
     "elapsed": 16,
     "status": "ok",
     "timestamp": 1660264600285,
     "user": {
      "displayName": "Martina Di Carlo",
      "userId": "17054237212499031598"
     },
     "user_tz": 180
    },
    "id": "OQzeuIU8COxL"
   },
   "outputs": [],
   "source": [
    "del result[\"dummy\"]\n",
    "\n"
   ]
  },
  {
   "cell_type": "markdown",
   "metadata": {
    "id": "soB7ootUCgL7"
   },
   "source": [
    "{\"Estandar Tradicional\" : 1,\n",
    "               \"Estandar Premium\" : 2,\n",
    "               \"Gamer\" : 3}\n",
    "               "
   ]
  },
  {
   "cell_type": "code",
   "execution_count": 103,
   "metadata": {
    "executionInfo": {
     "elapsed": 15,
     "status": "ok",
     "timestamp": 1660264600285,
     "user": {
      "displayName": "Martina Di Carlo",
      "userId": "17054237212499031598"
     },
     "user_tz": 180
    },
    "id": "Kmdx0xiCCiQ2"
   },
   "outputs": [],
   "source": [
    "result[\"numeric_label\"] = np.where(result[\"label\"] == \"Estandar Tradicional\", 1 ,\n",
    "                                   np.where(result[\"label\"] == \"Estandar Premium\" ,2 ,\n",
    "                                            np.where(result[\"label\"] == \"Gamer\" ,3 , np.NaN)\n",
    "                                  ))\n",
    "                                  \n",
    "del result[\"label\"]"
   ]
  },
  {
   "cell_type": "code",
   "execution_count": 104,
   "metadata": {
    "colab": {
     "base_uri": "https://localhost:8080/"
    },
    "executionInfo": {
     "elapsed": 15,
     "status": "ok",
     "timestamp": 1660264600285,
     "user": {
      "displayName": "Martina Di Carlo",
      "userId": "17054237212499031598"
     },
     "user_tz": 180
    },
    "id": "VrWnFerwNWGC",
    "outputId": "c60b12f2-269e-42c1-e135-30d5fe408947"
   },
   "outputs": [
    {
     "data": {
      "text/plain": [
       "338"
      ]
     },
     "execution_count": 104,
     "metadata": {},
     "output_type": "execute_result"
    }
   ],
   "source": [
    "(result.numeric_label == 1).sum()"
   ]
  },
  {
   "cell_type": "code",
   "execution_count": 105,
   "metadata": {
    "colab": {
     "base_uri": "https://localhost:8080/"
    },
    "executionInfo": {
     "elapsed": 13,
     "status": "ok",
     "timestamp": 1660264600285,
     "user": {
      "displayName": "Martina Di Carlo",
      "userId": "17054237212499031598"
     },
     "user_tz": 180
    },
    "id": "LXsnU0B-M_Su",
    "outputId": "861242a4-bd00-4197-80ed-6c0ebe11d822"
   },
   "outputs": [
    {
     "data": {
      "text/plain": [
       "105"
      ]
     },
     "execution_count": 105,
     "metadata": {},
     "output_type": "execute_result"
    }
   ],
   "source": [
    "result.numeric_label.isna().sum()"
   ]
  },
  {
   "cell_type": "code",
   "execution_count": 106,
   "metadata": {
    "executionInfo": {
     "elapsed": 12,
     "status": "ok",
     "timestamp": 1660264600286,
     "user": {
      "displayName": "Martina Di Carlo",
      "userId": "17054237212499031598"
     },
     "user_tz": 180
    },
    "id": "HVAj7XbRC6Fn"
   },
   "outputs": [],
   "source": [
    "to_label_new = ( (result.numeric_label.isna()) & (result.path_real.notna()) )\n",
    "to_train_new = ( (result.numeric_label != \"\") & (result.numeric_label.notna())  & (result.path_real.notna()) & (result.path_real != \"\"))"
   ]
  },
  {
   "cell_type": "code",
   "execution_count": 107,
   "metadata": {
    "colab": {
     "base_uri": "https://localhost:8080/",
     "height": 206
    },
    "executionInfo": {
     "elapsed": 11,
     "status": "ok",
     "timestamp": 1660264600286,
     "user": {
      "displayName": "Martina Di Carlo",
      "userId": "17054237212499031598"
     },
     "user_tz": 180
    },
    "id": "XhEKYwHgUChO",
    "outputId": "0e1e8d23-d4f0-42ab-dbd7-dd0fb2d0056b"
   },
   "outputs": [
    {
     "data": {
      "text/html": [
       "\n",
       "  <div id=\"df-15e8269a-4c94-4d2a-b2c9-83b2028d45fc\">\n",
       "    <div class=\"colab-df-container\">\n",
       "      <div>\n",
       "<style scoped>\n",
       "    .dataframe tbody tr th:only-of-type {\n",
       "        vertical-align: middle;\n",
       "    }\n",
       "\n",
       "    .dataframe tbody tr th {\n",
       "        vertical-align: top;\n",
       "    }\n",
       "\n",
       "    .dataframe thead th {\n",
       "        text-align: right;\n",
       "    }\n",
       "</style>\n",
       "<table border=\"1\" class=\"dataframe\">\n",
       "  <thead>\n",
       "    <tr style=\"text-align: right;\">\n",
       "      <th></th>\n",
       "      <th>path_real</th>\n",
       "      <th>numeric_label</th>\n",
       "    </tr>\n",
       "  </thead>\n",
       "  <tbody>\n",
       "    <tr>\n",
       "      <th>7</th>\n",
       "      <td>categ-MLA1652_itemid-MLA1135443731.jpg</td>\n",
       "      <td>NaN</td>\n",
       "    </tr>\n",
       "    <tr>\n",
       "      <th>36</th>\n",
       "      <td>categ-MLA1652_itemid-MLA1143705696.jpg</td>\n",
       "      <td>NaN</td>\n",
       "    </tr>\n",
       "    <tr>\n",
       "      <th>82</th>\n",
       "      <td>categ-MLA1652_itemid-MLA1135594941.jpg</td>\n",
       "      <td>NaN</td>\n",
       "    </tr>\n",
       "    <tr>\n",
       "      <th>93</th>\n",
       "      <td>categ-MLA1652_itemid-MLA1121132117.jpg</td>\n",
       "      <td>NaN</td>\n",
       "    </tr>\n",
       "    <tr>\n",
       "      <th>117</th>\n",
       "      <td>categ-MLA1652_itemid-MLA1101075408.jpg</td>\n",
       "      <td>NaN</td>\n",
       "    </tr>\n",
       "  </tbody>\n",
       "</table>\n",
       "</div>\n",
       "      <button class=\"colab-df-convert\" onclick=\"convertToInteractive('df-15e8269a-4c94-4d2a-b2c9-83b2028d45fc')\"\n",
       "              title=\"Convert this dataframe to an interactive table.\"\n",
       "              style=\"display:none;\">\n",
       "        \n",
       "  <svg xmlns=\"http://www.w3.org/2000/svg\" height=\"24px\"viewBox=\"0 0 24 24\"\n",
       "       width=\"24px\">\n",
       "    <path d=\"M0 0h24v24H0V0z\" fill=\"none\"/>\n",
       "    <path d=\"M18.56 5.44l.94 2.06.94-2.06 2.06-.94-2.06-.94-.94-2.06-.94 2.06-2.06.94zm-11 1L8.5 8.5l.94-2.06 2.06-.94-2.06-.94L8.5 2.5l-.94 2.06-2.06.94zm10 10l.94 2.06.94-2.06 2.06-.94-2.06-.94-.94-2.06-.94 2.06-2.06.94z\"/><path d=\"M17.41 7.96l-1.37-1.37c-.4-.4-.92-.59-1.43-.59-.52 0-1.04.2-1.43.59L10.3 9.45l-7.72 7.72c-.78.78-.78 2.05 0 2.83L4 21.41c.39.39.9.59 1.41.59.51 0 1.02-.2 1.41-.59l7.78-7.78 2.81-2.81c.8-.78.8-2.07 0-2.86zM5.41 20L4 18.59l7.72-7.72 1.47 1.35L5.41 20z\"/>\n",
       "  </svg>\n",
       "      </button>\n",
       "      \n",
       "  <style>\n",
       "    .colab-df-container {\n",
       "      display:flex;\n",
       "      flex-wrap:wrap;\n",
       "      gap: 12px;\n",
       "    }\n",
       "\n",
       "    .colab-df-convert {\n",
       "      background-color: #E8F0FE;\n",
       "      border: none;\n",
       "      border-radius: 50%;\n",
       "      cursor: pointer;\n",
       "      display: none;\n",
       "      fill: #1967D2;\n",
       "      height: 32px;\n",
       "      padding: 0 0 0 0;\n",
       "      width: 32px;\n",
       "    }\n",
       "\n",
       "    .colab-df-convert:hover {\n",
       "      background-color: #E2EBFA;\n",
       "      box-shadow: 0px 1px 2px rgba(60, 64, 67, 0.3), 0px 1px 3px 1px rgba(60, 64, 67, 0.15);\n",
       "      fill: #174EA6;\n",
       "    }\n",
       "\n",
       "    [theme=dark] .colab-df-convert {\n",
       "      background-color: #3B4455;\n",
       "      fill: #D2E3FC;\n",
       "    }\n",
       "\n",
       "    [theme=dark] .colab-df-convert:hover {\n",
       "      background-color: #434B5C;\n",
       "      box-shadow: 0px 1px 3px 1px rgba(0, 0, 0, 0.15);\n",
       "      filter: drop-shadow(0px 1px 2px rgba(0, 0, 0, 0.3));\n",
       "      fill: #FFFFFF;\n",
       "    }\n",
       "  </style>\n",
       "\n",
       "      <script>\n",
       "        const buttonEl =\n",
       "          document.querySelector('#df-15e8269a-4c94-4d2a-b2c9-83b2028d45fc button.colab-df-convert');\n",
       "        buttonEl.style.display =\n",
       "          google.colab.kernel.accessAllowed ? 'block' : 'none';\n",
       "\n",
       "        async function convertToInteractive(key) {\n",
       "          const element = document.querySelector('#df-15e8269a-4c94-4d2a-b2c9-83b2028d45fc');\n",
       "          const dataTable =\n",
       "            await google.colab.kernel.invokeFunction('convertToInteractive',\n",
       "                                                     [key], {});\n",
       "          if (!dataTable) return;\n",
       "\n",
       "          const docLinkHtml = 'Like what you see? Visit the ' +\n",
       "            '<a target=\"_blank\" href=https://colab.research.google.com/notebooks/data_table.ipynb>data table notebook</a>'\n",
       "            + ' to learn more about interactive tables.';\n",
       "          element.innerHTML = '';\n",
       "          dataTable['output_type'] = 'display_data';\n",
       "          await google.colab.output.renderOutput(dataTable, element);\n",
       "          const docLink = document.createElement('div');\n",
       "          docLink.innerHTML = docLinkHtml;\n",
       "          element.appendChild(docLink);\n",
       "        }\n",
       "      </script>\n",
       "    </div>\n",
       "  </div>\n",
       "  "
      ],
      "text/plain": [
       "                                  path_real  numeric_label\n",
       "7    categ-MLA1652_itemid-MLA1135443731.jpg            NaN\n",
       "36   categ-MLA1652_itemid-MLA1143705696.jpg            NaN\n",
       "82   categ-MLA1652_itemid-MLA1135594941.jpg            NaN\n",
       "93   categ-MLA1652_itemid-MLA1121132117.jpg            NaN\n",
       "117  categ-MLA1652_itemid-MLA1101075408.jpg            NaN"
      ]
     },
     "execution_count": 107,
     "metadata": {},
     "output_type": "execute_result"
    }
   ],
   "source": [
    "result[to_label_new].head()"
   ]
  },
  {
   "cell_type": "code",
   "execution_count": 108,
   "metadata": {
    "colab": {
     "base_uri": "https://localhost:8080/"
    },
    "executionInfo": {
     "elapsed": 11,
     "status": "ok",
     "timestamp": 1660264600286,
     "user": {
      "displayName": "Martina Di Carlo",
      "userId": "17054237212499031598"
     },
     "user_tz": 180
    },
    "id": "CGVXK1SEUp0v",
    "outputId": "1146eab0-391c-41a8-ad7c-7c5d7ea7459c"
   },
   "outputs": [
    {
     "data": {
      "text/plain": [
       "(29, 2)"
      ]
     },
     "execution_count": 108,
     "metadata": {},
     "output_type": "execute_result"
    }
   ],
   "source": [
    "result[to_label_new].shape"
   ]
  },
  {
   "cell_type": "code",
   "execution_count": 109,
   "metadata": {
    "colab": {
     "base_uri": "https://localhost:8080/",
     "height": 206
    },
    "executionInfo": {
     "elapsed": 9,
     "status": "ok",
     "timestamp": 1660264600286,
     "user": {
      "displayName": "Martina Di Carlo",
      "userId": "17054237212499031598"
     },
     "user_tz": 180
    },
    "id": "kznK_1PzUsVJ",
    "outputId": "3df3bef1-de7c-4d4c-adfe-88c362d5dc8d"
   },
   "outputs": [
    {
     "data": {
      "text/html": [
       "\n",
       "  <div id=\"df-35c49ae3-fc36-443b-8ef2-dc7d273ec1a3\">\n",
       "    <div class=\"colab-df-container\">\n",
       "      <div>\n",
       "<style scoped>\n",
       "    .dataframe tbody tr th:only-of-type {\n",
       "        vertical-align: middle;\n",
       "    }\n",
       "\n",
       "    .dataframe tbody tr th {\n",
       "        vertical-align: top;\n",
       "    }\n",
       "\n",
       "    .dataframe thead th {\n",
       "        text-align: right;\n",
       "    }\n",
       "</style>\n",
       "<table border=\"1\" class=\"dataframe\">\n",
       "  <thead>\n",
       "    <tr style=\"text-align: right;\">\n",
       "      <th></th>\n",
       "      <th>path_real</th>\n",
       "      <th>numeric_label</th>\n",
       "    </tr>\n",
       "  </thead>\n",
       "  <tbody>\n",
       "    <tr>\n",
       "      <th>4</th>\n",
       "      <td>categ-MLA1652_itemid-MLA1140410405.jpg</td>\n",
       "      <td>1.00000</td>\n",
       "    </tr>\n",
       "    <tr>\n",
       "      <th>8</th>\n",
       "      <td>categ-MLA1652_itemid-MLA1136594401.jpg</td>\n",
       "      <td>1.00000</td>\n",
       "    </tr>\n",
       "    <tr>\n",
       "      <th>11</th>\n",
       "      <td>categ-MLA1652_itemid-MLA1138721902.jpg</td>\n",
       "      <td>1.00000</td>\n",
       "    </tr>\n",
       "    <tr>\n",
       "      <th>14</th>\n",
       "      <td>categ-MLA1652_itemid-MLA1141953786.jpg</td>\n",
       "      <td>1.00000</td>\n",
       "    </tr>\n",
       "    <tr>\n",
       "      <th>22</th>\n",
       "      <td>categ-MLA1652_itemid-MLA1141999385.jpg</td>\n",
       "      <td>1.00000</td>\n",
       "    </tr>\n",
       "  </tbody>\n",
       "</table>\n",
       "</div>\n",
       "      <button class=\"colab-df-convert\" onclick=\"convertToInteractive('df-35c49ae3-fc36-443b-8ef2-dc7d273ec1a3')\"\n",
       "              title=\"Convert this dataframe to an interactive table.\"\n",
       "              style=\"display:none;\">\n",
       "        \n",
       "  <svg xmlns=\"http://www.w3.org/2000/svg\" height=\"24px\"viewBox=\"0 0 24 24\"\n",
       "       width=\"24px\">\n",
       "    <path d=\"M0 0h24v24H0V0z\" fill=\"none\"/>\n",
       "    <path d=\"M18.56 5.44l.94 2.06.94-2.06 2.06-.94-2.06-.94-.94-2.06-.94 2.06-2.06.94zm-11 1L8.5 8.5l.94-2.06 2.06-.94-2.06-.94L8.5 2.5l-.94 2.06-2.06.94zm10 10l.94 2.06.94-2.06 2.06-.94-2.06-.94-.94-2.06-.94 2.06-2.06.94z\"/><path d=\"M17.41 7.96l-1.37-1.37c-.4-.4-.92-.59-1.43-.59-.52 0-1.04.2-1.43.59L10.3 9.45l-7.72 7.72c-.78.78-.78 2.05 0 2.83L4 21.41c.39.39.9.59 1.41.59.51 0 1.02-.2 1.41-.59l7.78-7.78 2.81-2.81c.8-.78.8-2.07 0-2.86zM5.41 20L4 18.59l7.72-7.72 1.47 1.35L5.41 20z\"/>\n",
       "  </svg>\n",
       "      </button>\n",
       "      \n",
       "  <style>\n",
       "    .colab-df-container {\n",
       "      display:flex;\n",
       "      flex-wrap:wrap;\n",
       "      gap: 12px;\n",
       "    }\n",
       "\n",
       "    .colab-df-convert {\n",
       "      background-color: #E8F0FE;\n",
       "      border: none;\n",
       "      border-radius: 50%;\n",
       "      cursor: pointer;\n",
       "      display: none;\n",
       "      fill: #1967D2;\n",
       "      height: 32px;\n",
       "      padding: 0 0 0 0;\n",
       "      width: 32px;\n",
       "    }\n",
       "\n",
       "    .colab-df-convert:hover {\n",
       "      background-color: #E2EBFA;\n",
       "      box-shadow: 0px 1px 2px rgba(60, 64, 67, 0.3), 0px 1px 3px 1px rgba(60, 64, 67, 0.15);\n",
       "      fill: #174EA6;\n",
       "    }\n",
       "\n",
       "    [theme=dark] .colab-df-convert {\n",
       "      background-color: #3B4455;\n",
       "      fill: #D2E3FC;\n",
       "    }\n",
       "\n",
       "    [theme=dark] .colab-df-convert:hover {\n",
       "      background-color: #434B5C;\n",
       "      box-shadow: 0px 1px 3px 1px rgba(0, 0, 0, 0.15);\n",
       "      filter: drop-shadow(0px 1px 2px rgba(0, 0, 0, 0.3));\n",
       "      fill: #FFFFFF;\n",
       "    }\n",
       "  </style>\n",
       "\n",
       "      <script>\n",
       "        const buttonEl =\n",
       "          document.querySelector('#df-35c49ae3-fc36-443b-8ef2-dc7d273ec1a3 button.colab-df-convert');\n",
       "        buttonEl.style.display =\n",
       "          google.colab.kernel.accessAllowed ? 'block' : 'none';\n",
       "\n",
       "        async function convertToInteractive(key) {\n",
       "          const element = document.querySelector('#df-35c49ae3-fc36-443b-8ef2-dc7d273ec1a3');\n",
       "          const dataTable =\n",
       "            await google.colab.kernel.invokeFunction('convertToInteractive',\n",
       "                                                     [key], {});\n",
       "          if (!dataTable) return;\n",
       "\n",
       "          const docLinkHtml = 'Like what you see? Visit the ' +\n",
       "            '<a target=\"_blank\" href=https://colab.research.google.com/notebooks/data_table.ipynb>data table notebook</a>'\n",
       "            + ' to learn more about interactive tables.';\n",
       "          element.innerHTML = '';\n",
       "          dataTable['output_type'] = 'display_data';\n",
       "          await google.colab.output.renderOutput(dataTable, element);\n",
       "          const docLink = document.createElement('div');\n",
       "          docLink.innerHTML = docLinkHtml;\n",
       "          element.appendChild(docLink);\n",
       "        }\n",
       "      </script>\n",
       "    </div>\n",
       "  </div>\n",
       "  "
      ],
      "text/plain": [
       "                                 path_real  numeric_label\n",
       "4   categ-MLA1652_itemid-MLA1140410405.jpg        1.00000\n",
       "8   categ-MLA1652_itemid-MLA1136594401.jpg        1.00000\n",
       "11  categ-MLA1652_itemid-MLA1138721902.jpg        1.00000\n",
       "14  categ-MLA1652_itemid-MLA1141953786.jpg        1.00000\n",
       "22  categ-MLA1652_itemid-MLA1141999385.jpg        1.00000"
      ]
     },
     "execution_count": 109,
     "metadata": {},
     "output_type": "execute_result"
    }
   ],
   "source": [
    "result[to_train_new].head()"
   ]
  },
  {
   "cell_type": "code",
   "execution_count": 110,
   "metadata": {
    "colab": {
     "base_uri": "https://localhost:8080/"
    },
    "executionInfo": {
     "elapsed": 10,
     "status": "ok",
     "timestamp": 1660264600287,
     "user": {
      "displayName": "Martina Di Carlo",
      "userId": "17054237212499031598"
     },
     "user_tz": 180
    },
    "id": "MhMb9zLwUvhe",
    "outputId": "8df15da6-c55f-43c3-8436-386a687834cf"
   },
   "outputs": [
    {
     "data": {
      "text/plain": [
       "(295, 2)"
      ]
     },
     "execution_count": 110,
     "metadata": {},
     "output_type": "execute_result"
    }
   ],
   "source": [
    "result[to_train_new].shape"
   ]
  },
  {
   "cell_type": "code",
   "execution_count": 111,
   "metadata": {
    "executionInfo": {
     "elapsed": 1004,
     "status": "ok",
     "timestamp": 1660264601283,
     "user": {
      "displayName": "Martina Di Carlo",
      "userId": "17054237212499031598"
     },
     "user_tz": 180
    },
    "id": "AGzXvfrkDfbp"
   },
   "outputs": [],
   "source": [
    "result[to_train_new].to_csv(\"/content/drive/MyDrive/Austral/Maestria/Redes/Trabajo Final Redes/to_train.csv\", index = False)\n",
    "result[to_label_new].to_csv(path + \"to_label.csv\", index = False)"
   ]
  }
 ],
 "metadata": {
  "colab": {
   "collapsed_sections": [],
   "name": "01_Labeling.ipynb",
   "version": ""
  },
  "kernelspec": {
   "display_name": "Python 3 (ipykernel)",
   "language": "python",
   "name": "python3"
  },
  "language_info": {
   "codemirror_mode": {
    "name": "ipython",
    "version": 3
   },
   "file_extension": ".py",
   "mimetype": "text/x-python",
   "name": "python",
   "nbconvert_exporter": "python",
   "pygments_lexer": "ipython3",
   "version": "3.10.4"
  }
 },
 "nbformat": 4,
 "nbformat_minor": 4
}
