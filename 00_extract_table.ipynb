{
 "cells": [
  {
   "cell_type": "markdown",
   "id": "2a4f9793-dc3c-4660-a482-c3e84a0035a1",
   "metadata": {
    "id": "2a4f9793-dc3c-4660-a482-c3e84a0035a1"
   },
   "source": [
    "# 00 - Extraccion de datos mediante API de Mercado Libre"
   ]
  },
  {
   "cell_type": "markdown",
   "id": "d11af2b2-62f6-4ec6-895e-20d767761a2d",
   "metadata": {
    "id": "d11af2b2-62f6-4ec6-895e-20d767761a2d"
   },
   "source": [
    "## Importación de librerias"
   ]
  },
  {
   "cell_type": "code",
   "execution_count": 1,
   "id": "6de3dc67-284a-4b29-aaa1-483a7dbba200",
   "metadata": {
    "colab": {
     "base_uri": "https://localhost:8080/"
    },
    "executionInfo": {
     "elapsed": 261,
     "status": "ok",
     "timestamp": 1660252940403,
     "user": {
      "displayName": "Martina Di Carlo",
      "userId": "17054237212499031598"
     },
     "user_tz": 180
    },
    "id": "6de3dc67-284a-4b29-aaa1-483a7dbba200",
    "outputId": "01854150-c2f8-44d8-cacf-ffb74b50b654"
   },
   "outputs": [
    {
     "name": "stdout",
     "output_type": "stream",
     "text": [
      "Libreria: 'pyprojroot' esta instalada y se cargo correctamente\n",
      "Libreria: 'seaborn' esta instalada y se cargo correctamente\n"
     ]
    }
   ],
   "source": [
    "import pandas as pd\n",
    "import numpy as np\n",
    "import json\n",
    "import requests\n",
    "\n",
    "from datetime import datetime, timedelta, timezone, date\n",
    "pd.options.display.max_columns=None\n",
    "\n",
    "try:\n",
    "    from pyprojroot import here\n",
    "    print(\"Libreria: 'pyprojroot' esta instalada y se cargo correctamente\")\n",
    "except ModuleNotFoundError:\n",
    "    print(\"Libreria: 'pyprojroot' no esta instalada, se debe instalar\")\n",
    "    !pip install pyprojroot\n",
    "\n",
    "import matplotlib.pyplot as plt\n",
    "import os\n",
    "\n",
    "try:\n",
    "    import seaborn as sns\n",
    "    print(\"Libreria: 'seaborn' esta instalada y se cargo correctamente\")\n",
    "except ModuleNotFoundError:\n",
    "    print(\"Libreria: 'seaborn' no esta instalada, se debe instalar\")\n",
    "    !pip install seaborn\n"
   ]
  },
  {
   "cell_type": "code",
   "execution_count": 2,
   "id": "20bcb265-ec29-4515-a6b1-510f22526e97",
   "metadata": {},
   "outputs": [
    {
     "data": {
      "text/plain": [
       "WindowsPath('C:/Users/marti/OneDrive/Escritorio/Tesis/mdc-tesis')"
      ]
     },
     "execution_count": 2,
     "metadata": {},
     "output_type": "execute_result"
    }
   ],
   "source": [
    "here()"
   ]
  },
  {
   "cell_type": "code",
   "execution_count": 3,
   "id": "uQX1zIwjD070",
   "metadata": {
    "executionInfo": {
     "elapsed": 276,
     "status": "ok",
     "timestamp": 1660261747766,
     "user": {
      "displayName": "Martina Di Carlo",
      "userId": "17054237212499031598"
     },
     "user_tz": 180
    },
    "id": "uQX1zIwjD070"
   },
   "outputs": [],
   "source": [
    "path_save = here() / \"data\" "
   ]
  },
  {
   "cell_type": "code",
   "execution_count": 4,
   "id": "38744ab4-392f-4efe-833c-6d5f51c97caa",
   "metadata": {
    "id": "7da24226-43b8-477f-849e-ef54bd133597"
   },
   "outputs": [],
   "source": [
    "import sys\n",
    "sys.path.append(here())\n",
    "from utils.utils import get_q_items, create_item_list, get_available_filters, get_df_list"
   ]
  },
  {
   "cell_type": "markdown",
   "id": "o4F8zUqqdo0w",
   "metadata": {
    "id": "o4F8zUqqdo0w"
   },
   "source": [
    "## Armado del Dataset"
   ]
  },
  {
   "cell_type": "markdown",
   "id": "geOsBihYdthM",
   "metadata": {
    "id": "geOsBihYdthM"
   },
   "source": [
    "Para armar el dataset descargaremos para Mercado Libre Argentina laptops publicadas. La categoría se llama: MLA1652.\n",
    "La API tiene una restricción que no permite utilizar un offset mayor a 4000. Esto nos permite descargar menos de 4000 publicaciones por loop.\n",
    "Es por ello que se han armado ciertos grupos para descargar la información por grupo. Esto nos permite tambien etiquetar a las publicaciones con este atributo, \n",
    "elemento que no se obtiene descargando la información de la publicación."
   ]
  },
  {
   "cell_type": "markdown",
   "id": "ba1e601d-adc9-48df-9d0d-f90fa8742c5f",
   "metadata": {},
   "source": [
    "<img src=\"Grupos.png\" alt=\"Drawing\" style=\"width: 501px;\"/>\n"
   ]
  },
  {
   "cell_type": "markdown",
   "id": "801de992-9619-4627-a606-9f9e830697f6",
   "metadata": {},
   "source": [
    "Para armar estos grupos necesitamos filtar desde el url mediante los siguientes nombres:  \n",
    "\n",
    "* installments:  \n",
    "    + yes  \n",
    "    + no_interest  \n",
    "* power_seller:  \n",
    "    + yes  \n",
    "    + no  \n",
    "* shipping_cost:  \n",
    "    + get_available_filtersfree  \n",
    "            "
   ]
  },
  {
   "cell_type": "markdown",
   "id": "14c78377-9fab-4def-b0ad-f27d1df9b424",
   "metadata": {},
   "source": [
    "### Grupo 1"
   ]
  },
  {
   "cell_type": "code",
   "execution_count": 5,
   "id": "6926988c-fb36-45a8-9430-7b849835778a",
   "metadata": {},
   "outputs": [],
   "source": [
    "filters = {\"installments\":\"yes\",\n",
    "           \"power_seller\":\"yes\",\n",
    "          \"shipping_cost\":\"free\"}\n"
   ]
  },
  {
   "cell_type": "code",
   "execution_count": 6,
   "id": "ae406d56-71f5-4203-bbdd-4532ccf69a79",
   "metadata": {},
   "outputs": [
    {
     "name": "stdout",
     "output_type": "stream",
     "text": [
      "http://auth.mercadolibre.com.ar/authorization?response_type=code&client_id=8800815426780367&redirect_uri=https://www.google.com.ar/\n"
     ]
    },
    {
     "name": "stdin",
     "output_type": "stream",
     "text": [
      "Codigo : TG-6303ef96351783000185c312-216145475\n"
     ]
    },
    {
     "name": "stdout",
     "output_type": "stream",
     "text": [
      "<Response [200]>\n",
      "Encontramos 5492 resultados para nuestra consulta\n"
     ]
    }
   ],
   "source": [
    "maximum = get_q_items(filters = filters)\n",
    "print(f'Encontramos {maximum} resultados para nuestra consulta')\n"
   ]
  },
  {
   "cell_type": "code",
   "execution_count": 7,
   "id": "r2f4Jgo8ex5S",
   "metadata": {
    "colab": {
     "base_uri": "https://localhost:8080/"
    },
    "executionInfo": {
     "elapsed": 455060,
     "status": "ok",
     "timestamp": 1660253404614,
     "user": {
      "displayName": "Martina Di Carlo",
      "userId": "17054237212499031598"
     },
     "user_tz": 180
    },
    "id": "r2f4Jgo8ex5S",
    "outputId": "c20cc789-8844-4069-e383-72c32363c5aa"
   },
   "outputs": [
    {
     "name": "stdout",
     "output_type": "stream",
     "text": [
      "El offst es 4000 se terminará la ejecución.\n"
     ]
    }
   ],
   "source": [
    "item_list = create_item_list(filters = filters)"
   ]
  },
  {
   "cell_type": "code",
   "execution_count": 8,
   "id": "BBoEQM_yprK9",
   "metadata": {
    "colab": {
     "base_uri": "https://localhost:8080/",
     "height": 485
    },
    "executionInfo": {
     "elapsed": 3875,
     "status": "ok",
     "timestamp": 1660261722978,
     "user": {
      "displayName": "Martina Di Carlo",
      "userId": "17054237212499031598"
     },
     "user_tz": 180
    },
    "id": "BBoEQM_yprK9",
    "outputId": "6a64e782-1180-486f-c758-5726c8ea8248"
   },
   "outputs": [
    {
     "name": "stdout",
     "output_type": "stream",
     "text": [
      "Porcentaje de completitud: 100.00%\r"
     ]
    }
   ],
   "source": [
    "data = get_df_list(item_list)\n",
    "data[\"installment\"] = \"yes\"\n",
    "data[\"power_seller\"] = \"yes\" \n",
    "\n",
    "\n",
    "data[\"shipping_cost\"] = \"free\""
   ]
  },
  {
   "cell_type": "markdown",
   "id": "78f45e1d-283f-4638-8205-08567935571e",
   "metadata": {},
   "source": [
    "### Grupo 2"
   ]
  },
  {
   "cell_type": "code",
   "execution_count": 9,
   "id": "c38c94e8-9f46-4ddf-9dde-16401e0ad4b5",
   "metadata": {},
   "outputs": [],
   "source": [
    "filters = {\"installments\":\"yes\",\n",
    "           \"power_seller\":\"no\",\n",
    "          \"shipping_cost\":\"free\"}\n"
   ]
  },
  {
   "cell_type": "code",
   "execution_count": 10,
   "id": "4d30ea08-ba47-4118-b14b-ce35fb9ec9d6",
   "metadata": {},
   "outputs": [
    {
     "name": "stdout",
     "output_type": "stream",
     "text": [
      "Encontramos 13958 resultados para nuestra consulta\n"
     ]
    }
   ],
   "source": [
    "maximum = get_q_items(filters = filters)\n",
    "print(f'Encontramos {maximum} resultados para nuestra consulta')\n"
   ]
  },
  {
   "cell_type": "code",
   "execution_count": 11,
   "id": "3cfe3d3b-d17b-47e6-a771-50e62e1e57bb",
   "metadata": {
    "colab": {
     "base_uri": "https://localhost:8080/"
    },
    "executionInfo": {
     "elapsed": 455060,
     "status": "ok",
     "timestamp": 1660253404614,
     "user": {
      "displayName": "Martina Di Carlo",
      "userId": "17054237212499031598"
     },
     "user_tz": 180
    },
    "id": "r2f4Jgo8ex5S",
    "outputId": "c20cc789-8844-4069-e383-72c32363c5aa"
   },
   "outputs": [
    {
     "name": "stdout",
     "output_type": "stream",
     "text": [
      "El offst es 4000 se terminará la ejecución.\n"
     ]
    }
   ],
   "source": [
    "item_list = create_item_list(filters = filters)"
   ]
  },
  {
   "cell_type": "code",
   "execution_count": 12,
   "id": "f723a9df-9866-4220-87ba-3e162158a420",
   "metadata": {
    "colab": {
     "base_uri": "https://localhost:8080/",
     "height": 485
    },
    "executionInfo": {
     "elapsed": 3875,
     "status": "ok",
     "timestamp": 1660261722978,
     "user": {
      "displayName": "Martina Di Carlo",
      "userId": "17054237212499031598"
     },
     "user_tz": 180
    },
    "id": "BBoEQM_yprK9",
    "outputId": "6a64e782-1180-486f-c758-5726c8ea8248"
   },
   "outputs": [
    {
     "name": "stdout",
     "output_type": "stream",
     "text": [
      "Porcentaje de completitud: 100.00%\r"
     ]
    }
   ],
   "source": [
    "data2 = get_df_list(item_list)\n",
    "data2[\"installment\"] = \"yes\"\n",
    "data2[\"power_seller\"] = \"no\"\n",
    "data2[\"shipping_cost\"] = \"free\""
   ]
  },
  {
   "cell_type": "markdown",
   "id": "fa9be5c4-e9b8-4001-b91b-9a562f38f680",
   "metadata": {},
   "source": [
    "### Grupo 3"
   ]
  },
  {
   "cell_type": "code",
   "execution_count": 13,
   "id": "28aad9f6-b14a-4015-af4f-85a19a74cf55",
   "metadata": {},
   "outputs": [],
   "source": [
    "filters = {\"installments\":\"no_interest\",\n",
    "           \"power_seller\":\"yes\",\n",
    "          \"shipping_cost\":\"free\"}\n"
   ]
  },
  {
   "cell_type": "code",
   "execution_count": 14,
   "id": "98e36a38-7837-4994-9281-ff46bfa4f1c6",
   "metadata": {},
   "outputs": [
    {
     "name": "stdout",
     "output_type": "stream",
     "text": [
      "Encontramos 3519 resultados para nuestra consulta\n"
     ]
    }
   ],
   "source": [
    "maximum = get_q_items(filters = filters)\n",
    "print(f'Encontramos {maximum} resultados para nuestra consulta')\n"
   ]
  },
  {
   "cell_type": "code",
   "execution_count": 15,
   "id": "2e736f6a-3836-46d0-9d70-271b2e15a3bb",
   "metadata": {
    "colab": {
     "base_uri": "https://localhost:8080/"
    },
    "executionInfo": {
     "elapsed": 455060,
     "status": "ok",
     "timestamp": 1660253404614,
     "user": {
      "displayName": "Martina Di Carlo",
      "userId": "17054237212499031598"
     },
     "user_tz": 180
    },
    "id": "r2f4Jgo8ex5S",
    "outputId": "c20cc789-8844-4069-e383-72c32363c5aa"
   },
   "outputs": [
    {
     "name": "stdout",
     "output_type": "stream",
     "text": [
      "Porcentaje de completitud: 99.46%\r"
     ]
    }
   ],
   "source": [
    "item_list = create_item_list(filters = filters)"
   ]
  },
  {
   "cell_type": "code",
   "execution_count": 16,
   "id": "3fcd3ea5-b34b-4dc6-95b9-a45344a18ad1",
   "metadata": {
    "colab": {
     "base_uri": "https://localhost:8080/",
     "height": 485
    },
    "executionInfo": {
     "elapsed": 3875,
     "status": "ok",
     "timestamp": 1660261722978,
     "user": {
      "displayName": "Martina Di Carlo",
      "userId": "17054237212499031598"
     },
     "user_tz": 180
    },
    "id": "BBoEQM_yprK9",
    "outputId": "6a64e782-1180-486f-c758-5726c8ea8248"
   },
   "outputs": [
    {
     "name": "stdout",
     "output_type": "stream",
     "text": [
      "Porcentaje de completitud: 100.00%\r"
     ]
    }
   ],
   "source": [
    "data3 = get_df_list(item_list)\n",
    "data3[\"installment\"] = \"no_interest\"\n",
    "data3[\"power_seller\"] = \"yes\"\n",
    "data3[\"shipping_cost\"] = \"free\""
   ]
  },
  {
   "cell_type": "markdown",
   "id": "06689401-9b9e-4197-8620-d3213b26c24a",
   "metadata": {},
   "source": [
    "### Grupo 4"
   ]
  },
  {
   "cell_type": "code",
   "execution_count": 17,
   "id": "c6f87cd1-4771-4230-8f94-677ebdf5753f",
   "metadata": {},
   "outputs": [],
   "source": [
    "filters = {\"installments\":\"no_interest\",\n",
    "           \"power_seller\":\"no\",\n",
    "          \"shipping_cost\":\"free\"}\n"
   ]
  },
  {
   "cell_type": "code",
   "execution_count": 18,
   "id": "a4d72a01-6640-4b79-ac98-8a934d0fd259",
   "metadata": {},
   "outputs": [
    {
     "name": "stdout",
     "output_type": "stream",
     "text": [
      "Encontramos 5069 resultados para nuestra consulta\n"
     ]
    }
   ],
   "source": [
    "maximum = get_q_items(filters = filters)\n",
    "print(f'Encontramos {maximum} resultados para nuestra consulta')\n"
   ]
  },
  {
   "cell_type": "code",
   "execution_count": 19,
   "id": "bb70702c-8a18-4e30-aa5d-65e6652a0de9",
   "metadata": {
    "colab": {
     "base_uri": "https://localhost:8080/"
    },
    "executionInfo": {
     "elapsed": 455060,
     "status": "ok",
     "timestamp": 1660253404614,
     "user": {
      "displayName": "Martina Di Carlo",
      "userId": "17054237212499031598"
     },
     "user_tz": 180
    },
    "id": "r2f4Jgo8ex5S",
    "outputId": "c20cc789-8844-4069-e383-72c32363c5aa"
   },
   "outputs": [
    {
     "name": "stdout",
     "output_type": "stream",
     "text": [
      "El offst es 4000 se terminará la ejecución.\n"
     ]
    }
   ],
   "source": [
    "item_list = create_item_list(filters = filters)"
   ]
  },
  {
   "cell_type": "code",
   "execution_count": 20,
   "id": "8a57b4ca-7a38-41e4-bddc-c326188b209b",
   "metadata": {
    "colab": {
     "base_uri": "https://localhost:8080/",
     "height": 485
    },
    "executionInfo": {
     "elapsed": 3875,
     "status": "ok",
     "timestamp": 1660261722978,
     "user": {
      "displayName": "Martina Di Carlo",
      "userId": "17054237212499031598"
     },
     "user_tz": 180
    },
    "id": "BBoEQM_yprK9",
    "outputId": "6a64e782-1180-486f-c758-5726c8ea8248"
   },
   "outputs": [
    {
     "name": "stdout",
     "output_type": "stream",
     "text": [
      "Porcentaje de completitud: 100.00%\r"
     ]
    }
   ],
   "source": [
    "data4 = get_df_list(item_list)\n",
    "data4[\"installment\"] = \"no_interest\"\n",
    "data4[\"power_seller\"] = \"no\"\n",
    "data4[\"shipping_cost\"] = \"free\""
   ]
  },
  {
   "cell_type": "markdown",
   "id": "65e6415e-d73f-49e3-a757-48cdb41e8908",
   "metadata": {},
   "source": [
    "________________________"
   ]
  },
  {
   "cell_type": "code",
   "execution_count": 21,
   "id": "54708f83-d21a-4022-ae4b-fb0ad81ec95e",
   "metadata": {},
   "outputs": [],
   "source": [
    "data = pd.concat([data, data2, data3, data4])"
   ]
  },
  {
   "cell_type": "code",
   "execution_count": 22,
   "id": "ed252f73-4a46-478a-92a8-c9d9fe28c278",
   "metadata": {},
   "outputs": [
    {
     "data": {
      "text/plain": [
       "(15493, 76)"
      ]
     },
     "execution_count": 22,
     "metadata": {},
     "output_type": "execute_result"
    }
   ],
   "source": [
    "data.shape"
   ]
  },
  {
   "cell_type": "code",
   "execution_count": 23,
   "id": "wWy2AF-3puLv",
   "metadata": {
    "colab": {
     "base_uri": "https://localhost:8080/"
    },
    "executionInfo": {
     "elapsed": 255,
     "status": "ok",
     "timestamp": 1660261727483,
     "user": {
      "displayName": "Martina Di Carlo",
      "userId": "17054237212499031598"
     },
     "user_tz": 180
    },
    "id": "wWy2AF-3puLv",
    "outputId": "60094781-22dc-4fe3-eb40-9f6983ca55fd"
   },
   "outputs": [
    {
     "data": {
      "text/plain": [
       "Notebook Asus Vivobook Core I3 11va 8gb 512gb 17 Pulgadas       16\n",
       "Notebook Asus R410ma Intel Celeron 4gb 128gb Emmc Windows 10    14\n",
       "Notebook Pcbox Fire 3 I3-1005g1 8gb Ram  Ssd 256 14  Win10      12\n",
       "Apple Macbook Pro 13 Touch Bar M1 8gb 256gb Space Gray          10\n",
       "Notebook Hp Amd Ryzen 5 8gb Ram 256gb Ssd Windows 11 Full Hd    10\n",
       "                                                                ..\n",
       "Notebook Lenovo Core I5 ( 16gb + 256gb Ssd ) Qhd W10 Outlet      1\n",
       "Notebook Positivo Bgh Z100 Cel 2.16 Ghz/ssd 120 Gb /4 Gb Ram     1\n",
       "Notebook 16gb + 256 Ssd / Hp 13 Ryzen 7 Fhd Win 10 Outlet        1\n",
       "Notebook Hp Pavilion X360 14-dy0502la Core I3 8gb 256 M2 W10     1\n",
       "Macbook Air 2015 13 Usada                                        1\n",
       "Name: title, Length: 6680, dtype: int64"
      ]
     },
     "execution_count": 23,
     "metadata": {},
     "output_type": "execute_result"
    }
   ],
   "source": [
    "data.title.value_counts()"
   ]
  },
  {
   "cell_type": "code",
   "execution_count": 24,
   "id": "wmWFcc4WDdmQ",
   "metadata": {
    "executionInfo": {
     "elapsed": 26556,
     "status": "ok",
     "timestamp": 1660261774830,
     "user": {
      "displayName": "Martina Di Carlo",
      "userId": "17054237212499031598"
     },
     "user_tz": 180
    },
    "id": "wmWFcc4WDdmQ"
   },
   "outputs": [],
   "source": [
    "data.to_csv(path_save / \"datos_laptops.csv\", index = False, sep = \";\")"
   ]
  }
 ],
 "metadata": {
  "colab": {
   "name": "00_extract_table.ipynb",
   "provenance": [
    {
     "file_id": "1MKjfoeo7kih0sPT5yZq7VcAAocvTb9p1",
     "timestamp": 1657505217098
    }
   ]
  },
  "kernelspec": {
   "display_name": "Python 3 (ipykernel)",
   "language": "python",
   "name": "python3"
  },
  "language_info": {
   "codemirror_mode": {
    "name": "ipython",
    "version": 3
   },
   "file_extension": ".py",
   "mimetype": "text/x-python",
   "name": "python",
   "nbconvert_exporter": "python",
   "pygments_lexer": "ipython3",
   "version": "3.10.4"
  }
 },
 "nbformat": 4,
 "nbformat_minor": 5
}
