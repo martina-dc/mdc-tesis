{
 "cells": [
  {
   "cell_type": "markdown",
   "id": "2a4f9793-dc3c-4660-a482-c3e84a0035a1",
   "metadata": {
    "id": "2a4f9793-dc3c-4660-a482-c3e84a0035a1"
   },
   "source": [
    "# 00 - Extraccion de datos mediante API de Mercado Libre"
   ]
  },
  {
   "cell_type": "markdown",
   "id": "d11af2b2-62f6-4ec6-895e-20d767761a2d",
   "metadata": {
    "id": "d11af2b2-62f6-4ec6-895e-20d767761a2d"
   },
   "source": [
    "## Importación de librerias"
   ]
  },
  {
   "cell_type": "code",
   "execution_count": 1,
   "id": "6de3dc67-284a-4b29-aaa1-483a7dbba200",
   "metadata": {
    "colab": {
     "base_uri": "https://localhost:8080/"
    },
    "executionInfo": {
     "elapsed": 261,
     "status": "ok",
     "timestamp": 1660252940403,
     "user": {
      "displayName": "Martina Di Carlo",
      "userId": "17054237212499031598"
     },
     "user_tz": 180
    },
    "id": "6de3dc67-284a-4b29-aaa1-483a7dbba200",
    "outputId": "01854150-c2f8-44d8-cacf-ffb74b50b654"
   },
   "outputs": [
    {
     "name": "stdout",
     "output_type": "stream",
     "text": [
      "Libreria: 'pyprojroot' esta instalada y se cargo correctamente\n",
      "Libreria: 'seaborn' esta instalada y se cargo correctamente\n"
     ]
    }
   ],
   "source": [
    "import pandas as pd\n",
    "import numpy as np\n",
    "import json\n",
    "import requests\n",
    "\n",
    "from datetime import datetime, timedelta, timezone, date\n",
    "pd.options.display.max_columns=None\n",
    "\n",
    "try:\n",
    "    from pyprojroot import here\n",
    "    print(\"Libreria: 'pyprojroot' esta instalada y se cargo correctamente\")\n",
    "except ModuleNotFoundError:\n",
    "    print(\"Libreria: 'pyprojroot' no esta instalada, se debe instalar\")\n",
    "    !pip install pyprojroot\n",
    "\n",
    "import matplotlib.pyplot as plt\n",
    "import os\n",
    "\n",
    "try:\n",
    "    import seaborn as sns\n",
    "    print(\"Libreria: 'seaborn' esta instalada y se cargo correctamente\")\n",
    "except ModuleNotFoundError:\n",
    "    print(\"Libreria: 'seaborn' no esta instalada, se debe instalar\")\n",
    "    !pip install seaborn\n"
   ]
  },
  {
   "cell_type": "code",
   "execution_count": 2,
   "id": "20bcb265-ec29-4515-a6b1-510f22526e97",
   "metadata": {},
   "outputs": [
    {
     "data": {
      "text/plain": [
       "WindowsPath('C:/Users/marti/OneDrive/Escritorio/Tesis/mdc-tesis')"
      ]
     },
     "execution_count": 2,
     "metadata": {},
     "output_type": "execute_result"
    }
   ],
   "source": [
    "here()"
   ]
  },
  {
   "cell_type": "code",
   "execution_count": 3,
   "id": "kmYhr8lMXaBg",
   "metadata": {
    "executionInfo": {
     "elapsed": 6,
     "status": "ok",
     "timestamp": 1660252942759,
     "user": {
      "displayName": "Martina Di Carlo",
      "userId": "17054237212499031598"
     },
     "user_tz": 180
    },
    "id": "kmYhr8lMXaBg"
   },
   "outputs": [],
   "source": [
    "path_secrets = here() / \"secrets\" "
   ]
  },
  {
   "cell_type": "markdown",
   "id": "7da24226-43b8-477f-849e-ef54bd133597",
   "metadata": {
    "id": "7da24226-43b8-477f-849e-ef54bd133597"
   },
   "source": [
    "## Definicion de funciones a utilizar para obtener los datos"
   ]
  },
  {
   "cell_type": "code",
   "execution_count": 4,
   "id": "fe0621a3-3e9f-40b3-9011-b44737d0f437",
   "metadata": {
    "executionInfo": {
     "elapsed": 6,
     "status": "ok",
     "timestamp": 1660252942760,
     "user": {
      "displayName": "Martina Di Carlo",
      "userId": "17054237212499031598"
     },
     "user_tz": 180
    },
    "id": "fe0621a3-3e9f-40b3-9011-b44737d0f437"
   },
   "outputs": [],
   "source": [
    "def auth_token():\n",
    "    with open(path_secrets / 'secrets.json') as f:\n",
    "        secrets = json.load(f)\n",
    "    \n",
    "    print(f'http://auth.mercadolibre.com.ar/authorization?response_type=code&client_id={secrets[\"client_id\"]}&redirect_uri={secrets[\"redirect_uri\"]}')\n",
    "    codigo = input('Codigo :')\n",
    "    url = 'https://api.mercadolibre.com/oauth/token'\n",
    "    response = requests.post(url, data = {\n",
    "        \n",
    "        'grant_type' : 'authorization_code',\n",
    "        'client_id': secrets['client_id'],\n",
    "        'client_secret': secrets['client_secret'],\n",
    "         'code' : codigo,\n",
    "        'redirect_uri': secrets['redirect_uri']\n",
    "    })\n",
    "    print(response)\n",
    "    return response.json()['access_token']\n",
    "\n",
    "meli_auth_token = None\n",
    "\n",
    "def get_response(url):\n",
    "    global meli_auth_token\n",
    "    \n",
    "    try:\n",
    "        if meli_auth_token is None and 'mercadolibre' in url:\n",
    "            meli_auth_token = auth_token()\n",
    "        response = requests.get(url, timeout = 4,\n",
    "                                   headers={'Authorization': f'Bearer {meli_auth_token}'})\n",
    "        response.raise_for_status()\n",
    "        return response\n",
    "    except requests.exceptions.HTTPError as errh:\n",
    "        print (\"Http Error:\",errh)\n",
    "    except requests.exceptions.ConnectionError as errc:\n",
    "        print (\"Error Connecting:\",errc)\n",
    "    except requests.exceptions.Timeout as errt:\n",
    "        print (\"Timeout Error:\",errt)\n",
    "    except requests.exceptions.RequestException as err:\n",
    "        print (\"OOps: Something Else\",err)\n",
    "        \n",
    "#Definimos una función para traer el elemento que queremos\n",
    "def traerdato(elemento,rama,subrama,valor='value_name'):\n",
    "    indices=[]\n",
    "    for i,s in enumerate(elemento[rama]):\n",
    "        for j in s:\n",
    "            if subrama in str(s[j]):\n",
    "                indices.append([i,s])\n",
    "    if len(indices) == 0:\n",
    "        return 'Sin Datos'\n",
    "    else:\n",
    "        return indices[0][1][valor]\n"
   ]
  },
  {
   "cell_type": "code",
   "execution_count": 5,
   "id": "90cb20ce-8c4e-4598-841a-8b63a697f2cc",
   "metadata": {
    "colab": {
     "base_uri": "https://localhost:8080/"
    },
    "executionInfo": {
     "elapsed": 5994,
     "status": "ok",
     "timestamp": 1660252948748,
     "user": {
      "displayName": "Martina Di Carlo",
      "userId": "17054237212499031598"
     },
     "user_tz": 180
    },
    "id": "90cb20ce-8c4e-4598-841a-8b63a697f2cc",
    "outputId": "be2ff9a1-e3ae-4489-e349-067d3b67e372"
   },
   "outputs": [
    {
     "name": "stdout",
     "output_type": "stream",
     "text": [
      "http://auth.mercadolibre.com.ar/authorization?response_type=code&client_id=8800815426780367&redirect_uri=https://www.google.com.ar/\n"
     ]
    },
    {
     "name": "stdin",
     "output_type": "stream",
     "text": [
      "Codigo : TG-62fc1e8408dca600015f738f-216145475\n"
     ]
    },
    {
     "name": "stdout",
     "output_type": "stream",
     "text": [
      "<Response [200]>\n"
     ]
    }
   ],
   "source": [
    "meli_auth_token = auth_token()"
   ]
  },
  {
   "cell_type": "markdown",
   "id": "o4F8zUqqdo0w",
   "metadata": {
    "id": "o4F8zUqqdo0w"
   },
   "source": [
    "## Armado del Dataset"
   ]
  },
  {
   "cell_type": "markdown",
   "id": "geOsBihYdthM",
   "metadata": {
    "id": "geOsBihYdthM"
   },
   "source": [
    "Para armar el dataset descargaremos para Mercado Libre Argentina laptops publicadas. La categoría se llama: MLA1652"
   ]
  },
  {
   "cell_type": "code",
   "execution_count": 6,
   "id": "b206b631-6521-4c04-a87f-a9eb1c96aeda",
   "metadata": {
    "colab": {
     "base_uri": "https://localhost:8080/"
    },
    "executionInfo": {
     "elapsed": 808,
     "status": "ok",
     "timestamp": 1660252949555,
     "user": {
      "displayName": "Martina Di Carlo",
      "userId": "17054237212499031598"
     },
     "user_tz": 180
    },
    "id": "b206b631-6521-4c04-a87f-a9eb1c96aeda",
    "outputId": "ebca3b33-04a9-4391-83a2-0d84d7a0ee90"
   },
   "outputs": [
    {
     "name": "stdout",
     "output_type": "stream",
     "text": [
      "Encontramos 34025 resultados para nuestra consulta\n"
     ]
    }
   ],
   "source": [
    "url='https://api.mercadolibre.com/sites/MLA/search?category=MLA1652&search_type=scan#json'\n",
    "\n",
    "r = get_response(url) \n",
    "maximum = int(str(r.json()[\"paging\"][\"total\"])) #Guardamos el número máximo de resultados para luego stoppear nuestro loop\n",
    "\n",
    "print(f'Encontramos {maximum} resultados para nuestra consulta')"
   ]
  },
  {
   "cell_type": "code",
   "execution_count": 7,
   "id": "kA4ZTXhLoyLR",
   "metadata": {
    "colab": {
     "base_uri": "https://localhost:8080/"
    },
    "executionInfo": {
     "elapsed": 3,
     "status": "ok",
     "timestamp": 1660252949556,
     "user": {
      "displayName": "Martina Di Carlo",
      "userId": "17054237212499031598"
     },
     "user_tz": 180
    },
    "id": "kA4ZTXhLoyLR",
    "outputId": "84a0a9dc-3352-45cb-c7ec-388116908dd1"
   },
   "outputs": [
    {
     "data": {
      "text/plain": [
       "680.5"
      ]
     },
     "execution_count": 7,
     "metadata": {},
     "output_type": "execute_result"
    }
   ],
   "source": [
    "offset_max = maximum / 50\n",
    "offset_max"
   ]
  },
  {
   "cell_type": "code",
   "execution_count": 8,
   "id": "r2f4Jgo8ex5S",
   "metadata": {
    "colab": {
     "base_uri": "https://localhost:8080/"
    },
    "executionInfo": {
     "elapsed": 455060,
     "status": "ok",
     "timestamp": 1660253404614,
     "user": {
      "displayName": "Martina Di Carlo",
      "userId": "17054237212499031598"
     },
     "user_tz": 180
    },
    "id": "r2f4Jgo8ex5S",
    "outputId": "c20cc789-8844-4069-e383-72c32363c5aa"
   },
   "outputs": [
    {
     "name": "stdout",
     "output_type": "stream",
     "text": [
      "Porcentaje de completitud: 99.93%\r"
     ]
    },
    {
     "data": {
      "text/plain": [
       "33900"
      ]
     },
     "execution_count": 8,
     "metadata": {},
     "output_type": "execute_result"
    }
   ],
   "source": [
    "offset = 0\n",
    "item_list = []\n",
    "\n",
    "while r.status_code == 200 and offset <= round(offset_max):\n",
    "    url=f'https://api.mercadolibre.com/sites/MLA/search?category=MLA1652&offset={offset}#json'\n",
    "    r = get_response(url)\n",
    "    if r is not None:\n",
    "      data = r.json()\n",
    "      length = len(data['results'])\n",
    "      for i in range(length):\n",
    "          item_id = data['results'][i]['id']\n",
    "          item_list.append(item_id)\n",
    "      print(\"Porcentaje de completitud: {:0.2%}\".format(offset/offset_max),end='\\r')\n",
    "\n",
    "    offset += 1\n",
    "          \n",
    "len(item_list)"
   ]
  },
  {
   "cell_type": "code",
   "execution_count": null,
   "id": "KXuH1E1-q1cM",
   "metadata": {
    "colab": {
     "base_uri": "https://localhost:8080/"
    },
    "executionInfo": {
     "elapsed": 4913481,
     "status": "ok",
     "timestamp": 1660261173817,
     "user": {
      "displayName": "Martina Di Carlo",
      "userId": "17054237212499031598"
     },
     "user_tz": 180
    },
    "id": "KXuH1E1-q1cM",
    "outputId": "7bff2c0b-a5ce-43cb-e9e9-2fcf8ab2a368"
   },
   "outputs": [],
   "source": [
    "final_list = []\n",
    "for i in range(len(item_list)):\n",
    "    item=f\"https://api.mercadolibre.com/items/{item_list[i]}\"\n",
    "    item_add = requests.get(item)\n",
    "    if item_add.status_code != 204:\n",
    "        item_add = item_add.json()\n",
    "        final_list.append(item_add)\n",
    "    else: \n",
    "        print(\"Status code 204\")\n",
    "  #  print(f\"Porcentaje de completitud: {(i+1)/len(item_list)} \\r\")"
   ]
  },
  {
   "cell_type": "code",
   "execution_count": null,
   "id": "YLQ8IPT4fBbd",
   "metadata": {
    "executionInfo": {
     "elapsed": 391,
     "status": "aborted",
     "timestamp": 1660253632106,
     "user": {
      "displayName": "Martina Di Carlo",
      "userId": "17054237212499031598"
     },
     "user_tz": 180
    },
    "id": "YLQ8IPT4fBbd"
   },
   "outputs": [],
   "source": [
    "print(len(item_list))\n",
    "print(len(set(item_list)))"
   ]
  },
  {
   "cell_type": "code",
   "execution_count": null,
   "id": "BBoEQM_yprK9",
   "metadata": {
    "colab": {
     "base_uri": "https://localhost:8080/",
     "height": 485
    },
    "executionInfo": {
     "elapsed": 3875,
     "status": "ok",
     "timestamp": 1660261722978,
     "user": {
      "displayName": "Martina Di Carlo",
      "userId": "17054237212499031598"
     },
     "user_tz": 180
    },
    "id": "BBoEQM_yprK9",
    "outputId": "6a64e782-1180-486f-c758-5726c8ea8248"
   },
   "outputs": [],
   "source": [
    "data = pd.json_normalize(final_list)\n",
    "data.head(3)"
   ]
  },
  {
   "cell_type": "code",
   "execution_count": null,
   "id": "wWy2AF-3puLv",
   "metadata": {
    "colab": {
     "base_uri": "https://localhost:8080/"
    },
    "executionInfo": {
     "elapsed": 255,
     "status": "ok",
     "timestamp": 1660261727483,
     "user": {
      "displayName": "Martina Di Carlo",
      "userId": "17054237212499031598"
     },
     "user_tz": 180
    },
    "id": "wWy2AF-3puLv",
    "outputId": "60094781-22dc-4fe3-eb40-9f6983ca55fd"
   },
   "outputs": [],
   "source": [
    "data.title.value_counts()"
   ]
  },
  {
   "cell_type": "code",
   "execution_count": null,
   "id": "uQX1zIwjD070",
   "metadata": {
    "executionInfo": {
     "elapsed": 276,
     "status": "ok",
     "timestamp": 1660261747766,
     "user": {
      "displayName": "Martina Di Carlo",
      "userId": "17054237212499031598"
     },
     "user_tz": 180
    },
    "id": "uQX1zIwjD070"
   },
   "outputs": [],
   "source": [
    "path_save = path_secrets = here() / \"data\" "
   ]
  },
  {
   "cell_type": "code",
   "execution_count": null,
   "id": "wmWFcc4WDdmQ",
   "metadata": {
    "executionInfo": {
     "elapsed": 26556,
     "status": "ok",
     "timestamp": 1660261774830,
     "user": {
      "displayName": "Martina Di Carlo",
      "userId": "17054237212499031598"
     },
     "user_tz": 180
    },
    "id": "wmWFcc4WDdmQ"
   },
   "outputs": [],
   "source": [
    "data.to_csv(path_save / \"datos_laptops.csv\", index = False, sep = \";\")"
   ]
  },
  {
   "cell_type": "code",
   "execution_count": null,
   "id": "2mOHsYwvD8zn",
   "metadata": {
    "executionInfo": {
     "elapsed": 391,
     "status": "aborted",
     "timestamp": 1660253632107,
     "user": {
      "displayName": "Martina Di Carlo",
      "userId": "17054237212499031598"
     },
     "user_tz": 180
    },
    "id": "2mOHsYwvD8zn"
   },
   "outputs": [],
   "source": []
  }
 ],
 "metadata": {
  "colab": {
   "name": "00_extract_table.ipynb",
   "provenance": [
    {
     "file_id": "1MKjfoeo7kih0sPT5yZq7VcAAocvTb9p1",
     "timestamp": 1657505217098
    }
   ]
  },
  "kernelspec": {
   "display_name": "Python 3 (ipykernel)",
   "language": "python",
   "name": "python3"
  },
  "language_info": {
   "codemirror_mode": {
    "name": "ipython",
    "version": 3
   },
   "file_extension": ".py",
   "mimetype": "text/x-python",
   "name": "python",
   "nbconvert_exporter": "python",
   "pygments_lexer": "ipython3",
   "version": "3.9.12"
  }
 },
 "nbformat": 4,
 "nbformat_minor": 5
}
