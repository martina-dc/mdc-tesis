{
 "cells": [
  {
   "cell_type": "markdown",
   "id": "2a4f9793-dc3c-4660-a482-c3e84a0035a1",
   "metadata": {
    "id": "2a4f9793-dc3c-4660-a482-c3e84a0035a1"
   },
   "source": [
    "# 00 - Extraccion de datos mediante API de Mercado Libre"
   ]
  },
  {
   "cell_type": "markdown",
   "id": "d11af2b2-62f6-4ec6-895e-20d767761a2d",
   "metadata": {
    "id": "d11af2b2-62f6-4ec6-895e-20d767761a2d"
   },
   "source": [
    "## Importación de librerias"
   ]
  },
  {
   "cell_type": "code",
   "execution_count": 43,
   "id": "6de3dc67-284a-4b29-aaa1-483a7dbba200",
   "metadata": {
    "colab": {
     "base_uri": "https://localhost:8080/"
    },
    "executionInfo": {
     "elapsed": 261,
     "status": "ok",
     "timestamp": 1660252940403,
     "user": {
      "displayName": "Martina Di Carlo",
      "userId": "17054237212499031598"
     },
     "user_tz": 180
    },
    "id": "6de3dc67-284a-4b29-aaa1-483a7dbba200",
    "outputId": "01854150-c2f8-44d8-cacf-ffb74b50b654"
   },
   "outputs": [
    {
     "name": "stdout",
     "output_type": "stream",
     "text": [
      "Libreria: 'pyprojroot' esta instalada y se cargo correctamente\n",
      "Libreria: 'seaborn' esta instalada y se cargo correctamente\n"
     ]
    }
   ],
   "source": [
    "import pandas as pd\n",
    "import numpy as np\n",
    "import json\n",
    "import requests\n",
    "\n",
    "from datetime import datetime, timedelta, timezone, date\n",
    "pd.options.display.max_columns=None\n",
    "\n",
    "try:\n",
    "    from pyprojroot import here\n",
    "    print(\"Libreria: 'pyprojroot' esta instalada y se cargo correctamente\")\n",
    "except ModuleNotFoundError:\n",
    "    print(\"Libreria: 'pyprojroot' no esta instalada, se debe instalar\")\n",
    "    !pip install pyprojroot\n",
    "\n",
    "import matplotlib.pyplot as plt\n",
    "import os\n",
    "\n",
    "try:\n",
    "    import seaborn as sns\n",
    "    print(\"Libreria: 'seaborn' esta instalada y se cargo correctamente\")\n",
    "except ModuleNotFoundError:\n",
    "    print(\"Libreria: 'seaborn' no esta instalada, se debe instalar\")\n",
    "    !pip install seaborn\n"
   ]
  },
  {
   "cell_type": "code",
   "execution_count": 44,
   "id": "Iv41uvprXh3X",
   "metadata": {
    "colab": {
     "base_uri": "https://localhost:8080/"
    },
    "executionInfo": {
     "elapsed": 1937,
     "status": "ok",
     "timestamp": 1660252942759,
     "user": {
      "displayName": "Martina Di Carlo",
      "userId": "17054237212499031598"
     },
     "user_tz": 180
    },
    "id": "Iv41uvprXh3X",
    "outputId": "d888ba83-d493-43fb-e49f-c47f693b2c9d"
   },
   "outputs": [
    {
     "name": "stdout",
     "output_type": "stream",
     "text": [
      "Drive already mounted at /content/drive; to attempt to forcibly remount, call drive.mount(\"/content/drive\", force_remount=True).\n"
     ]
    }
   ],
   "source": [
    "from google.colab import drive\n",
    "drive.mount('/content/drive')"
   ]
  },
  {
   "cell_type": "code",
   "execution_count": 45,
   "id": "kmYhr8lMXaBg",
   "metadata": {
    "executionInfo": {
     "elapsed": 6,
     "status": "ok",
     "timestamp": 1660252942759,
     "user": {
      "displayName": "Martina Di Carlo",
      "userId": "17054237212499031598"
     },
     "user_tz": 180
    },
    "id": "kmYhr8lMXaBg"
   },
   "outputs": [],
   "source": [
    "path_secrets = \"/content/drive/MyDrive/Austral/Maestria/Tesis/Codigo/secrets/\""
   ]
  },
  {
   "cell_type": "markdown",
   "id": "7da24226-43b8-477f-849e-ef54bd133597",
   "metadata": {
    "id": "7da24226-43b8-477f-849e-ef54bd133597"
   },
   "source": [
    "## Definicion de funciones a utilizar para obtener los datos"
   ]
  },
  {
   "cell_type": "code",
   "execution_count": 46,
   "id": "fe0621a3-3e9f-40b3-9011-b44737d0f437",
   "metadata": {
    "executionInfo": {
     "elapsed": 6,
     "status": "ok",
     "timestamp": 1660252942760,
     "user": {
      "displayName": "Martina Di Carlo",
      "userId": "17054237212499031598"
     },
     "user_tz": 180
    },
    "id": "fe0621a3-3e9f-40b3-9011-b44737d0f437"
   },
   "outputs": [],
   "source": [
    "def auth_token():\n",
    "    with open(path_secrets + 'secrets.json') as f:\n",
    "        secrets = json.load(f)\n",
    "    \n",
    "    print(f'http://auth.mercadolibre.com.ar/authorization?response_type=code&client_id={secrets[\"client_id\"]}&redirect_uri={secrets[\"redirect_uri\"]}')\n",
    "    codigo = input('Codigo :')\n",
    "    url = 'https://api.mercadolibre.com/oauth/token'\n",
    "    response = requests.post(url, data = {\n",
    "        \n",
    "        'grant_type' : 'authorization_code',\n",
    "        'client_id': secrets['client_id'],\n",
    "        'client_secret': secrets['client_secret'],\n",
    "         'code' : codigo,\n",
    "        'redirect_uri': secrets['redirect_uri']\n",
    "    })\n",
    "    print(response)\n",
    "    return response.json()['access_token']\n",
    "\n",
    "meli_auth_token = None\n",
    "\n",
    "def get_response(url):\n",
    "    global meli_auth_token\n",
    "    \n",
    "    try:\n",
    "        if meli_auth_token is None and 'mercadolibre' in url:\n",
    "            meli_auth_token = auth_token()\n",
    "        response = requests.get(url, timeout = 4,\n",
    "                                   headers={'Authorization': f'Bearer {meli_auth_token}'})\n",
    "        response.raise_for_status()\n",
    "        return response\n",
    "    except requests.exceptions.HTTPError as errh:\n",
    "        print (\"Http Error:\",errh)\n",
    "    except requests.exceptions.ConnectionError as errc:\n",
    "        print (\"Error Connecting:\",errc)\n",
    "    except requests.exceptions.Timeout as errt:\n",
    "        print (\"Timeout Error:\",errt)\n",
    "    except requests.exceptions.RequestException as err:\n",
    "        print (\"OOps: Something Else\",err)\n",
    "        \n",
    "#Definimos una función para traer el elemento que queremos\n",
    "def traerdato(elemento,rama,subrama,valor='value_name'):\n",
    "    indices=[]\n",
    "    for i,s in enumerate(elemento[rama]):\n",
    "        for j in s:\n",
    "            if subrama in str(s[j]):\n",
    "                indices.append([i,s])\n",
    "    if len(indices) == 0:\n",
    "        return 'Sin Datos'\n",
    "    else:\n",
    "        return indices[0][1][valor]\n"
   ]
  },
  {
   "cell_type": "code",
   "execution_count": 47,
   "id": "90cb20ce-8c4e-4598-841a-8b63a697f2cc",
   "metadata": {
    "colab": {
     "base_uri": "https://localhost:8080/"
    },
    "executionInfo": {
     "elapsed": 5994,
     "status": "ok",
     "timestamp": 1660252948748,
     "user": {
      "displayName": "Martina Di Carlo",
      "userId": "17054237212499031598"
     },
     "user_tz": 180
    },
    "id": "90cb20ce-8c4e-4598-841a-8b63a697f2cc",
    "outputId": "be2ff9a1-e3ae-4489-e349-067d3b67e372"
   },
   "outputs": [
    {
     "name": "stdout",
     "output_type": "stream",
     "text": [
      "http://auth.mercadolibre.com.ar/authorization?response_type=code&client_id=8800815426780367&redirect_uri=https://www.google.com.ar/\n",
      "Codigo :TG-62f5730f0e510500016f952b-216145475\n",
      "<Response [200]>\n"
     ]
    }
   ],
   "source": [
    "meli_auth_token = auth_token()"
   ]
  },
  {
   "cell_type": "markdown",
   "id": "o4F8zUqqdo0w",
   "metadata": {
    "id": "o4F8zUqqdo0w"
   },
   "source": [
    "## Armado del Dataset"
   ]
  },
  {
   "cell_type": "markdown",
   "id": "geOsBihYdthM",
   "metadata": {
    "id": "geOsBihYdthM"
   },
   "source": [
    "Para armar el dataset descargaremos para Mercado Libre Argentina laptops publicadas. La categoría se llama: MLA1652"
   ]
  },
  {
   "cell_type": "code",
   "execution_count": 48,
   "id": "b206b631-6521-4c04-a87f-a9eb1c96aeda",
   "metadata": {
    "colab": {
     "base_uri": "https://localhost:8080/"
    },
    "executionInfo": {
     "elapsed": 808,
     "status": "ok",
     "timestamp": 1660252949555,
     "user": {
      "displayName": "Martina Di Carlo",
      "userId": "17054237212499031598"
     },
     "user_tz": 180
    },
    "id": "b206b631-6521-4c04-a87f-a9eb1c96aeda",
    "outputId": "ebca3b33-04a9-4391-83a2-0d84d7a0ee90"
   },
   "outputs": [
    {
     "name": "stdout",
     "output_type": "stream",
     "text": [
      "Encontramos 33918 resultados para nuestra consulta\n"
     ]
    }
   ],
   "source": [
    "url='https://api.mercadolibre.com/sites/MLA/search?category=MLA1652&search_type=scan#json'\n",
    "\n",
    "r = get_response(url) \n",
    "maximum = int(str(r.json()[\"paging\"][\"total\"])) #Guardamos el número máximo de resultados para luego stoppear nuestro loop\n",
    "\n",
    "print(f'Encontramos {maximum} resultados para nuestra consulta')"
   ]
  },
  {
   "cell_type": "code",
   "execution_count": 49,
   "id": "kA4ZTXhLoyLR",
   "metadata": {
    "colab": {
     "base_uri": "https://localhost:8080/"
    },
    "executionInfo": {
     "elapsed": 3,
     "status": "ok",
     "timestamp": 1660252949556,
     "user": {
      "displayName": "Martina Di Carlo",
      "userId": "17054237212499031598"
     },
     "user_tz": 180
    },
    "id": "kA4ZTXhLoyLR",
    "outputId": "84a0a9dc-3352-45cb-c7ec-388116908dd1"
   },
   "outputs": [
    {
     "data": {
      "text/plain": [
       "678.36"
      ]
     },
     "execution_count": 49,
     "metadata": {},
     "output_type": "execute_result"
    }
   ],
   "source": [
    "offset_max = maximum / 50\n",
    "offset_max"
   ]
  },
  {
   "cell_type": "code",
   "execution_count": 50,
   "id": "r2f4Jgo8ex5S",
   "metadata": {
    "colab": {
     "base_uri": "https://localhost:8080/"
    },
    "executionInfo": {
     "elapsed": 455060,
     "status": "ok",
     "timestamp": 1660253404614,
     "user": {
      "displayName": "Martina Di Carlo",
      "userId": "17054237212499031598"
     },
     "user_tz": 180
    },
    "id": "r2f4Jgo8ex5S",
    "outputId": "c20cc789-8844-4069-e383-72c32363c5aa"
   },
   "outputs": [
    {
     "name": "stdout",
     "output_type": "stream",
     "text": []
    },
    {
     "data": {
      "text/plain": [
       "33835"
      ]
     },
     "execution_count": 50,
     "metadata": {},
     "output_type": "execute_result"
    }
   ],
   "source": [
    "offset = 0\n",
    "item_list = []\n",
    "\n",
    "while r.status_code == 200 and offset <= round(offset_max):\n",
    "    url=f'https://api.mercadolibre.com/sites/MLA/search?category=MLA1652&offset={offset}#json'\n",
    "    r = get_response(url)\n",
    "    if r is not None:\n",
    "      data = r.json()\n",
    "      length = len(data['results'])\n",
    "      for i in range(length):\n",
    "          item_id = data['results'][i]['id']\n",
    "          item_list.append(item_id)\n",
    "      print(\"Porcentaje de completitud: {:0.2%}\".format(offset/maximum),end='\\r')\n",
    "\n",
    "    offset += 1\n",
    "          \n",
    "len(item_list)"
   ]
  },
  {
   "cell_type": "code",
   "execution_count": 52,
   "id": "KXuH1E1-q1cM",
   "metadata": {
    "colab": {
     "base_uri": "https://localhost:8080/"
    },
    "executionInfo": {
     "elapsed": 4913481,
     "status": "ok",
     "timestamp": 1660261173817,
     "user": {
      "displayName": "Martina Di Carlo",
      "userId": "17054237212499031598"
     },
     "user_tz": 180
    },
    "id": "KXuH1E1-q1cM",
    "outputId": "7bff2c0b-a5ce-43cb-e9e9-2fcf8ab2a368"
   },
   "outputs": [
    {
     "name": "stdout",
     "output_type": "stream",
     "text": []
    }
   ],
   "source": [
    "final_list = []\n",
    "for i in range(len(item_list)):\n",
    "    item=\"https://api.mercadolibre.com/items/{}\".format(item_list[i])\n",
    "    item_add = requests.get(item)\n",
    "    item_add = item_add.json()\n",
    "    final_list.append(item_add)\n",
    "    print(\"Porcentaje de completitud: {:0.2%}\".format((i+1)/len(item_list)),end='\\r')"
   ]
  },
  {
   "cell_type": "code",
   "execution_count": null,
   "id": "YLQ8IPT4fBbd",
   "metadata": {
    "executionInfo": {
     "elapsed": 391,
     "status": "aborted",
     "timestamp": 1660253632106,
     "user": {
      "displayName": "Martina Di Carlo",
      "userId": "17054237212499031598"
     },
     "user_tz": 180
    },
    "id": "YLQ8IPT4fBbd"
   },
   "outputs": [],
   "source": [
    "print(len(item_list))\n",
    "print(len(set(item_list)))"
   ]
  },
  {
   "cell_type": "code",
   "execution_count": 56,
   "id": "BBoEQM_yprK9",
   "metadata": {
    "colab": {
     "base_uri": "https://localhost:8080/",
     "height": 485
    },
    "executionInfo": {
     "elapsed": 3875,
     "status": "ok",
     "timestamp": 1660261722978,
     "user": {
      "displayName": "Martina Di Carlo",
      "userId": "17054237212499031598"
     },
     "user_tz": 180
    },
    "id": "BBoEQM_yprK9",
    "outputId": "6a64e782-1180-486f-c758-5726c8ea8248"
   },
   "outputs": [
    {
     "data": {
      "text/html": [
       "\n",
       "  <div id=\"df-12b6ef2c-03cc-4fe8-afe2-1984193cca93\">\n",
       "    <div class=\"colab-df-container\">\n",
       "      <div>\n",
       "<style scoped>\n",
       "    .dataframe tbody tr th:only-of-type {\n",
       "        vertical-align: middle;\n",
       "    }\n",
       "\n",
       "    .dataframe tbody tr th {\n",
       "        vertical-align: top;\n",
       "    }\n",
       "\n",
       "    .dataframe thead th {\n",
       "        text-align: right;\n",
       "    }\n",
       "</style>\n",
       "<table border=\"1\" class=\"dataframe\">\n",
       "  <thead>\n",
       "    <tr style=\"text-align: right;\">\n",
       "      <th></th>\n",
       "      <th>id</th>\n",
       "      <th>site_id</th>\n",
       "      <th>title</th>\n",
       "      <th>subtitle</th>\n",
       "      <th>seller_id</th>\n",
       "      <th>category_id</th>\n",
       "      <th>official_store_id</th>\n",
       "      <th>price</th>\n",
       "      <th>base_price</th>\n",
       "      <th>original_price</th>\n",
       "      <th>currency_id</th>\n",
       "      <th>initial_quantity</th>\n",
       "      <th>available_quantity</th>\n",
       "      <th>sold_quantity</th>\n",
       "      <th>sale_terms</th>\n",
       "      <th>buying_mode</th>\n",
       "      <th>listing_type_id</th>\n",
       "      <th>start_time</th>\n",
       "      <th>stop_time</th>\n",
       "      <th>condition</th>\n",
       "      <th>permalink</th>\n",
       "      <th>thumbnail_id</th>\n",
       "      <th>thumbnail</th>\n",
       "      <th>secure_thumbnail</th>\n",
       "      <th>pictures</th>\n",
       "      <th>video_id</th>\n",
       "      <th>descriptions</th>\n",
       "      <th>accepts_mercadopago</th>\n",
       "      <th>non_mercado_pago_payment_methods</th>\n",
       "      <th>international_delivery_mode</th>\n",
       "      <th>seller_contact</th>\n",
       "      <th>coverage_areas</th>\n",
       "      <th>attributes</th>\n",
       "      <th>warnings</th>\n",
       "      <th>listing_source</th>\n",
       "      <th>variations</th>\n",
       "      <th>status</th>\n",
       "      <th>sub_status</th>\n",
       "      <th>tags</th>\n",
       "      <th>warranty</th>\n",
       "      <th>catalog_product_id</th>\n",
       "      <th>domain_id</th>\n",
       "      <th>parent_item_id</th>\n",
       "      <th>differential_pricing</th>\n",
       "      <th>deal_ids</th>\n",
       "      <th>automatic_relist</th>\n",
       "      <th>date_created</th>\n",
       "      <th>last_updated</th>\n",
       "      <th>health</th>\n",
       "      <th>catalog_listing</th>\n",
       "      <th>channels</th>\n",
       "      <th>shipping.mode</th>\n",
       "      <th>shipping.methods</th>\n",
       "      <th>shipping.tags</th>\n",
       "      <th>shipping.dimensions</th>\n",
       "      <th>shipping.local_pick_up</th>\n",
       "      <th>shipping.free_shipping</th>\n",
       "      <th>shipping.logistic_type</th>\n",
       "      <th>shipping.store_pick_up</th>\n",
       "      <th>seller_address.city.id</th>\n",
       "      <th>seller_address.city.name</th>\n",
       "      <th>seller_address.state.id</th>\n",
       "      <th>seller_address.state.name</th>\n",
       "      <th>seller_address.country.id</th>\n",
       "      <th>seller_address.country.name</th>\n",
       "      <th>seller_address.search_location.neighborhood.id</th>\n",
       "      <th>seller_address.search_location.neighborhood.name</th>\n",
       "      <th>seller_address.search_location.city.id</th>\n",
       "      <th>seller_address.search_location.city.name</th>\n",
       "      <th>seller_address.search_location.state.id</th>\n",
       "      <th>seller_address.search_location.state.name</th>\n",
       "      <th>seller_address.id</th>\n",
       "      <th>shipping.free_methods</th>\n",
       "    </tr>\n",
       "  </thead>\n",
       "  <tbody>\n",
       "    <tr>\n",
       "      <th>0</th>\n",
       "      <td>MLA1129251702</td>\n",
       "      <td>MLA</td>\n",
       "      <td>Notebook Hp Amd Ryzen 7 5700u 12gb 256gb Ssd 1...</td>\n",
       "      <td>None</td>\n",
       "      <td>174556876</td>\n",
       "      <td>MLA1652</td>\n",
       "      <td>NaN</td>\n",
       "      <td>164899.0</td>\n",
       "      <td>164899.0</td>\n",
       "      <td>179999.0</td>\n",
       "      <td>ARS</td>\n",
       "      <td>43</td>\n",
       "      <td>1</td>\n",
       "      <td>5</td>\n",
       "      <td>[{'id': 'WARRANTY_TYPE', 'name': 'Tipo de gara...</td>\n",
       "      <td>buy_it_now</td>\n",
       "      <td>gold_special</td>\n",
       "      <td>2022-03-25T16:19:38.000Z</td>\n",
       "      <td>2042-03-20T04:00:00.000Z</td>\n",
       "      <td>new</td>\n",
       "      <td>https://articulo.mercadolibre.com.ar/MLA-11292...</td>\n",
       "      <td>975457-MLA49471206711_032022</td>\n",
       "      <td>http://http2.mlstatic.com/D_975457-MLA49471206...</td>\n",
       "      <td>https://http2.mlstatic.com/D_975457-MLA4947120...</td>\n",
       "      <td>[{'id': '975457-MLA49471206711_032022', 'url':...</td>\n",
       "      <td>None</td>\n",
       "      <td>[]</td>\n",
       "      <td>True</td>\n",
       "      <td>[]</td>\n",
       "      <td>none</td>\n",
       "      <td>None</td>\n",
       "      <td>[]</td>\n",
       "      <td>[{'id': 'BATTERY_LIFE', 'name': 'Duración de l...</td>\n",
       "      <td>[]</td>\n",
       "      <td></td>\n",
       "      <td>[{'id': 174343023835, 'price': 164899.0, 'attr...</td>\n",
       "      <td>active</td>\n",
       "      <td>[]</td>\n",
       "      <td>[deal_of_the_day, extended_warranty_eligible, ...</td>\n",
       "      <td>Garantía de fábrica: 12 meses</td>\n",
       "      <td>None</td>\n",
       "      <td>MLA-NOTEBOOKS</td>\n",
       "      <td>None</td>\n",
       "      <td>None</td>\n",
       "      <td>[MLA8258, MLA12440, MLA6015, MLA12436]</td>\n",
       "      <td>False</td>\n",
       "      <td>2022-03-25T16:19:38.000Z</td>\n",
       "      <td>2022-08-11T20:54:11.550Z</td>\n",
       "      <td>0.9</td>\n",
       "      <td>False</td>\n",
       "      <td>[marketplace, mshops]</td>\n",
       "      <td>me2</td>\n",
       "      <td>[]</td>\n",
       "      <td>[self_service_in, mandatory_free_shipping]</td>\n",
       "      <td>None</td>\n",
       "      <td>True</td>\n",
       "      <td>True</td>\n",
       "      <td>cross_docking</td>\n",
       "      <td>False</td>\n",
       "      <td>TUxBQlZJTDQyMjBa</td>\n",
       "      <td>Villa Crespo</td>\n",
       "      <td>AR-C</td>\n",
       "      <td>Capital Federal</td>\n",
       "      <td>AR</td>\n",
       "      <td>Argentina</td>\n",
       "      <td>TUxBQlZJTDQyMjBa</td>\n",
       "      <td>Villa Crespo</td>\n",
       "      <td>TUxBQ0NBUGZlZG1sYQ</td>\n",
       "      <td>Capital Federal</td>\n",
       "      <td>TUxBUENBUGw3M2E1</td>\n",
       "      <td>Capital Federal</td>\n",
       "      <td>155782338</td>\n",
       "      <td>NaN</td>\n",
       "    </tr>\n",
       "    <tr>\n",
       "      <th>1</th>\n",
       "      <td>MLA1147028688</td>\n",
       "      <td>MLA</td>\n",
       "      <td>Notebook Hp 15-ef2126wm Spruce Blue 15.6 , Amd...</td>\n",
       "      <td>None</td>\n",
       "      <td>158169010</td>\n",
       "      <td>MLA1652</td>\n",
       "      <td>NaN</td>\n",
       "      <td>129499.0</td>\n",
       "      <td>129499.0</td>\n",
       "      <td>NaN</td>\n",
       "      <td>ARS</td>\n",
       "      <td>42</td>\n",
       "      <td>0</td>\n",
       "      <td>25</td>\n",
       "      <td>[{'id': 'INVOICE', 'name': 'Facturación', 'val...</td>\n",
       "      <td>buy_it_now</td>\n",
       "      <td>gold_special</td>\n",
       "      <td>2022-07-15T15:09:59.000Z</td>\n",
       "      <td>2042-07-10T04:00:00.000Z</td>\n",
       "      <td>new</td>\n",
       "      <td>https://articulo.mercadolibre.com.ar/MLA-11470...</td>\n",
       "      <td>945528-MLA49251126700_032022</td>\n",
       "      <td>http://http2.mlstatic.com/D_945528-MLA49251126...</td>\n",
       "      <td>https://http2.mlstatic.com/D_945528-MLA4925112...</td>\n",
       "      <td>[{'id': '945528-MLA49251126700_032022', 'url':...</td>\n",
       "      <td>None</td>\n",
       "      <td>[]</td>\n",
       "      <td>True</td>\n",
       "      <td>[]</td>\n",
       "      <td>none</td>\n",
       "      <td>None</td>\n",
       "      <td>[]</td>\n",
       "      <td>[{'id': 'ASPECT_RATIO', 'name': 'Relación de a...</td>\n",
       "      <td>[]</td>\n",
       "      <td></td>\n",
       "      <td>[]</td>\n",
       "      <td>paused</td>\n",
       "      <td>[out_of_stock]</td>\n",
       "      <td>[extended_warranty_eligible, good_quality_pict...</td>\n",
       "      <td>Garantía del vendedor: 6 meses</td>\n",
       "      <td>MLA18717712</td>\n",
       "      <td>MLA-NOTEBOOKS</td>\n",
       "      <td>None</td>\n",
       "      <td>None</td>\n",
       "      <td>[]</td>\n",
       "      <td>False</td>\n",
       "      <td>2022-07-15T15:10:00.000Z</td>\n",
       "      <td>2022-08-11T21:29:46.849Z</td>\n",
       "      <td>NaN</td>\n",
       "      <td>True</td>\n",
       "      <td>[marketplace]</td>\n",
       "      <td>me2</td>\n",
       "      <td>[]</td>\n",
       "      <td>[self_service_in, fbm_in_process, mandatory_fr...</td>\n",
       "      <td>None</td>\n",
       "      <td>True</td>\n",
       "      <td>True</td>\n",
       "      <td>xd_drop_off</td>\n",
       "      <td>False</td>\n",
       "      <td>TUxBQ0NBUGNiZGQx</td>\n",
       "      <td>Córdoba</td>\n",
       "      <td>AR-X</td>\n",
       "      <td>Córdoba</td>\n",
       "      <td>AR</td>\n",
       "      <td>Argentina</td>\n",
       "      <td>NaN</td>\n",
       "      <td>NaN</td>\n",
       "      <td>TUxBQ0NBUGNiZGQx</td>\n",
       "      <td>Córdoba</td>\n",
       "      <td>TUxBUENPUmFkZGIw</td>\n",
       "      <td>Córdoba</td>\n",
       "      <td>269536971</td>\n",
       "      <td>NaN</td>\n",
       "    </tr>\n",
       "    <tr>\n",
       "      <th>2</th>\n",
       "      <td>MLA1110784573</td>\n",
       "      <td>MLA</td>\n",
       "      <td>Notebook Noblex 14.1  Pantalla Hd Intel Celero...</td>\n",
       "      <td>None</td>\n",
       "      <td>185702920</td>\n",
       "      <td>MLA1652</td>\n",
       "      <td>NaN</td>\n",
       "      <td>66999.0</td>\n",
       "      <td>66999.0</td>\n",
       "      <td>NaN</td>\n",
       "      <td>ARS</td>\n",
       "      <td>81</td>\n",
       "      <td>1</td>\n",
       "      <td>50</td>\n",
       "      <td>[{'id': 'WARRANTY_TIME', 'name': 'Tiempo de ga...</td>\n",
       "      <td>buy_it_now</td>\n",
       "      <td>gold_special</td>\n",
       "      <td>2021-11-02T17:35:08.000Z</td>\n",
       "      <td>2041-10-28T04:00:00.000Z</td>\n",
       "      <td>new</td>\n",
       "      <td>https://articulo.mercadolibre.com.ar/MLA-11107...</td>\n",
       "      <td>997940-MLA47767920611_102021</td>\n",
       "      <td>http://http2.mlstatic.com/D_997940-MLA47767920...</td>\n",
       "      <td>https://http2.mlstatic.com/D_997940-MLA4776792...</td>\n",
       "      <td>[{'id': '997940-MLA47767920611_102021', 'url':...</td>\n",
       "      <td>None</td>\n",
       "      <td>[]</td>\n",
       "      <td>True</td>\n",
       "      <td>[]</td>\n",
       "      <td>none</td>\n",
       "      <td>None</td>\n",
       "      <td>[]</td>\n",
       "      <td>[{'id': 'ALPHANUMERIC_MODEL', 'name': 'Modelo ...</td>\n",
       "      <td>[]</td>\n",
       "      <td></td>\n",
       "      <td>[]</td>\n",
       "      <td>active</td>\n",
       "      <td>[]</td>\n",
       "      <td>[extended_warranty_eligible, good_quality_pict...</td>\n",
       "      <td>Garantía de fábrica: 12 meses</td>\n",
       "      <td>MLA18547226</td>\n",
       "      <td>MLA-NOTEBOOKS</td>\n",
       "      <td>None</td>\n",
       "      <td>None</td>\n",
       "      <td>[MLA9166]</td>\n",
       "      <td>False</td>\n",
       "      <td>2021-11-02T17:35:09.000Z</td>\n",
       "      <td>2022-08-11T17:42:25.861Z</td>\n",
       "      <td>NaN</td>\n",
       "      <td>True</td>\n",
       "      <td>[marketplace, mshops]</td>\n",
       "      <td>me2</td>\n",
       "      <td>[]</td>\n",
       "      <td>[self_service_in, mandatory_free_shipping]</td>\n",
       "      <td>None</td>\n",
       "      <td>False</td>\n",
       "      <td>True</td>\n",
       "      <td>fulfillment</td>\n",
       "      <td>False</td>\n",
       "      <td>TUxBQk1PTjE2OTBa</td>\n",
       "      <td>Monte Castro</td>\n",
       "      <td>AR-C</td>\n",
       "      <td>Capital Federal</td>\n",
       "      <td>AR</td>\n",
       "      <td>Argentina</td>\n",
       "      <td>TUxBQk1PTjE2OTBa</td>\n",
       "      <td>Monte Castro</td>\n",
       "      <td>TUxBQ0NBUGZlZG1sYQ</td>\n",
       "      <td>Capital Federal</td>\n",
       "      <td>TUxBUENBUGw3M2E1</td>\n",
       "      <td>Capital Federal</td>\n",
       "      <td>1117498971</td>\n",
       "      <td>NaN</td>\n",
       "    </tr>\n",
       "  </tbody>\n",
       "</table>\n",
       "</div>\n",
       "      <button class=\"colab-df-convert\" onclick=\"convertToInteractive('df-12b6ef2c-03cc-4fe8-afe2-1984193cca93')\"\n",
       "              title=\"Convert this dataframe to an interactive table.\"\n",
       "              style=\"display:none;\">\n",
       "        \n",
       "  <svg xmlns=\"http://www.w3.org/2000/svg\" height=\"24px\"viewBox=\"0 0 24 24\"\n",
       "       width=\"24px\">\n",
       "    <path d=\"M0 0h24v24H0V0z\" fill=\"none\"/>\n",
       "    <path d=\"M18.56 5.44l.94 2.06.94-2.06 2.06-.94-2.06-.94-.94-2.06-.94 2.06-2.06.94zm-11 1L8.5 8.5l.94-2.06 2.06-.94-2.06-.94L8.5 2.5l-.94 2.06-2.06.94zm10 10l.94 2.06.94-2.06 2.06-.94-2.06-.94-.94-2.06-.94 2.06-2.06.94z\"/><path d=\"M17.41 7.96l-1.37-1.37c-.4-.4-.92-.59-1.43-.59-.52 0-1.04.2-1.43.59L10.3 9.45l-7.72 7.72c-.78.78-.78 2.05 0 2.83L4 21.41c.39.39.9.59 1.41.59.51 0 1.02-.2 1.41-.59l7.78-7.78 2.81-2.81c.8-.78.8-2.07 0-2.86zM5.41 20L4 18.59l7.72-7.72 1.47 1.35L5.41 20z\"/>\n",
       "  </svg>\n",
       "      </button>\n",
       "      \n",
       "  <style>\n",
       "    .colab-df-container {\n",
       "      display:flex;\n",
       "      flex-wrap:wrap;\n",
       "      gap: 12px;\n",
       "    }\n",
       "\n",
       "    .colab-df-convert {\n",
       "      background-color: #E8F0FE;\n",
       "      border: none;\n",
       "      border-radius: 50%;\n",
       "      cursor: pointer;\n",
       "      display: none;\n",
       "      fill: #1967D2;\n",
       "      height: 32px;\n",
       "      padding: 0 0 0 0;\n",
       "      width: 32px;\n",
       "    }\n",
       "\n",
       "    .colab-df-convert:hover {\n",
       "      background-color: #E2EBFA;\n",
       "      box-shadow: 0px 1px 2px rgba(60, 64, 67, 0.3), 0px 1px 3px 1px rgba(60, 64, 67, 0.15);\n",
       "      fill: #174EA6;\n",
       "    }\n",
       "\n",
       "    [theme=dark] .colab-df-convert {\n",
       "      background-color: #3B4455;\n",
       "      fill: #D2E3FC;\n",
       "    }\n",
       "\n",
       "    [theme=dark] .colab-df-convert:hover {\n",
       "      background-color: #434B5C;\n",
       "      box-shadow: 0px 1px 3px 1px rgba(0, 0, 0, 0.15);\n",
       "      filter: drop-shadow(0px 1px 2px rgba(0, 0, 0, 0.3));\n",
       "      fill: #FFFFFF;\n",
       "    }\n",
       "  </style>\n",
       "\n",
       "      <script>\n",
       "        const buttonEl =\n",
       "          document.querySelector('#df-12b6ef2c-03cc-4fe8-afe2-1984193cca93 button.colab-df-convert');\n",
       "        buttonEl.style.display =\n",
       "          google.colab.kernel.accessAllowed ? 'block' : 'none';\n",
       "\n",
       "        async function convertToInteractive(key) {\n",
       "          const element = document.querySelector('#df-12b6ef2c-03cc-4fe8-afe2-1984193cca93');\n",
       "          const dataTable =\n",
       "            await google.colab.kernel.invokeFunction('convertToInteractive',\n",
       "                                                     [key], {});\n",
       "          if (!dataTable) return;\n",
       "\n",
       "          const docLinkHtml = 'Like what you see? Visit the ' +\n",
       "            '<a target=\"_blank\" href=https://colab.research.google.com/notebooks/data_table.ipynb>data table notebook</a>'\n",
       "            + ' to learn more about interactive tables.';\n",
       "          element.innerHTML = '';\n",
       "          dataTable['output_type'] = 'display_data';\n",
       "          await google.colab.output.renderOutput(dataTable, element);\n",
       "          const docLink = document.createElement('div');\n",
       "          docLink.innerHTML = docLinkHtml;\n",
       "          element.appendChild(docLink);\n",
       "        }\n",
       "      </script>\n",
       "    </div>\n",
       "  </div>\n",
       "  "
      ],
      "text/plain": [
       "              id site_id                                              title  \\\n",
       "0  MLA1129251702     MLA  Notebook Hp Amd Ryzen 7 5700u 12gb 256gb Ssd 1...   \n",
       "1  MLA1147028688     MLA  Notebook Hp 15-ef2126wm Spruce Blue 15.6 , Amd...   \n",
       "2  MLA1110784573     MLA  Notebook Noblex 14.1  Pantalla Hd Intel Celero...   \n",
       "\n",
       "  subtitle  seller_id category_id  official_store_id     price  base_price  \\\n",
       "0     None  174556876     MLA1652                NaN  164899.0    164899.0   \n",
       "1     None  158169010     MLA1652                NaN  129499.0    129499.0   \n",
       "2     None  185702920     MLA1652                NaN   66999.0     66999.0   \n",
       "\n",
       "   original_price currency_id  initial_quantity  available_quantity  \\\n",
       "0        179999.0         ARS                43                   1   \n",
       "1             NaN         ARS                42                   0   \n",
       "2             NaN         ARS                81                   1   \n",
       "\n",
       "   sold_quantity                                         sale_terms  \\\n",
       "0              5  [{'id': 'WARRANTY_TYPE', 'name': 'Tipo de gara...   \n",
       "1             25  [{'id': 'INVOICE', 'name': 'Facturación', 'val...   \n",
       "2             50  [{'id': 'WARRANTY_TIME', 'name': 'Tiempo de ga...   \n",
       "\n",
       "  buying_mode listing_type_id                start_time  \\\n",
       "0  buy_it_now    gold_special  2022-03-25T16:19:38.000Z   \n",
       "1  buy_it_now    gold_special  2022-07-15T15:09:59.000Z   \n",
       "2  buy_it_now    gold_special  2021-11-02T17:35:08.000Z   \n",
       "\n",
       "                  stop_time condition  \\\n",
       "0  2042-03-20T04:00:00.000Z       new   \n",
       "1  2042-07-10T04:00:00.000Z       new   \n",
       "2  2041-10-28T04:00:00.000Z       new   \n",
       "\n",
       "                                           permalink  \\\n",
       "0  https://articulo.mercadolibre.com.ar/MLA-11292...   \n",
       "1  https://articulo.mercadolibre.com.ar/MLA-11470...   \n",
       "2  https://articulo.mercadolibre.com.ar/MLA-11107...   \n",
       "\n",
       "                   thumbnail_id  \\\n",
       "0  975457-MLA49471206711_032022   \n",
       "1  945528-MLA49251126700_032022   \n",
       "2  997940-MLA47767920611_102021   \n",
       "\n",
       "                                           thumbnail  \\\n",
       "0  http://http2.mlstatic.com/D_975457-MLA49471206...   \n",
       "1  http://http2.mlstatic.com/D_945528-MLA49251126...   \n",
       "2  http://http2.mlstatic.com/D_997940-MLA47767920...   \n",
       "\n",
       "                                    secure_thumbnail  \\\n",
       "0  https://http2.mlstatic.com/D_975457-MLA4947120...   \n",
       "1  https://http2.mlstatic.com/D_945528-MLA4925112...   \n",
       "2  https://http2.mlstatic.com/D_997940-MLA4776792...   \n",
       "\n",
       "                                            pictures video_id descriptions  \\\n",
       "0  [{'id': '975457-MLA49471206711_032022', 'url':...     None           []   \n",
       "1  [{'id': '945528-MLA49251126700_032022', 'url':...     None           []   \n",
       "2  [{'id': '997940-MLA47767920611_102021', 'url':...     None           []   \n",
       "\n",
       "   accepts_mercadopago non_mercado_pago_payment_methods  \\\n",
       "0                 True                               []   \n",
       "1                 True                               []   \n",
       "2                 True                               []   \n",
       "\n",
       "  international_delivery_mode seller_contact coverage_areas  \\\n",
       "0                        none           None             []   \n",
       "1                        none           None             []   \n",
       "2                        none           None             []   \n",
       "\n",
       "                                          attributes warnings listing_source  \\\n",
       "0  [{'id': 'BATTERY_LIFE', 'name': 'Duración de l...       []                  \n",
       "1  [{'id': 'ASPECT_RATIO', 'name': 'Relación de a...       []                  \n",
       "2  [{'id': 'ALPHANUMERIC_MODEL', 'name': 'Modelo ...       []                  \n",
       "\n",
       "                                          variations  status      sub_status  \\\n",
       "0  [{'id': 174343023835, 'price': 164899.0, 'attr...  active              []   \n",
       "1                                                 []  paused  [out_of_stock]   \n",
       "2                                                 []  active              []   \n",
       "\n",
       "                                                tags  \\\n",
       "0  [deal_of_the_day, extended_warranty_eligible, ...   \n",
       "1  [extended_warranty_eligible, good_quality_pict...   \n",
       "2  [extended_warranty_eligible, good_quality_pict...   \n",
       "\n",
       "                         warranty catalog_product_id      domain_id  \\\n",
       "0   Garantía de fábrica: 12 meses               None  MLA-NOTEBOOKS   \n",
       "1  Garantía del vendedor: 6 meses        MLA18717712  MLA-NOTEBOOKS   \n",
       "2   Garantía de fábrica: 12 meses        MLA18547226  MLA-NOTEBOOKS   \n",
       "\n",
       "  parent_item_id differential_pricing                                deal_ids  \\\n",
       "0           None                 None  [MLA8258, MLA12440, MLA6015, MLA12436]   \n",
       "1           None                 None                                      []   \n",
       "2           None                 None                               [MLA9166]   \n",
       "\n",
       "   automatic_relist              date_created              last_updated  \\\n",
       "0             False  2022-03-25T16:19:38.000Z  2022-08-11T20:54:11.550Z   \n",
       "1             False  2022-07-15T15:10:00.000Z  2022-08-11T21:29:46.849Z   \n",
       "2             False  2021-11-02T17:35:09.000Z  2022-08-11T17:42:25.861Z   \n",
       "\n",
       "   health  catalog_listing               channels shipping.mode  \\\n",
       "0     0.9            False  [marketplace, mshops]           me2   \n",
       "1     NaN             True          [marketplace]           me2   \n",
       "2     NaN             True  [marketplace, mshops]           me2   \n",
       "\n",
       "  shipping.methods                                      shipping.tags  \\\n",
       "0               []         [self_service_in, mandatory_free_shipping]   \n",
       "1               []  [self_service_in, fbm_in_process, mandatory_fr...   \n",
       "2               []         [self_service_in, mandatory_free_shipping]   \n",
       "\n",
       "  shipping.dimensions  shipping.local_pick_up  shipping.free_shipping  \\\n",
       "0                None                    True                    True   \n",
       "1                None                    True                    True   \n",
       "2                None                   False                    True   \n",
       "\n",
       "  shipping.logistic_type  shipping.store_pick_up seller_address.city.id  \\\n",
       "0          cross_docking                   False       TUxBQlZJTDQyMjBa   \n",
       "1            xd_drop_off                   False       TUxBQ0NBUGNiZGQx   \n",
       "2            fulfillment                   False       TUxBQk1PTjE2OTBa   \n",
       "\n",
       "  seller_address.city.name seller_address.state.id seller_address.state.name  \\\n",
       "0             Villa Crespo                    AR-C           Capital Federal   \n",
       "1                  Córdoba                    AR-X                   Córdoba   \n",
       "2             Monte Castro                    AR-C           Capital Federal   \n",
       "\n",
       "  seller_address.country.id seller_address.country.name  \\\n",
       "0                        AR                   Argentina   \n",
       "1                        AR                   Argentina   \n",
       "2                        AR                   Argentina   \n",
       "\n",
       "  seller_address.search_location.neighborhood.id  \\\n",
       "0                               TUxBQlZJTDQyMjBa   \n",
       "1                                            NaN   \n",
       "2                               TUxBQk1PTjE2OTBa   \n",
       "\n",
       "  seller_address.search_location.neighborhood.name  \\\n",
       "0                                     Villa Crespo   \n",
       "1                                              NaN   \n",
       "2                                     Monte Castro   \n",
       "\n",
       "  seller_address.search_location.city.id  \\\n",
       "0                     TUxBQ0NBUGZlZG1sYQ   \n",
       "1                       TUxBQ0NBUGNiZGQx   \n",
       "2                     TUxBQ0NBUGZlZG1sYQ   \n",
       "\n",
       "  seller_address.search_location.city.name  \\\n",
       "0                          Capital Federal   \n",
       "1                                  Córdoba   \n",
       "2                          Capital Federal   \n",
       "\n",
       "  seller_address.search_location.state.id  \\\n",
       "0                        TUxBUENBUGw3M2E1   \n",
       "1                        TUxBUENPUmFkZGIw   \n",
       "2                        TUxBUENBUGw3M2E1   \n",
       "\n",
       "  seller_address.search_location.state.name  seller_address.id  \\\n",
       "0                           Capital Federal          155782338   \n",
       "1                                   Córdoba          269536971   \n",
       "2                           Capital Federal         1117498971   \n",
       "\n",
       "  shipping.free_methods  \n",
       "0                   NaN  \n",
       "1                   NaN  \n",
       "2                   NaN  "
      ]
     },
     "execution_count": 56,
     "metadata": {},
     "output_type": "execute_result"
    }
   ],
   "source": [
    "data = pd.json_normalize(final_list)\n",
    "data.head(3)"
   ]
  },
  {
   "cell_type": "code",
   "execution_count": 57,
   "id": "wWy2AF-3puLv",
   "metadata": {
    "colab": {
     "base_uri": "https://localhost:8080/"
    },
    "executionInfo": {
     "elapsed": 255,
     "status": "ok",
     "timestamp": 1660261727483,
     "user": {
      "displayName": "Martina Di Carlo",
      "userId": "17054237212499031598"
     },
     "user_tz": 180
    },
    "id": "wWy2AF-3puLv",
    "outputId": "60094781-22dc-4fe3-eb40-9f6983ca55fd"
   },
   "outputs": [
    {
     "data": {
      "text/plain": [
       "Notebook Hp Amd Ryzen 5 5500 8gb 256gb Ssd 15.6 Windows 10                                                                              150\n",
       "Notebook Lenovo Ip 3 15alc6 Ryzen 3 4gb 256gb W10s                                                                                      150\n",
       "Notebook Noblex N14wce128 14.1'' Hd Intel Celeron 4gb 128gb                                                                             100\n",
       "Notebook Hp I3-1125g4 4gb 128gb 14'' Fhd Win 10 Silver                                                                                  100\n",
       "Notebook Bangho Core I7 11a Gen 16gb Ssd 480gb 15,6 Gamer Hf                                                                            100\n",
       "                                                                                                                                       ... \n",
       "Notebook Noblex 14.1  Pantalla Hd Intel Celeron 4gb/128gb Ssd                                                                             3\n",
       "Notebook Hp 15-ef2126wm Spruce Blue 15.6 , Amd Ryzen 5 5500u  8gb De Ram 256gb Ssd, Amd Radeon Rx Vega 7 1920x1080px Windows 10 Home      2\n",
       "Notebook Hp Victus 16´´ Core I5 256gb Ssd 16gb Rtx3050 Win10                                                                              2\n",
       "Notebook Hp Amd Ryzen 7 5700u 12gb 256gb Ssd 15.6 Windows 11                                                                              1\n",
       "Notebook Lenovo Thinkpad L15 I7 10510u 16gb Ssd 256gb 15.6                                                                                1\n",
       "Name: title, Length: 699, dtype: int64"
      ]
     },
     "execution_count": 57,
     "metadata": {},
     "output_type": "execute_result"
    }
   ],
   "source": [
    "data.title.value_counts()"
   ]
  },
  {
   "cell_type": "code",
   "execution_count": 60,
   "id": "uQX1zIwjD070",
   "metadata": {
    "executionInfo": {
     "elapsed": 276,
     "status": "ok",
     "timestamp": 1660261747766,
     "user": {
      "displayName": "Martina Di Carlo",
      "userId": "17054237212499031598"
     },
     "user_tz": 180
    },
    "id": "uQX1zIwjD070"
   },
   "outputs": [],
   "source": [
    "path_save = \"/content/drive/MyDrive/Austral/Maestria/Tesis/Data/\""
   ]
  },
  {
   "cell_type": "code",
   "execution_count": 61,
   "id": "wmWFcc4WDdmQ",
   "metadata": {
    "executionInfo": {
     "elapsed": 26556,
     "status": "ok",
     "timestamp": 1660261774830,
     "user": {
      "displayName": "Martina Di Carlo",
      "userId": "17054237212499031598"
     },
     "user_tz": 180
    },
    "id": "wmWFcc4WDdmQ"
   },
   "outputs": [],
   "source": [
    "data.to_csv(path_save + \"datos_laptops.csv\", index = False, sep = \";\")"
   ]
  },
  {
   "cell_type": "code",
   "execution_count": null,
   "id": "2mOHsYwvD8zn",
   "metadata": {
    "executionInfo": {
     "elapsed": 391,
     "status": "aborted",
     "timestamp": 1660253632107,
     "user": {
      "displayName": "Martina Di Carlo",
      "userId": "17054237212499031598"
     },
     "user_tz": 180
    },
    "id": "2mOHsYwvD8zn"
   },
   "outputs": [],
   "source": []
  }
 ],
 "metadata": {
  "colab": {
   "name": "00_extract_table.ipynb",
   "provenance": [
    {
     "file_id": "1MKjfoeo7kih0sPT5yZq7VcAAocvTb9p1",
     "timestamp": 1657505217098
    }
   ]
  },
  "kernelspec": {
   "display_name": "Python 3 (ipykernel)",
   "language": "python",
   "name": "python3"
  },
  "language_info": {
   "codemirror_mode": {
    "name": "ipython",
    "version": 3
   },
   "file_extension": ".py",
   "mimetype": "text/x-python",
   "name": "python",
   "nbconvert_exporter": "python",
   "pygments_lexer": "ipython3",
   "version": "3.9.12"
  }
 },
 "nbformat": 4,
 "nbformat_minor": 5
}
