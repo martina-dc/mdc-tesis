{
 "cells": [
  {
   "cell_type": "markdown",
   "metadata": {
    "id": "eiMupGycJKXT"
   },
   "source": [
    "# Análisis de Datos Exploratorio\n",
    "Se levantará el dataset guardado en el notebook de preparación de datos, para poder analizarlo."
   ]
  },
  {
   "cell_type": "code",
   "execution_count": 1,
   "metadata": {
    "executionInfo": {
     "elapsed": 840,
     "status": "ok",
     "timestamp": 1660263698824,
     "user": {
      "displayName": "Martina Di Carlo",
      "userId": "17054237212499031598"
     },
     "user_tz": 180
    },
    "id": "LQXvtk6N9kid"
   },
   "outputs": [],
   "source": [
    "import pandas as pd\n",
    "import os\n",
    "import json\n",
    "import ast\n",
    "import numpy as np\n",
    "from pyprojroot import here\n",
    "import sys\n",
    "sys.path.append(here())\n",
    "from utils.utils import normalizar_lineas_procesador, separar_valor_ram\n",
    "    "
   ]
  },
  {
   "cell_type": "code",
   "execution_count": 2,
   "metadata": {
    "executionInfo": {
     "elapsed": 4,
     "status": "ok",
     "timestamp": 1660263698825,
     "user": {
      "displayName": "Martina Di Carlo",
      "userId": "17054237212499031598"
     },
     "user_tz": 180
    },
    "id": "stxxrzZeKKd2"
   },
   "outputs": [],
   "source": [
    "pd.set_option('display.max_columns', None)\n",
    "pd.set_option('display.max_rows', None)\n",
    "pd.set_option('display.float_format', lambda x: '%.5f' % x)"
   ]
  },
  {
   "cell_type": "code",
   "execution_count": 3,
   "metadata": {
    "executionInfo": {
     "elapsed": 685,
     "status": "ok",
     "timestamp": 1660264554795,
     "user": {
      "displayName": "Martina Di Carlo",
      "userId": "17054237212499031598"
     },
     "user_tz": 180
    },
    "id": "UO7QBtErHkhr"
   },
   "outputs": [],
   "source": [
    "import seaborn as sns\n",
    "import matplotlib.pyplot as plt \n"
   ]
  },
  {
   "cell_type": "code",
   "execution_count": 4,
   "metadata": {},
   "outputs": [],
   "source": [
    "path = here() / \"data\""
   ]
  },
  {
   "cell_type": "code",
   "execution_count": 5,
   "metadata": {
    "executionInfo": {
     "elapsed": 431,
     "status": "ok",
     "timestamp": 1660264069826,
     "user": {
      "displayName": "Martina Di Carlo",
      "userId": "17054237212499031598"
     },
     "user_tz": 180
    },
    "id": "WEN2UFBqDdLD"
   },
   "outputs": [],
   "source": [
    "df = pd.read_csv(path / \"datos_laptops_transformed.csv\", sep = \";\")"
   ]
  },
  {
   "cell_type": "markdown",
   "metadata": {
    "id": "WEdtt72wKFIt"
   },
   "source": [
    "## Preview del dataset"
   ]
  },
  {
   "cell_type": "code",
   "execution_count": 6,
   "metadata": {
    "colab": {
     "base_uri": "https://localhost:8080/",
     "height": 485
    },
    "executionInfo": {
     "elapsed": 276,
     "status": "ok",
     "timestamp": 1660264782284,
     "user": {
      "displayName": "Martina Di Carlo",
      "userId": "17054237212499031598"
     },
     "user_tz": 180
    },
    "id": "-NgFtdgwDn9S",
    "outputId": "6ba03179-f6c9-4eb1-af5c-bd80eef36eae"
   },
   "outputs": [
    {
     "data": {
      "text/html": [
       "<div>\n",
       "<style scoped>\n",
       "    .dataframe tbody tr th:only-of-type {\n",
       "        vertical-align: middle;\n",
       "    }\n",
       "\n",
       "    .dataframe tbody tr th {\n",
       "        vertical-align: top;\n",
       "    }\n",
       "\n",
       "    .dataframe thead th {\n",
       "        text-align: right;\n",
       "    }\n",
       "</style>\n",
       "<table border=\"1\" class=\"dataframe\">\n",
       "  <thead>\n",
       "    <tr style=\"text-align: right;\">\n",
       "      <th></th>\n",
       "      <th>id</th>\n",
       "      <th>title</th>\n",
       "      <th>seller_id</th>\n",
       "      <th>price</th>\n",
       "      <th>base_price</th>\n",
       "      <th>deal_ids</th>\n",
       "      <th>initial_quantity</th>\n",
       "      <th>sold_quantity</th>\n",
       "      <th>listing_type_id</th>\n",
       "      <th>available_quantity</th>\n",
       "      <th>sold_quantity.1</th>\n",
       "      <th>sale_terms</th>\n",
       "      <th>condition</th>\n",
       "      <th>installment</th>\n",
       "      <th>display_size</th>\n",
       "      <th>shipping_cost</th>\n",
       "      <th>descriptions</th>\n",
       "      <th>attributes</th>\n",
       "      <th>warnings</th>\n",
       "      <th>status</th>\n",
       "      <th>date_created</th>\n",
       "      <th>shipping.mode</th>\n",
       "      <th>shipping.free_shipping</th>\n",
       "      <th>Tipo de batería</th>\n",
       "      <th>Marca</th>\n",
       "      <th>Cantidad de núcleos</th>\n",
       "      <th>Resolución de la pantalla</th>\n",
       "      <th>Tamaño de la pantalla</th>\n",
       "      <th>Tipo de pantalla</th>\n",
       "      <th>Tarjeta gráfica</th>\n",
       "      <th>Es 2 en 1</th>\n",
       "      <th>Es gamer</th>\n",
       "      <th>Es ultrabook</th>\n",
       "      <th>Condición del ítem</th>\n",
       "      <th>Línea</th>\n",
       "      <th>Modelo</th>\n",
       "      <th>Edición del sistema operativo</th>\n",
       "      <th>Nombre del sistema operativo</th>\n",
       "      <th>Versión del sistema operativo</th>\n",
       "      <th>Marca del procesador</th>\n",
       "      <th>Línea del procesador</th>\n",
       "      <th>Memoria RAM</th>\n",
       "      <th>Tipo de memoria RAM</th>\n",
       "      <th>Capacidad del SSD</th>\n",
       "      <th>Cantidad total de puertos USB</th>\n",
       "      <th>Peso</th>\n",
       "      <th>Con Bluetooth</th>\n",
       "      <th>Con puerto ethernet</th>\n",
       "      <th>Con HDMI</th>\n",
       "      <th>Con salida para auriculares</th>\n",
       "      <th>Con lector de tarjeta de memoria</th>\n",
       "      <th>Con micrófono</th>\n",
       "      <th>Con pantalla táctil</th>\n",
       "      <th>Con cámara web</th>\n",
       "      <th>Con Wi-Fi</th>\n",
       "      <th>Profundidad</th>\n",
       "      <th>Altura</th>\n",
       "      <th>Modos de sonido</th>\n",
       "      <th>Puertos USB</th>\n",
       "      <th>Puertos de video</th>\n",
       "      <th>Ancho</th>\n",
       "      <th>Con USB</th>\n",
       "      <th>Modelo del procesador</th>\n",
       "      <th>Tipo de garantía_x</th>\n",
       "      <th>Tiempo de garantía_x</th>\n",
       "      <th>Tipo de garantía_y</th>\n",
       "      <th>Tiempo de garantía_y</th>\n",
       "    </tr>\n",
       "  </thead>\n",
       "  <tbody>\n",
       "    <tr>\n",
       "      <th>0</th>\n",
       "      <td>MLA1151530200</td>\n",
       "      <td>Notebook Lenovo Ideapad 3 14iil05 Intel Core I...</td>\n",
       "      <td>174556876</td>\n",
       "      <td>89999.00000</td>\n",
       "      <td>89999.00000</td>\n",
       "      <td>['MLA6015']</td>\n",
       "      <td>105</td>\n",
       "      <td>50</td>\n",
       "      <td>gold_special</td>\n",
       "      <td>1</td>\n",
       "      <td>50</td>\n",
       "      <td>[{'id': 'WARRANTY_TYPE', 'name': 'Tipo de gara...</td>\n",
       "      <td>new</td>\n",
       "      <td>yes</td>\n",
       "      <td>hasta 14.1</td>\n",
       "      <td>free</td>\n",
       "      <td>[]</td>\n",
       "      <td>[{'id': 'BATTERY_TYPE', 'name': 'Tipo de bater...</td>\n",
       "      <td>[]</td>\n",
       "      <td>active</td>\n",
       "      <td>2022-08-11T16:12:19.000Z</td>\n",
       "      <td>me2</td>\n",
       "      <td>True</td>\n",
       "      <td>Ion de litio</td>\n",
       "      <td>Lenovo</td>\n",
       "      <td>2.00000</td>\n",
       "      <td>1920 px x 1080 px</td>\n",
       "      <td>14 \"</td>\n",
       "      <td>LCD</td>\n",
       "      <td>Intel UHD Graphics</td>\n",
       "      <td>No</td>\n",
       "      <td>No</td>\n",
       "      <td>No</td>\n",
       "      <td>Nuevo</td>\n",
       "      <td>IDEAPAD 3</td>\n",
       "      <td>14IIL05</td>\n",
       "      <td>S</td>\n",
       "      <td>Windows</td>\n",
       "      <td>11</td>\n",
       "      <td>Intel</td>\n",
       "      <td>Core i3</td>\n",
       "      <td>8 GB</td>\n",
       "      <td>DDR4</td>\n",
       "      <td>128 GB</td>\n",
       "      <td>3.00000</td>\n",
       "      <td>1.6 kg</td>\n",
       "      <td>Sí</td>\n",
       "      <td>No</td>\n",
       "      <td>Sí</td>\n",
       "      <td>Sí</td>\n",
       "      <td>Sí</td>\n",
       "      <td>Sí</td>\n",
       "      <td>No</td>\n",
       "      <td>Sí</td>\n",
       "      <td>Sí</td>\n",
       "      <td>NaN</td>\n",
       "      <td>NaN</td>\n",
       "      <td>NaN</td>\n",
       "      <td>NaN</td>\n",
       "      <td>NaN</td>\n",
       "      <td>NaN</td>\n",
       "      <td>NaN</td>\n",
       "      <td>1005G1</td>\n",
       "      <td>Garantía de fábrica</td>\n",
       "      <td>12 meses</td>\n",
       "      <td>Garantía de fábrica</td>\n",
       "      <td>12 meses</td>\n",
       "    </tr>\n",
       "    <tr>\n",
       "      <th>1</th>\n",
       "      <td>MLA1149134293</td>\n",
       "      <td>Notebook Lenovo Ideapad 14iil05  Platinum Gray...</td>\n",
       "      <td>335450469</td>\n",
       "      <td>132616.00000</td>\n",
       "      <td>132616.00000</td>\n",
       "      <td>[]</td>\n",
       "      <td>75</td>\n",
       "      <td>50</td>\n",
       "      <td>gold_special</td>\n",
       "      <td>1</td>\n",
       "      <td>50</td>\n",
       "      <td>[{'id': 'WARRANTY_TYPE', 'name': 'Tipo de gara...</td>\n",
       "      <td>new</td>\n",
       "      <td>yes</td>\n",
       "      <td>hasta 14.1</td>\n",
       "      <td>free</td>\n",
       "      <td>[]</td>\n",
       "      <td>[{'id': 'ALPHANUMERIC_MODEL', 'name': 'Modelo ...</td>\n",
       "      <td>[]</td>\n",
       "      <td>active</td>\n",
       "      <td>2022-08-01T19:07:12.000Z</td>\n",
       "      <td>me2</td>\n",
       "      <td>True</td>\n",
       "      <td>Polímero de litio</td>\n",
       "      <td>Lenovo</td>\n",
       "      <td>4.00000</td>\n",
       "      <td>1920 px x 1080 px</td>\n",
       "      <td>14 \"</td>\n",
       "      <td>LCD</td>\n",
       "      <td>Intel UHD Graphics G1</td>\n",
       "      <td>NaN</td>\n",
       "      <td>NaN</td>\n",
       "      <td>NaN</td>\n",
       "      <td>Nuevo</td>\n",
       "      <td>IdeaPad</td>\n",
       "      <td>3</td>\n",
       "      <td>Home</td>\n",
       "      <td>Windows</td>\n",
       "      <td>10</td>\n",
       "      <td>Intel</td>\n",
       "      <td>Core i5</td>\n",
       "      <td>8 GB</td>\n",
       "      <td>DDR4</td>\n",
       "      <td>512 GB</td>\n",
       "      <td>3.00000</td>\n",
       "      <td>1.6 kg</td>\n",
       "      <td>Sí</td>\n",
       "      <td>No</td>\n",
       "      <td>Sí</td>\n",
       "      <td>Sí</td>\n",
       "      <td>Sí</td>\n",
       "      <td>Sí</td>\n",
       "      <td>No</td>\n",
       "      <td>Sí</td>\n",
       "      <td>Sí</td>\n",
       "      <td>241 mm</td>\n",
       "      <td>19.9 mm</td>\n",
       "      <td>Dolby Audio,Stereo</td>\n",
       "      <td>2.0,3.2</td>\n",
       "      <td>HDMI</td>\n",
       "      <td>327.1 mm</td>\n",
       "      <td>Sí</td>\n",
       "      <td>1035G1</td>\n",
       "      <td>Garantía del vendedor</td>\n",
       "      <td>6 meses</td>\n",
       "      <td>Garantía del vendedor</td>\n",
       "      <td>6 meses</td>\n",
       "    </tr>\n",
       "    <tr>\n",
       "      <th>2</th>\n",
       "      <td>MLA1135443731</td>\n",
       "      <td>Notebook Exo Smart L33e Gris 14 , Intel Celero...</td>\n",
       "      <td>25704919</td>\n",
       "      <td>59999.00000</td>\n",
       "      <td>59999.00000</td>\n",
       "      <td>['MLA8258', 'MLA9166', 'MLA6015']</td>\n",
       "      <td>482</td>\n",
       "      <td>250</td>\n",
       "      <td>gold_special</td>\n",
       "      <td>1</td>\n",
       "      <td>250</td>\n",
       "      <td>[{'id': 'INVOICE', 'name': 'Facturación', 'val...</td>\n",
       "      <td>new</td>\n",
       "      <td>yes</td>\n",
       "      <td>hasta 14.1</td>\n",
       "      <td>free</td>\n",
       "      <td>[]</td>\n",
       "      <td>[{'id': 'ASPECT_RATIO', 'name': 'Relación de a...</td>\n",
       "      <td>[]</td>\n",
       "      <td>active</td>\n",
       "      <td>2022-05-04T15:42:38.000Z</td>\n",
       "      <td>me2</td>\n",
       "      <td>True</td>\n",
       "      <td>NaN</td>\n",
       "      <td>EXO</td>\n",
       "      <td>2.00000</td>\n",
       "      <td>1366 px x 768 px</td>\n",
       "      <td>14 \"</td>\n",
       "      <td>LED</td>\n",
       "      <td>Intel UHD Graphics 600</td>\n",
       "      <td>NaN</td>\n",
       "      <td>NaN</td>\n",
       "      <td>NaN</td>\n",
       "      <td>Nuevo</td>\n",
       "      <td>Smart</td>\n",
       "      <td>L33E</td>\n",
       "      <td>Home</td>\n",
       "      <td>Windows</td>\n",
       "      <td>10</td>\n",
       "      <td>Intel</td>\n",
       "      <td>Celeron</td>\n",
       "      <td>4 GB</td>\n",
       "      <td>DDR4</td>\n",
       "      <td>64 GB</td>\n",
       "      <td>2.00000</td>\n",
       "      <td>1350 g</td>\n",
       "      <td>Sí</td>\n",
       "      <td>NaN</td>\n",
       "      <td>Sí</td>\n",
       "      <td>Sí</td>\n",
       "      <td>Sí</td>\n",
       "      <td>Sí</td>\n",
       "      <td>NaN</td>\n",
       "      <td>Sí</td>\n",
       "      <td>Sí</td>\n",
       "      <td>216 mm</td>\n",
       "      <td>22.2 mm</td>\n",
       "      <td>NaN</td>\n",
       "      <td>2.0,3.0</td>\n",
       "      <td>Mini-HDMI</td>\n",
       "      <td>327 mm</td>\n",
       "      <td>Sí</td>\n",
       "      <td>N4020</td>\n",
       "      <td>Garantía de fábrica</td>\n",
       "      <td>12 meses</td>\n",
       "      <td>Garantía de fábrica</td>\n",
       "      <td>12 meses</td>\n",
       "    </tr>\n",
       "  </tbody>\n",
       "</table>\n",
       "</div>"
      ],
      "text/plain": [
       "              id                                              title  \\\n",
       "0  MLA1151530200  Notebook Lenovo Ideapad 3 14iil05 Intel Core I...   \n",
       "1  MLA1149134293  Notebook Lenovo Ideapad 14iil05  Platinum Gray...   \n",
       "2  MLA1135443731  Notebook Exo Smart L33e Gris 14 , Intel Celero...   \n",
       "\n",
       "   seller_id        price   base_price                           deal_ids  \\\n",
       "0  174556876  89999.00000  89999.00000                        ['MLA6015']   \n",
       "1  335450469 132616.00000 132616.00000                                 []   \n",
       "2   25704919  59999.00000  59999.00000  ['MLA8258', 'MLA9166', 'MLA6015']   \n",
       "\n",
       "   initial_quantity  sold_quantity listing_type_id  available_quantity  \\\n",
       "0               105             50    gold_special                   1   \n",
       "1                75             50    gold_special                   1   \n",
       "2               482            250    gold_special                   1   \n",
       "\n",
       "   sold_quantity.1                                         sale_terms  \\\n",
       "0               50  [{'id': 'WARRANTY_TYPE', 'name': 'Tipo de gara...   \n",
       "1               50  [{'id': 'WARRANTY_TYPE', 'name': 'Tipo de gara...   \n",
       "2              250  [{'id': 'INVOICE', 'name': 'Facturación', 'val...   \n",
       "\n",
       "  condition installment display_size shipping_cost descriptions  \\\n",
       "0       new         yes   hasta 14.1          free           []   \n",
       "1       new         yes   hasta 14.1          free           []   \n",
       "2       new         yes   hasta 14.1          free           []   \n",
       "\n",
       "                                          attributes warnings  status  \\\n",
       "0  [{'id': 'BATTERY_TYPE', 'name': 'Tipo de bater...       []  active   \n",
       "1  [{'id': 'ALPHANUMERIC_MODEL', 'name': 'Modelo ...       []  active   \n",
       "2  [{'id': 'ASPECT_RATIO', 'name': 'Relación de a...       []  active   \n",
       "\n",
       "               date_created shipping.mode  shipping.free_shipping  \\\n",
       "0  2022-08-11T16:12:19.000Z           me2                    True   \n",
       "1  2022-08-01T19:07:12.000Z           me2                    True   \n",
       "2  2022-05-04T15:42:38.000Z           me2                    True   \n",
       "\n",
       "     Tipo de batería   Marca  Cantidad de núcleos Resolución de la pantalla  \\\n",
       "0       Ion de litio  Lenovo              2.00000         1920 px x 1080 px   \n",
       "1  Polímero de litio  Lenovo              4.00000         1920 px x 1080 px   \n",
       "2                NaN     EXO              2.00000          1366 px x 768 px   \n",
       "\n",
       "  Tamaño de la pantalla Tipo de pantalla         Tarjeta gráfica Es 2 en 1  \\\n",
       "0                  14 \"              LCD      Intel UHD Graphics        No   \n",
       "1                  14 \"              LCD   Intel UHD Graphics G1       NaN   \n",
       "2                  14 \"              LED  Intel UHD Graphics 600       NaN   \n",
       "\n",
       "  Es gamer Es ultrabook Condición del ítem      Línea   Modelo  \\\n",
       "0       No           No              Nuevo  IDEAPAD 3  14IIL05   \n",
       "1      NaN          NaN              Nuevo    IdeaPad        3   \n",
       "2      NaN          NaN              Nuevo      Smart     L33E   \n",
       "\n",
       "  Edición del sistema operativo Nombre del sistema operativo  \\\n",
       "0                             S                      Windows   \n",
       "1                          Home                      Windows   \n",
       "2                          Home                      Windows   \n",
       "\n",
       "  Versión del sistema operativo Marca del procesador Línea del procesador  \\\n",
       "0                            11                Intel              Core i3   \n",
       "1                            10                Intel              Core i5   \n",
       "2                            10                Intel              Celeron   \n",
       "\n",
       "  Memoria RAM Tipo de memoria RAM Capacidad del SSD  \\\n",
       "0        8 GB                DDR4            128 GB   \n",
       "1        8 GB                DDR4            512 GB   \n",
       "2        4 GB                DDR4             64 GB   \n",
       "\n",
       "   Cantidad total de puertos USB    Peso Con Bluetooth Con puerto ethernet  \\\n",
       "0                        3.00000  1.6 kg            Sí                  No   \n",
       "1                        3.00000  1.6 kg            Sí                  No   \n",
       "2                        2.00000  1350 g            Sí                 NaN   \n",
       "\n",
       "  Con HDMI Con salida para auriculares Con lector de tarjeta de memoria  \\\n",
       "0       Sí                          Sí                               Sí   \n",
       "1       Sí                          Sí                               Sí   \n",
       "2       Sí                          Sí                               Sí   \n",
       "\n",
       "  Con micrófono Con pantalla táctil Con cámara web Con Wi-Fi Profundidad  \\\n",
       "0            Sí                  No             Sí        Sí         NaN   \n",
       "1            Sí                  No             Sí        Sí      241 mm   \n",
       "2            Sí                 NaN             Sí        Sí      216 mm   \n",
       "\n",
       "    Altura     Modos de sonido Puertos USB Puertos de video     Ancho Con USB  \\\n",
       "0      NaN                 NaN         NaN              NaN       NaN     NaN   \n",
       "1  19.9 mm  Dolby Audio,Stereo     2.0,3.2             HDMI  327.1 mm      Sí   \n",
       "2  22.2 mm                 NaN     2.0,3.0        Mini-HDMI    327 mm      Sí   \n",
       "\n",
       "  Modelo del procesador     Tipo de garantía_x Tiempo de garantía_x  \\\n",
       "0                1005G1    Garantía de fábrica             12 meses   \n",
       "1                1035G1  Garantía del vendedor              6 meses   \n",
       "2                 N4020    Garantía de fábrica             12 meses   \n",
       "\n",
       "      Tipo de garantía_y Tiempo de garantía_y  \n",
       "0    Garantía de fábrica             12 meses  \n",
       "1  Garantía del vendedor              6 meses  \n",
       "2    Garantía de fábrica             12 meses  "
      ]
     },
     "execution_count": 6,
     "metadata": {},
     "output_type": "execute_result"
    }
   ],
   "source": [
    "df.head(3)"
   ]
  },
  {
   "cell_type": "code",
   "execution_count": 7,
   "metadata": {
    "colab": {
     "base_uri": "https://localhost:8080/",
     "height": 424
    },
    "executionInfo": {
     "elapsed": 266,
     "status": "ok",
     "timestamp": 1660264785811,
     "user": {
      "displayName": "Martina Di Carlo",
      "userId": "17054237212499031598"
     },
     "user_tz": 180
    },
    "id": "loV3CX7eLJ0x",
    "outputId": "d8e43e04-ed03-4d64-d9e8-44727963c2a9"
   },
   "outputs": [
    {
     "data": {
      "text/plain": [
       "(11574, 67)"
      ]
     },
     "execution_count": 7,
     "metadata": {},
     "output_type": "execute_result"
    }
   ],
   "source": [
    "df.shape"
   ]
  },
  {
   "cell_type": "code",
   "execution_count": 8,
   "metadata": {
    "colab": {
     "base_uri": "https://localhost:8080/"
    },
    "executionInfo": {
     "elapsed": 318,
     "status": "ok",
     "timestamp": 1660264788973,
     "user": {
      "displayName": "Martina Di Carlo",
      "userId": "17054237212499031598"
     },
     "user_tz": 180
    },
    "id": "VkqA9u3ufcGN",
    "outputId": "162322fc-3a6f-4293-e5f5-3e6802c236e0"
   },
   "outputs": [
    {
     "name": "stdout",
     "output_type": "stream",
     "text": [
      "<class 'pandas.core.frame.DataFrame'>\n",
      "RangeIndex: 11574 entries, 0 to 11573\n",
      "Data columns (total 67 columns):\n",
      " #   Column                            Non-Null Count  Dtype  \n",
      "---  ------                            --------------  -----  \n",
      " 0   id                                11574 non-null  object \n",
      " 1   title                             11574 non-null  object \n",
      " 2   seller_id                         11574 non-null  int64  \n",
      " 3   price                             11574 non-null  float64\n",
      " 4   base_price                        11574 non-null  float64\n",
      " 5   deal_ids                          11574 non-null  object \n",
      " 6   initial_quantity                  11574 non-null  int64  \n",
      " 7   sold_quantity                     11574 non-null  int64  \n",
      " 8   listing_type_id                   11574 non-null  object \n",
      " 9   available_quantity                11574 non-null  int64  \n",
      " 10  sold_quantity.1                   11574 non-null  int64  \n",
      " 11  sale_terms                        11574 non-null  object \n",
      " 12  condition                         11574 non-null  object \n",
      " 13  installment                       11574 non-null  object \n",
      " 14  display_size                      11574 non-null  object \n",
      " 15  shipping_cost                     11574 non-null  object \n",
      " 16  descriptions                      11574 non-null  object \n",
      " 17  attributes                        11574 non-null  object \n",
      " 18  warnings                          11574 non-null  object \n",
      " 19  status                            11574 non-null  object \n",
      " 20  date_created                      11574 non-null  object \n",
      " 21  shipping.mode                     11574 non-null  object \n",
      " 22  shipping.free_shipping            11574 non-null  bool   \n",
      " 23  Tipo de batería                   9644 non-null   object \n",
      " 24  Marca                             11574 non-null  object \n",
      " 25  Cantidad de núcleos               8495 non-null   float64\n",
      " 26  Resolución de la pantalla         9823 non-null   object \n",
      " 27  Tamaño de la pantalla             11574 non-null  object \n",
      " 28  Tipo de pantalla                  5838 non-null   object \n",
      " 29  Tarjeta gráfica                   8221 non-null   object \n",
      " 30  Es 2 en 1                         9152 non-null   object \n",
      " 31  Es gamer                          9032 non-null   object \n",
      " 32  Es ultrabook                      8843 non-null   object \n",
      " 33  Condición del ítem                11574 non-null  object \n",
      " 34  Línea                             11168 non-null  object \n",
      " 35  Modelo                            11574 non-null  object \n",
      " 36  Edición del sistema operativo     7330 non-null   object \n",
      " 37  Nombre del sistema operativo      11574 non-null  object \n",
      " 38  Versión del sistema operativo     8058 non-null   object \n",
      " 39  Marca del procesador              11572 non-null  object \n",
      " 40  Línea del procesador              9755 non-null   object \n",
      " 41  Memoria RAM                       10002 non-null  object \n",
      " 42  Tipo de memoria RAM               10246 non-null  object \n",
      " 43  Capacidad del SSD                 9300 non-null   object \n",
      " 44  Cantidad total de puertos USB     7074 non-null   float64\n",
      " 45  Peso                              10196 non-null  object \n",
      " 46  Con Bluetooth                     10036 non-null  object \n",
      " 47  Con puerto ethernet               5794 non-null   object \n",
      " 48  Con HDMI                          9491 non-null   object \n",
      " 49  Con salida para auriculares       7062 non-null   object \n",
      " 50  Con lector de tarjeta de memoria  5897 non-null   object \n",
      " 51  Con micrófono                     8944 non-null   object \n",
      " 52  Con pantalla táctil               9396 non-null   object \n",
      " 53  Con cámara web                    9137 non-null   object \n",
      " 54  Con Wi-Fi                         9676 non-null   object \n",
      " 55  Profundidad                       7434 non-null   object \n",
      " 56  Altura                            7367 non-null   object \n",
      " 57  Modos de sonido                   6107 non-null   object \n",
      " 58  Puertos USB                       6981 non-null   object \n",
      " 59  Puertos de video                  7077 non-null   object \n",
      " 60  Ancho                             7500 non-null   object \n",
      " 61  Con USB                           10080 non-null  object \n",
      " 62  Modelo del procesador             3697 non-null   object \n",
      " 63  Tipo de garantía_x                11216 non-null  object \n",
      " 64  Tiempo de garantía_x              11056 non-null  object \n",
      " 65  Tipo de garantía_y                11216 non-null  object \n",
      " 66  Tiempo de garantía_y              11056 non-null  object \n",
      "dtypes: bool(1), float64(4), int64(5), object(57)\n",
      "memory usage: 5.8+ MB\n"
     ]
    }
   ],
   "source": [
    "df.info()"
   ]
  },
  {
   "cell_type": "code",
   "execution_count": 9,
   "metadata": {
    "colab": {
     "base_uri": "https://localhost:8080/"
    },
    "executionInfo": {
     "elapsed": 9,
     "status": "ok",
     "timestamp": 1660264554115,
     "user": {
      "displayName": "Martina Di Carlo",
      "userId": "17054237212499031598"
     },
     "user_tz": 180
    },
    "id": "3kmXwdx3_nBN",
    "outputId": "7574c575-5f8c-47a4-cf3f-fa4f8c3854a5"
   },
   "outputs": [
    {
     "data": {
      "text/plain": [
       "(11574, 67)"
      ]
     },
     "execution_count": 9,
     "metadata": {},
     "output_type": "execute_result"
    }
   ],
   "source": [
    "df.shape"
   ]
  },
  {
   "cell_type": "markdown",
   "metadata": {
    "id": "qZGUwPUCVGeT"
   },
   "source": [
    "Haremos un analisis exploratorio con los siguientes campos para poder determinar cuales usar para las categorias:\n",
    "- precio\n",
    "- marca\n",
    "- resolucion\n",
    "- es gamer\n",
    "- velocidad max del procesador\n",
    "- marca\n",
    "- linea del procesador\n",
    "- memoria ram\n",
    "- capacidad del ssd\n",
    "- cuotas\n",
    "- tamaño de la pantalla  \n",
    "- costo de envío\n",
    "- peso"
   ]
  },
  {
   "cell_type": "markdown",
   "metadata": {},
   "source": [
    "### Precio"
   ]
  },
  {
   "cell_type": "code",
   "execution_count": 10,
   "metadata": {
    "colab": {
     "base_uri": "https://localhost:8080/"
    },
    "executionInfo": {
     "elapsed": 5,
     "status": "ok",
     "timestamp": 1660264554795,
     "user": {
      "displayName": "Martina Di Carlo",
      "userId": "17054237212499031598"
     },
     "user_tz": 180
    },
    "id": "-hqMEngnWUTR",
    "outputId": "2cac1cf5-75d9-4c15-f3b3-db97de294c9c"
   },
   "outputs": [
    {
     "data": {
      "text/plain": [
       "count     11574.00000\n",
       "mean     206471.81427\n",
       "std      125035.45137\n",
       "min        4200.00000\n",
       "25%      148799.00000\n",
       "50%      189999.00000\n",
       "75%      232499.00000\n",
       "max     2701999.00000\n",
       "Name: price, dtype: float64"
      ]
     },
     "execution_count": 10,
     "metadata": {},
     "output_type": "execute_result"
    }
   ],
   "source": [
    "df.price.describe()"
   ]
  },
  {
   "cell_type": "code",
   "execution_count": 11,
   "metadata": {
    "colab": {
     "base_uri": "https://localhost:8080/",
     "height": 464
    },
    "executionInfo": {
     "elapsed": 597,
     "status": "ok",
     "timestamp": 1660264555390,
     "user": {
      "displayName": "Martina Di Carlo",
      "userId": "17054237212499031598"
     },
     "user_tz": 180
    },
    "id": "JRPikZmaVaF1",
    "outputId": "581fedea-7870-4c4d-e7cd-7e813b5a024f"
   },
   "outputs": [
    {
     "data": {
      "image/png": "[encoded data removed]",
      "text/plain": [
       "<Figure size 800x500 with 1 Axes>"
      ]
     },
     "metadata": {},
     "output_type": "display_data"
    }
   ],
   "source": [
    "sns.set_theme(style=\"whitegrid\", palette=\"pastel\")\n",
    "\n",
    "plt.figure(figsize=(8,5))\n",
    "ax = sns.boxplot(x=\"price\", data=df)\n",
    "ax.set_title(\"Precio de la notebook\", size=14, family='serif')  \n",
    "plt.xlabel('Precio', size=12, family='serif')  \n",
    "plt.show()"
   ]
  },
  {
   "cell_type": "code",
   "execution_count": 12,
   "metadata": {},
   "outputs": [
    {
     "data": {
      "text/html": [
       "<div>\n",
       "<style scoped>\n",
       "    .dataframe tbody tr th:only-of-type {\n",
       "        vertical-align: middle;\n",
       "    }\n",
       "\n",
       "    .dataframe tbody tr th {\n",
       "        vertical-align: top;\n",
       "    }\n",
       "\n",
       "    .dataframe thead th {\n",
       "        text-align: right;\n",
       "    }\n",
       "</style>\n",
       "<table border=\"1\" class=\"dataframe\">\n",
       "  <thead>\n",
       "    <tr style=\"text-align: right;\">\n",
       "      <th></th>\n",
       "      <th>id</th>\n",
       "      <th>title</th>\n",
       "      <th>seller_id</th>\n",
       "      <th>price</th>\n",
       "      <th>base_price</th>\n",
       "      <th>deal_ids</th>\n",
       "      <th>initial_quantity</th>\n",
       "      <th>sold_quantity</th>\n",
       "      <th>listing_type_id</th>\n",
       "      <th>available_quantity</th>\n",
       "      <th>sold_quantity.1</th>\n",
       "      <th>sale_terms</th>\n",
       "      <th>condition</th>\n",
       "      <th>installment</th>\n",
       "      <th>display_size</th>\n",
       "      <th>shipping_cost</th>\n",
       "      <th>descriptions</th>\n",
       "      <th>attributes</th>\n",
       "      <th>warnings</th>\n",
       "      <th>status</th>\n",
       "      <th>date_created</th>\n",
       "      <th>shipping.mode</th>\n",
       "      <th>shipping.free_shipping</th>\n",
       "      <th>Tipo de batería</th>\n",
       "      <th>Marca</th>\n",
       "      <th>Cantidad de núcleos</th>\n",
       "      <th>Resolución de la pantalla</th>\n",
       "      <th>Tamaño de la pantalla</th>\n",
       "      <th>Tipo de pantalla</th>\n",
       "      <th>Tarjeta gráfica</th>\n",
       "      <th>Es 2 en 1</th>\n",
       "      <th>Es gamer</th>\n",
       "      <th>Es ultrabook</th>\n",
       "      <th>Condición del ítem</th>\n",
       "      <th>Línea</th>\n",
       "      <th>Modelo</th>\n",
       "      <th>Edición del sistema operativo</th>\n",
       "      <th>Nombre del sistema operativo</th>\n",
       "      <th>Versión del sistema operativo</th>\n",
       "      <th>Marca del procesador</th>\n",
       "      <th>Línea del procesador</th>\n",
       "      <th>Memoria RAM</th>\n",
       "      <th>Tipo de memoria RAM</th>\n",
       "      <th>Capacidad del SSD</th>\n",
       "      <th>Cantidad total de puertos USB</th>\n",
       "      <th>Peso</th>\n",
       "      <th>Con Bluetooth</th>\n",
       "      <th>Con puerto ethernet</th>\n",
       "      <th>Con HDMI</th>\n",
       "      <th>Con salida para auriculares</th>\n",
       "      <th>Con lector de tarjeta de memoria</th>\n",
       "      <th>Con micrófono</th>\n",
       "      <th>Con pantalla táctil</th>\n",
       "      <th>Con cámara web</th>\n",
       "      <th>Con Wi-Fi</th>\n",
       "      <th>Profundidad</th>\n",
       "      <th>Altura</th>\n",
       "      <th>Modos de sonido</th>\n",
       "      <th>Puertos USB</th>\n",
       "      <th>Puertos de video</th>\n",
       "      <th>Ancho</th>\n",
       "      <th>Con USB</th>\n",
       "      <th>Modelo del procesador</th>\n",
       "      <th>Tipo de garantía_x</th>\n",
       "      <th>Tiempo de garantía_x</th>\n",
       "      <th>Tipo de garantía_y</th>\n",
       "      <th>Tiempo de garantía_y</th>\n",
       "    </tr>\n",
       "  </thead>\n",
       "  <tbody>\n",
       "    <tr>\n",
       "      <th>11451</th>\n",
       "      <td>MLA1123217115</td>\n",
       "      <td>Apple Macbook Pro 16 2021 M1 Pro Ssd4tb 32gb S...</td>\n",
       "      <td>245722648</td>\n",
       "      <td>2701999.00000</td>\n",
       "      <td>2701999.00000</td>\n",
       "      <td>[]</td>\n",
       "      <td>1</td>\n",
       "      <td>0</td>\n",
       "      <td>gold_pro</td>\n",
       "      <td>1</td>\n",
       "      <td>0</td>\n",
       "      <td>[{'id': 'WARRANTY_TYPE', 'name': 'Tipo de gara...</td>\n",
       "      <td>new</td>\n",
       "      <td>no_interest</td>\n",
       "      <td>entre 14.1 y 16.9</td>\n",
       "      <td>free</td>\n",
       "      <td>[]</td>\n",
       "      <td>[{'id': 'BATTERY_TYPE', 'name': 'Tipo de bater...</td>\n",
       "      <td>[]</td>\n",
       "      <td>active</td>\n",
       "      <td>2022-02-11T19:25:21.000Z</td>\n",
       "      <td>me2</td>\n",
       "      <td>True</td>\n",
       "      <td>Polímero de litio</td>\n",
       "      <td>Apple</td>\n",
       "      <td>10.00000</td>\n",
       "      <td>3456 px x 2234 px</td>\n",
       "      <td>16.2 \"</td>\n",
       "      <td>NaN</td>\n",
       "      <td>Apple GPU</td>\n",
       "      <td>No</td>\n",
       "      <td>No</td>\n",
       "      <td>NaN</td>\n",
       "      <td>Nuevo</td>\n",
       "      <td>MacBook Pro</td>\n",
       "      <td>Macbook Pro 16\"</td>\n",
       "      <td>NaN</td>\n",
       "      <td>macOS</td>\n",
       "      <td>Monterey</td>\n",
       "      <td>Apple</td>\n",
       "      <td>M1 Pro</td>\n",
       "      <td>32 GB</td>\n",
       "      <td>NaN</td>\n",
       "      <td>4 TB</td>\n",
       "      <td>NaN</td>\n",
       "      <td>2.15 kg</td>\n",
       "      <td>NaN</td>\n",
       "      <td>NaN</td>\n",
       "      <td>Sí</td>\n",
       "      <td>NaN</td>\n",
       "      <td>NaN</td>\n",
       "      <td>NaN</td>\n",
       "      <td>No</td>\n",
       "      <td>NaN</td>\n",
       "      <td>NaN</td>\n",
       "      <td>24.81 cm</td>\n",
       "      <td>NaN</td>\n",
       "      <td>NaN</td>\n",
       "      <td>NaN</td>\n",
       "      <td>NaN</td>\n",
       "      <td>35.57 cm</td>\n",
       "      <td>Sí</td>\n",
       "      <td>NaN</td>\n",
       "      <td>Garantía del vendedor</td>\n",
       "      <td>6 meses</td>\n",
       "      <td>Garantía del vendedor</td>\n",
       "      <td>6 meses</td>\n",
       "    </tr>\n",
       "  </tbody>\n",
       "</table>\n",
       "</div>"
      ],
      "text/plain": [
       "                  id                                              title  \\\n",
       "11451  MLA1123217115  Apple Macbook Pro 16 2021 M1 Pro Ssd4tb 32gb S...   \n",
       "\n",
       "       seller_id         price    base_price deal_ids  initial_quantity  \\\n",
       "11451  245722648 2701999.00000 2701999.00000       []                 1   \n",
       "\n",
       "       sold_quantity listing_type_id  available_quantity  sold_quantity.1  \\\n",
       "11451              0        gold_pro                   1                0   \n",
       "\n",
       "                                              sale_terms condition  \\\n",
       "11451  [{'id': 'WARRANTY_TYPE', 'name': 'Tipo de gara...       new   \n",
       "\n",
       "       installment       display_size shipping_cost descriptions  \\\n",
       "11451  no_interest  entre 14.1 y 16.9          free           []   \n",
       "\n",
       "                                              attributes warnings  status  \\\n",
       "11451  [{'id': 'BATTERY_TYPE', 'name': 'Tipo de bater...       []  active   \n",
       "\n",
       "                   date_created shipping.mode  shipping.free_shipping  \\\n",
       "11451  2022-02-11T19:25:21.000Z           me2                    True   \n",
       "\n",
       "         Tipo de batería  Marca  Cantidad de núcleos  \\\n",
       "11451  Polímero de litio  Apple             10.00000   \n",
       "\n",
       "      Resolución de la pantalla Tamaño de la pantalla Tipo de pantalla  \\\n",
       "11451         3456 px x 2234 px                16.2 \"              NaN   \n",
       "\n",
       "      Tarjeta gráfica Es 2 en 1 Es gamer Es ultrabook Condición del ítem  \\\n",
       "11451       Apple GPU        No       No          NaN              Nuevo   \n",
       "\n",
       "             Línea           Modelo Edición del sistema operativo  \\\n",
       "11451  MacBook Pro  Macbook Pro 16\"                           NaN   \n",
       "\n",
       "      Nombre del sistema operativo Versión del sistema operativo  \\\n",
       "11451                        macOS                      Monterey   \n",
       "\n",
       "      Marca del procesador Línea del procesador Memoria RAM  \\\n",
       "11451                Apple               M1 Pro       32 GB   \n",
       "\n",
       "      Tipo de memoria RAM Capacidad del SSD  Cantidad total de puertos USB  \\\n",
       "11451                 NaN              4 TB                            NaN   \n",
       "\n",
       "          Peso Con Bluetooth Con puerto ethernet Con HDMI  \\\n",
       "11451  2.15 kg           NaN                 NaN       Sí   \n",
       "\n",
       "      Con salida para auriculares Con lector de tarjeta de memoria  \\\n",
       "11451                         NaN                              NaN   \n",
       "\n",
       "      Con micrófono Con pantalla táctil Con cámara web Con Wi-Fi Profundidad  \\\n",
       "11451           NaN                  No            NaN       NaN    24.81 cm   \n",
       "\n",
       "      Altura Modos de sonido Puertos USB Puertos de video     Ancho Con USB  \\\n",
       "11451    NaN             NaN         NaN              NaN  35.57 cm      Sí   \n",
       "\n",
       "      Modelo del procesador     Tipo de garantía_x Tiempo de garantía_x  \\\n",
       "11451                   NaN  Garantía del vendedor              6 meses   \n",
       "\n",
       "          Tipo de garantía_y Tiempo de garantía_y  \n",
       "11451  Garantía del vendedor              6 meses  "
      ]
     },
     "execution_count": 12,
     "metadata": {},
     "output_type": "execute_result"
    }
   ],
   "source": [
    "df[df.price > 2500000]"
   ]
  },
  {
   "cell_type": "markdown",
   "metadata": {},
   "source": [
    "Tiene sentido esta computadora que es una MAC de alto nivel, por lo tanto no la eliminaremos del dataframe.\n",
    "\n",
    "### Marca  \n",
    "Como existen muchas marcas se procede a agrupar aquellas que aparezcan menos de 100 veces, bajo el nombre \"Otros\". Se entiende que las marcas más populares estan dentro de las que tienen mas de 100 y que no sería tan relevante dejar el nombre de una marca que aparece menos de 100 veces."
   ]
  },
  {
   "cell_type": "code",
   "execution_count": 13,
   "metadata": {
    "executionInfo": {
     "elapsed": 8,
     "status": "ok",
     "timestamp": 1660264555391,
     "user": {
      "displayName": "Martina Di Carlo",
      "userId": "17054237212499031598"
     },
     "user_tz": 180
    },
    "id": "KYWMddgRV2vS"
   },
   "outputs": [],
   "source": [
    "marcas = df.Marca.value_counts().to_frame()\n",
    "marcas[\"condicion\"] = marcas.index\n",
    "marcas.loc[marcas[\"Marca\"] < 100, \"condicion\"] = \"Otro\"\n",
    "marcas = marcas.rename_axis('Marca_Original').reset_index()\n",
    "marcas.columns = [\"Marca_Original\", \"Cantidad\", \"Marca_Nueva\"]\n",
    "marcas.tail()\n",
    "\n",
    "del marcas[\"Cantidad\"]"
   ]
  },
  {
   "cell_type": "code",
   "execution_count": 14,
   "metadata": {
    "executionInfo": {
     "elapsed": 7,
     "status": "ok",
     "timestamp": 1660264555391,
     "user": {
      "displayName": "Martina Di Carlo",
      "userId": "17054237212499031598"
     },
     "user_tz": 180
    },
    "id": "7qK8aqjcXEAd"
   },
   "outputs": [],
   "source": [
    "df = df.merge(marcas,\n",
    "         how = \"left\",\n",
    "         left_on = \"Marca\",\n",
    "         right_on = \"Marca_Original\")\n"
   ]
  },
  {
   "cell_type": "code",
   "execution_count": 15,
   "metadata": {
    "executionInfo": {
     "elapsed": 7,
     "status": "ok",
     "timestamp": 1660264555392,
     "user": {
      "displayName": "Martina Di Carlo",
      "userId": "17054237212499031598"
     },
     "user_tz": 180
    },
    "id": "XpW5vSRXbBWp"
   },
   "outputs": [],
   "source": [
    "del df[\"Marca_Original\"], df[\"Marca\"]\n",
    "df.rename(columns = {\"Marca_Nueva\" : \"Marca\"}, inplace = True)"
   ]
  },
  {
   "cell_type": "code",
   "execution_count": 16,
   "metadata": {
    "colab": {
     "base_uri": "https://localhost:8080/",
     "height": 464
    },
    "executionInfo": {
     "elapsed": 651,
     "status": "ok",
     "timestamp": 1660264556037,
     "user": {
      "displayName": "Martina Di Carlo",
      "userId": "17054237212499031598"
     },
     "user_tz": 180
    },
    "id": "zvjrPSaAZ5vH",
    "outputId": "970199ce-8caa-4071-a07e-57db6f3ecf73"
   },
   "outputs": [
    {
     "data": {
      "image/png": "[encoded data removed]",
      "text/plain": [
       "<Figure size 1000x600 with 1 Axes>"
      ]
     },
     "metadata": {},
     "output_type": "display_data"
    }
   ],
   "source": [
    "sns.set_theme(style=\"whitegrid\", palette=\"pastel\")\n",
    "\n",
    "plt.figure(figsize=(10,6))\n",
    "ax = sns.boxplot(x=\"price\", data=df, y = \"Marca\")  \n",
    "ax.set_title(\"Precio de la notebook por marca\", size=14, family='serif') \n",
    "plt.ylabel('Marca', size=12, family='serif')  \n",
    "plt.xlabel('Precio', size=12, family='serif')  \n",
    "plt.show()"
   ]
  },
  {
   "cell_type": "code",
   "execution_count": 17,
   "metadata": {
    "colab": {
     "base_uri": "https://localhost:8080/",
     "height": 464
    },
    "executionInfo": {
     "elapsed": 18,
     "status": "ok",
     "timestamp": 1660264556038,
     "user": {
      "displayName": "Martina Di Carlo",
      "userId": "17054237212499031598"
     },
     "user_tz": 180
    },
    "id": "5-Il2V67bU4x",
    "outputId": "63df418d-de8f-4d2e-97d7-1432a6bc29b4"
   },
   "outputs": [
    {
     "data": {
      "image/png": "[encoded data removed]",
      "text/plain": [
       "<Figure size 800x400 with 1 Axes>"
      ]
     },
     "metadata": {},
     "output_type": "display_data"
    }
   ],
   "source": [
    "sns.set_theme(style=\"whitegrid\", palette=\"pastel\")\n",
    "\n",
    "plt.figure(figsize=(8,4))\n",
    "ax = sns.boxplot(x=\"price\", data=df[df[\"price\"] < 1.000000e+07], y = \"Es gamer\")\n",
    "ax.set_title(\"Gamer\", size=14, family='serif') \n",
    "plt.ylabel('Gamer', size=12, family='serif')  \n",
    "plt.xlabel('Precio', size=12, family='serif')  \n",
    "plt.show()"
   ]
  },
  {
   "cell_type": "markdown",
   "metadata": {
    "id": "wRsLk_sRfBDP"
   },
   "source": [
    "## Procesador"
   ]
  },
  {
   "cell_type": "code",
   "execution_count": 18,
   "metadata": {},
   "outputs": [
    {
     "data": {
      "text/plain": [
       "1819"
      ]
     },
     "execution_count": 18,
     "metadata": {},
     "output_type": "execute_result"
    }
   ],
   "source": [
    "df = df.rename(columns= {\"Línea del procesador\" : \"linea_procesador\"})\n",
    "df.linea_procesador.isna().sum()"
   ]
  },
  {
   "cell_type": "code",
   "execution_count": 19,
   "metadata": {},
   "outputs": [
    {
     "data": {
      "text/plain": [
       "1819"
      ]
     },
     "execution_count": 19,
     "metadata": {},
     "output_type": "execute_result"
    }
   ],
   "source": [
    "df = normalizar_lineas_procesador(df, \"linea_procesador\")\n",
    "df.linea_procesador.isna().sum()"
   ]
  },
  {
   "cell_type": "code",
   "execution_count": 20,
   "metadata": {},
   "outputs": [
    {
     "data": {
      "text/plain": [
       "7877"
      ]
     },
     "execution_count": 20,
     "metadata": {},
     "output_type": "execute_result"
    }
   ],
   "source": [
    "df = df.rename(columns= {\"Modelo del procesador\" : \"modelo_procesador\"})\n",
    "df.modelo_procesador.isna().sum()"
   ]
  },
  {
   "cell_type": "code",
   "execution_count": 21,
   "metadata": {},
   "outputs": [
    {
     "data": {
      "text/plain": [
       "7877"
      ]
     },
     "execution_count": 21,
     "metadata": {},
     "output_type": "execute_result"
    }
   ],
   "source": [
    "df = normalizar_lineas_procesador(df, \"modelo_procesador\")\n",
    "df.modelo_procesador.isna().sum()"
   ]
  },
  {
   "cell_type": "code",
   "execution_count": 22,
   "metadata": {
    "executionInfo": {
     "elapsed": 429,
     "status": "ok",
     "timestamp": 1660264556462,
     "user": {
      "displayName": "Martina Di Carlo",
      "userId": "17054237212499031598"
     },
     "user_tz": 180
    },
    "id": "au3hhFPqfAma"
   },
   "outputs": [
    {
     "data": {
      "text/plain": [
       "7877"
      ]
     },
     "execution_count": 22,
     "metadata": {},
     "output_type": "execute_result"
    }
   ],
   "source": [
    "\n",
    "df = normalizar_lineas_procesador(df, \"modelo_procesador\")\n",
    "df.modelo_procesador.isna().sum()"
   ]
  },
  {
   "cell_type": "code",
   "execution_count": 26,
   "metadata": {},
   "outputs": [],
   "source": [
    "cm1 = (df.modelo_procesador == \"M1\")\n",
    "cotro = (df.linea_procesador == \"Otro\")\n",
    "\n",
    "df.loc[cm1 & cotro, \"linea_procesador\"] = \"M1\""
   ]
  },
  {
   "cell_type": "code",
   "execution_count": 28,
   "metadata": {},
   "outputs": [
    {
     "data": {
      "text/plain": [
       "Core i5    2769\n",
       "Core i3    1880\n",
       "Core i7    1531\n",
       "Ryzen 5    1008\n",
       "Celeron     997\n",
       "Otro        347\n",
       "Ryzen 7     315\n",
       "Ryzen 3     283\n",
       "Athlon      278\n",
       "Pentium     218\n",
       "AMD A6       79\n",
       "M1           50\n",
       "Name: linea_procesador, dtype: int64"
      ]
     },
     "execution_count": 28,
     "metadata": {},
     "output_type": "execute_result"
    }
   ],
   "source": [
    "df.linea_procesador.value_counts()"
   ]
  },
  {
   "cell_type": "code",
   "execution_count": 27,
   "metadata": {},
   "outputs": [
    {
     "data": {
      "image/png": "[encoded data removed]",
      "text/plain": [
       "<Figure size 800x400 with 1 Axes>"
      ]
     },
     "metadata": {},
     "output_type": "display_data"
    }
   ],
   "source": [
    "sns.set_theme(style=\"whitegrid\", palette=\"pastel\")\n",
    "\n",
    "plt.figure(figsize=(8,4))\n",
    "ax = sns.boxplot(x=\"price\", data=df, y = \"linea_procesador\")\n",
    "ax.set_title(\"Linea Procesador\", size=14, family='serif') \n",
    "plt.ylabel('Linea Procesador', size=12, family='serif')  \n",
    "plt.xlabel('Precio', size=12, family='serif')  \n",
    "plt.show()"
   ]
  },
  {
   "cell_type": "code",
   "execution_count": 21,
   "metadata": {},
   "outputs": [
    {
     "data": {
      "text/plain": [
       "0    8 GB\n",
       "1    8 GB\n",
       "2    4 GB\n",
       "3    4 GB\n",
       "4    8 GB\n",
       "Name: Memoria RAM, dtype: object"
      ]
     },
     "execution_count": 21,
     "metadata": {},
     "output_type": "execute_result"
    }
   ],
   "source": [
    "df[\"Memoria RAM\"].head()"
   ]
  },
  {
   "cell_type": "markdown",
   "metadata": {},
   "source": [
    "### RAM"
   ]
  },
  {
   "cell_type": "code",
   "execution_count": 23,
   "metadata": {},
   "outputs": [],
   "source": [
    "df = separar_valor_ram(df,\"Memoria RAM\", 'Capacidad RAM', 'Medida_RAM')"
   ]
  },
  {
   "cell_type": "code",
   "execution_count": 28,
   "metadata": {
    "colab": {
     "base_uri": "https://localhost:8080/",
     "height": 464
    },
    "executionInfo": {
     "elapsed": 282,
     "status": "ok",
     "timestamp": 1660264556739,
     "user": {
      "displayName": "Martina Di Carlo",
      "userId": "17054237212499031598"
     },
     "user_tz": 180
    },
    "id": "9ooMjWcrtQhW",
    "outputId": "495b5d3e-3883-4b97-ff2a-6a15cf74f26d"
   },
   "outputs": [
    {
     "data": {
      "text/plain": [
       "<Figure size 800x400 with 0 Axes>"
      ]
     },
     "metadata": {},
     "output_type": "display_data"
    },
    {
     "data": {
      "image/png": "[encoded data removed]",
      "text/plain": [
       "<Figure size 1000x500 with 1 Axes>"
      ]
     },
     "metadata": {},
     "output_type": "display_data"
    }
   ],
   "source": [
    "sns.set_theme(style=\"whitegrid\", palette=\"pastel\")\n",
    "\n",
    "plt.figure(figsize=(8,4))\n",
    "\n",
    "plt.figure(figsize=(10,5))\n",
    "ax = sns.boxplot(x=\"Capacidad RAM\", data=df)\n",
    "ax.set_title(\"Tamaño RAM (gb)\", size=14, family='serif') \n",
    "plt.xlabel('Tamaño RAM (gb)', size=12, family='serif')  \n",
    "plt.show()"
   ]
  },
  {
   "cell_type": "code",
   "execution_count": 31,
   "metadata": {
    "colab": {
     "base_uri": "https://localhost:8080/",
     "height": 464
    },
    "executionInfo": {
     "elapsed": 333,
     "status": "ok",
     "timestamp": 1660264557070,
     "user": {
      "displayName": "Martina Di Carlo",
      "userId": "17054237212499031598"
     },
     "user_tz": 180
    },
    "id": "3K2tMp61tltz",
    "outputId": "92d3d74c-969b-44c1-e7d8-7fd2dabf1da3"
   },
   "outputs": [
    {
     "data": {
      "image/png": "[encoded data removed]",
      "text/plain": [
       "<Figure size 800x500 with 1 Axes>"
      ]
     },
     "metadata": {},
     "output_type": "display_data"
    }
   ],
   "source": [
    "sns.set_theme(style=\"whitegrid\", palette=\"pastel\")\n",
    "\n",
    "plt.figure(figsize=(8,5))\n",
    "\n",
    "ax = sns.boxplot(x=\"Capacidad RAM\", data=df[df[\"Capacidad RAM\"] < 129], y = \"Marca\")\n",
    "ax.set_title(\"Tamaño RAM (gb) por Marca\", size=14, family='serif') \n",
    "plt.xlabel('Tamaño RAM (gb)', size=12, family='serif')  \n",
    "plt.ylabel('Marca', size=12, family='serif')  \n",
    "plt.show()"
   ]
  },
  {
   "cell_type": "markdown",
   "metadata": {},
   "source": [
    "### Peso\n",
    "\n",
    "# NORMALIZAR EL PESO Y LUEGO SEGUIR CON EL RESTO DE LOS QUE PUSE EN EL CUESTIONARIO"
   ]
  },
  {
   "cell_type": "code",
   "execution_count": 31,
   "metadata": {},
   "outputs": [
    {
     "data": {
      "text/plain": [
       "0     1.6 kg\n",
       "1     1.6 kg\n",
       "2     1350 g\n",
       "3     1.3 kg\n",
       "4    1.46 kg\n",
       "Name: Peso, dtype: object"
      ]
     },
     "execution_count": 31,
     "metadata": {},
     "output_type": "execute_result"
    }
   ],
   "source": [
    "df.Peso.head()"
   ]
  },
  {
   "cell_type": "code",
   "execution_count": 30,
   "metadata": {},
   "outputs": [
    {
     "data": {
      "text/plain": [
       "Index(['id', 'title', 'seller_id', 'price', 'base_price', 'deal_ids',\n",
       "       'initial_quantity', 'sold_quantity', 'listing_type_id',\n",
       "       'available_quantity', 'sold_quantity.1', 'sale_terms', 'condition',\n",
       "       'installment', 'display_size', 'shipping_cost', 'descriptions',\n",
       "       'attributes', 'warnings', 'status', 'date_created', 'shipping.mode',\n",
       "       'shipping.free_shipping', 'Tipo de batería', 'Cantidad de núcleos',\n",
       "       'Resolución de la pantalla', 'Tamaño de la pantalla',\n",
       "       'Tipo de pantalla', 'Tarjeta gráfica', 'Es 2 en 1', 'Es gamer',\n",
       "       'Es ultrabook', 'Condición del ítem', 'Línea', 'Modelo',\n",
       "       'Edición del sistema operativo', 'Nombre del sistema operativo',\n",
       "       'Versión del sistema operativo', 'Marca del procesador', 'Memoria RAM',\n",
       "       'Tipo de memoria RAM', 'Capacidad del SSD',\n",
       "       'Cantidad total de puertos USB', 'Peso', 'Con Bluetooth',\n",
       "       'Con puerto ethernet', 'Con HDMI', 'Con salida para auriculares',\n",
       "       'Con lector de tarjeta de memoria', 'Con micrófono',\n",
       "       'Con pantalla táctil', 'Con cámara web', 'Con Wi-Fi', 'Profundidad',\n",
       "       'Altura', 'Modos de sonido', 'Puertos USB', 'Puertos de video', 'Ancho',\n",
       "       'Con USB', 'Tipo de garantía_x', 'Tiempo de garantía_x',\n",
       "       'Tipo de garantía_y', 'Tiempo de garantía_y', 'Marca',\n",
       "       'linea_procesador', 'modelo_procesador'],\n",
       "      dtype='object')"
      ]
     },
     "execution_count": 30,
     "metadata": {},
     "output_type": "execute_result"
    }
   ],
   "source": [
    "sns.set_theme(style=\"whitegrid\", palette=\"pastel\")\n",
    "\n",
    "plt.figure(figsize=(8,4))\n",
    "\n",
    "plt.figure(figsize=(10,5))\n",
    "ax = sns.boxplot(x=\"Peso de la notebook\", data=df)\n",
    "ax.set_title(\"Peso\", size=14, family='serif') \n",
    "plt.xlabel('Tamaño RAM (gb)', size=12, family='serif')  \n",
    "plt.show()"
   ]
  },
  {
   "cell_type": "code",
   "execution_count": null,
   "metadata": {},
   "outputs": [],
   "source": []
  }
 ],
 "metadata": {
  "colab": {
   "collapsed_sections": [],
   "name": "01_Labeling.ipynb",
   "version": ""
  },
  "kernelspec": {
   "display_name": "Python 3.10.4 ('tesis')",
   "language": "python",
   "name": "python3"
  },
  "language_info": {
   "codemirror_mode": {
    "name": "ipython",
    "version": 3
   },
   "file_extension": ".py",
   "mimetype": "text/x-python",
   "name": "python",
   "nbconvert_exporter": "python",
   "pygments_lexer": "ipython3",
   "version": "3.10.4"
  },
  "vscode": {
   "interpreter": {
    "hash": "eb152fb488c65eabfee0aec9ec95b1cba9f3f0741672e67b509268b08ed522bf"
   }
  }
 },
 "nbformat": 4,
 "nbformat_minor": 4
}
