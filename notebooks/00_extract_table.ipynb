{
 "cells": [
  {
   "cell_type": "markdown",
   "id": "2a4f9793-dc3c-4660-a482-c3e84a0035a1",
   "metadata": {
    "id": "2a4f9793-dc3c-4660-a482-c3e84a0035a1"
   },
   "source": [
    "# 00 - Extraccion de datos mediante API de Mercado Libre"
   ]
  },
  {
   "cell_type": "markdown",
   "id": "d11af2b2-62f6-4ec6-895e-20d767761a2d",
   "metadata": {
    "id": "d11af2b2-62f6-4ec6-895e-20d767761a2d"
   },
   "source": [
    "## Importación de librerias"
   ]
  },
  {
   "cell_type": "code",
   "execution_count": 1,
   "id": "6de3dc67-284a-4b29-aaa1-483a7dbba200",
   "metadata": {
    "colab": {
     "base_uri": "https://localhost:8080/"
    },
    "executionInfo": {
     "elapsed": 261,
     "status": "ok",
     "timestamp": 1660252940403,
     "user": {
      "displayName": "Martina Di Carlo",
      "userId": "17054237212499031598"
     },
     "user_tz": 180
    },
    "id": "6de3dc67-284a-4b29-aaa1-483a7dbba200",
    "outputId": "01854150-c2f8-44d8-cacf-ffb74b50b654"
   },
   "outputs": [],
   "source": [
    "import pandas as pd\n",
    "import numpy as np\n",
    "import json\n",
    "import requests\n",
    "\n",
    "from datetime import datetime, timedelta, timezone, date\n",
    "pd.options.display.max_columns=None\n",
    "from pyprojroot import here\n",
    "\n",
    "\n",
    "import matplotlib.pyplot as plt\n",
    "import os\n",
    "import seaborn as sns\n"
   ]
  },
  {
   "cell_type": "code",
   "execution_count": 2,
   "id": "uQX1zIwjD070",
   "metadata": {
    "executionInfo": {
     "elapsed": 276,
     "status": "ok",
     "timestamp": 1660261747766,
     "user": {
      "displayName": "Martina Di Carlo",
      "userId": "17054237212499031598"
     },
     "user_tz": 180
    },
    "id": "uQX1zIwjD070"
   },
   "outputs": [],
   "source": [
    "path_save = here() / \"data\" "
   ]
  },
  {
   "cell_type": "code",
   "execution_count": 3,
   "id": "f7e145b8",
   "metadata": {},
   "outputs": [
    {
     "data": {
      "text/plain": [
       "WindowsPath('c:/Users/marti/OneDrive/Escritorio/Tesis/mdc-tesis')"
      ]
     },
     "execution_count": 3,
     "metadata": {},
     "output_type": "execute_result"
    }
   ],
   "source": [
    "here()"
   ]
  },
  {
   "cell_type": "code",
   "execution_count": 4,
   "id": "38744ab4-392f-4efe-833c-6d5f51c97caa",
   "metadata": {
    "id": "7da24226-43b8-477f-849e-ef54bd133597"
   },
   "outputs": [],
   "source": [
    "import sys\n",
    "sys.path.append(here())\n"
   ]
  },
  {
   "cell_type": "code",
   "execution_count": 5,
   "id": "4e077ee4",
   "metadata": {},
   "outputs": [
    {
     "data": {
      "text/plain": [
       "WindowsPath('c:/Users/marti/OneDrive/Escritorio/Tesis/mdc-tesis')"
      ]
     },
     "execution_count": 5,
     "metadata": {},
     "output_type": "execute_result"
    }
   ],
   "source": [
    "here()"
   ]
  },
  {
   "cell_type": "code",
   "execution_count": 6,
   "id": "738838f7",
   "metadata": {},
   "outputs": [],
   "source": [
    "sys.path.insert(0, 'c:/Users/marti/OneDrive/Escritorio/Tesis/mdc-tesis/library')\n",
    "import sys\n",
    "\n",
    "from extraction import MeliAPI"
   ]
  },
  {
   "cell_type": "markdown",
   "id": "o4F8zUqqdo0w",
   "metadata": {
    "id": "o4F8zUqqdo0w"
   },
   "source": [
    "## Armado del Dataset"
   ]
  },
  {
   "cell_type": "markdown",
   "id": "geOsBihYdthM",
   "metadata": {
    "id": "geOsBihYdthM"
   },
   "source": [
    "Para armar el dataset descargaremos para Mercado Libre Argentina laptops publicadas. La categoría se llama: MLA1652.\n",
    "La API tiene una restricción que no permite utilizar un offset mayor a 4000. Esto nos permite descargar menos de 4000 publicaciones por loop.\n",
    "Es por ello que se han armado ciertos grupos para descargar la información por grupo. Esto nos permite tambien etiquetar a las publicaciones con este atributo, \n",
    "elemento que no se obtiene descargando la información de la publicación."
   ]
  },
  {
   "cell_type": "markdown",
   "id": "ba1e601d-adc9-48df-9d0d-f90fa8742c5f",
   "metadata": {},
   "source": [
    "<img src=\"..\\Grupos.png\" alt=\"Drawing\" style=\"width: 600px;\"/>\n"
   ]
  },
  {
   "cell_type": "markdown",
   "id": "801de992-9619-4627-a606-9f9e830697f6",
   "metadata": {},
   "source": [
    "Para armar estos grupos necesitamos filtar desde el url mediante los siguientes nombres:  \n",
    "\n",
    "* installments:  \n",
    "    + yes  \n",
    "    + no_interest  \n",
    "* power_seller:  \n",
    "    + yes  \n",
    "    + no  \n",
    "* shipping_cost:  \n",
    "    + get_available_filtersfree  \n",
    "            "
   ]
  },
  {
   "cell_type": "markdown",
   "id": "c2977070",
   "metadata": {},
   "source": [
    "http://auth.mercadolibre.com.ar/authorization?response_type=code&client_id=8800815426780367&redirect_uri=https://www.google.com.ar/\n"
   ]
  },
  {
   "cell_type": "code",
   "execution_count": 9,
   "id": "4d88ad94",
   "metadata": {},
   "outputs": [
    {
     "name": "stdout",
     "output_type": "stream",
     "text": [
      "http://auth.mercadolibre.com.ar/authorization?response_type=code&client_id=8800815426780367&redirect_uri=https://www.google.com.ar/\n",
      "<Response [200]>\n"
     ]
    }
   ],
   "source": [
    "meli_api = MeliAPI()"
   ]
  },
  {
   "cell_type": "markdown",
   "id": "14c78377-9fab-4def-b0ad-f27d1df9b424",
   "metadata": {},
   "source": [
    "### Grupo 1"
   ]
  },
  {
   "cell_type": "code",
   "execution_count": 10,
   "id": "6926988c-fb36-45a8-9430-7b849835778a",
   "metadata": {},
   "outputs": [],
   "source": [
    "filters = {\"installments\":\"yes\",\n",
    "           \"display_size\":'(*-14.1\")',\n",
    "          \"shipping_cost\":\"free\"}\n"
   ]
  },
  {
   "cell_type": "code",
   "execution_count": 11,
   "id": "ae406d56-71f5-4203-bbdd-4532ccf69a79",
   "metadata": {},
   "outputs": [
    {
     "name": "stdout",
     "output_type": "stream",
     "text": [
      "http://auth.mercadolibre.com.ar/authorization?response_type=code&client_id=8800815426780367&redirect_uri=https://www.google.com.ar/\n",
      "<Response [200]>\n",
      "Encontramos 4197 resultados para nuestra consulta\n"
     ]
    }
   ],
   "source": [
    "maximum = meli_api.get_q_items(filters = filters)\n",
    "print(f'Encontramos {maximum} resultados para nuestra consulta')\n"
   ]
  },
  {
   "cell_type": "code",
   "execution_count": 7,
   "id": "r2f4Jgo8ex5S",
   "metadata": {
    "colab": {
     "base_uri": "https://localhost:8080/"
    },
    "executionInfo": {
     "elapsed": 455060,
     "status": "ok",
     "timestamp": 1660253404614,
     "user": {
      "displayName": "Martina Di Carlo",
      "userId": "17054237212499031598"
     },
     "user_tz": 180
    },
    "id": "r2f4Jgo8ex5S",
    "outputId": "c20cc789-8844-4069-e383-72c32363c5aa"
   },
   "outputs": [
    {
     "name": "stdout",
     "output_type": "stream",
     "text": [
      "Porcentaje de completitud: 99.67%\r"
     ]
    }
   ],
   "source": [
    "item_list = meli_api.create_item_list(filters = filters)"
   ]
  },
  {
   "cell_type": "code",
   "execution_count": 8,
   "id": "BBoEQM_yprK9",
   "metadata": {
    "colab": {
     "base_uri": "https://localhost:8080/",
     "height": 485
    },
    "executionInfo": {
     "elapsed": 3875,
     "status": "ok",
     "timestamp": 1660261722978,
     "user": {
      "displayName": "Martina Di Carlo",
      "userId": "17054237212499031598"
     },
     "user_tz": 180
    },
    "id": "BBoEQM_yprK9",
    "outputId": "6a64e782-1180-486f-c758-5726c8ea8248"
   },
   "outputs": [
    {
     "name": "stdout",
     "output_type": "stream",
     "text": [
      "Porcentaje de completitud: 100.00%\r"
     ]
    }
   ],
   "source": [
    "data = meli_api.get_df_list(item_list)\n",
    "data[\"installment\"] = \"yes\"\n",
    "data[\"display_size\"] = \"hasta 14.1\" \n",
    "data[\"shipping_cost\"] = \"free\""
   ]
  },
  {
   "cell_type": "markdown",
   "id": "78f45e1d-283f-4638-8205-08567935571e",
   "metadata": {},
   "source": [
    "### Grupo 2"
   ]
  },
  {
   "cell_type": "code",
   "execution_count": 9,
   "id": "c38c94e8-9f46-4ddf-9dde-16401e0ad4b5",
   "metadata": {},
   "outputs": [],
   "source": [
    "filters = {\"installments\":\"yes\",\n",
    "           \"display_size\":'[14.1\"-17\")',\n",
    "                \"shipping_cost\":\"free\"}\n"
   ]
  },
  {
   "cell_type": "code",
   "execution_count": 10,
   "id": "4d30ea08-ba47-4118-b14b-ce35fb9ec9d6",
   "metadata": {},
   "outputs": [
    {
     "name": "stdout",
     "output_type": "stream",
     "text": [
      "Encontramos 4042 resultados para nuestra consulta\n"
     ]
    }
   ],
   "source": [
    "maximum = meli_api.get_q_items(filters = filters)\n",
    "print(f'Encontramos {maximum} resultados para nuestra consulta')\n"
   ]
  },
  {
   "cell_type": "code",
   "execution_count": 11,
   "id": "3cfe3d3b-d17b-47e6-a771-50e62e1e57bb",
   "metadata": {
    "colab": {
     "base_uri": "https://localhost:8080/"
    },
    "executionInfo": {
     "elapsed": 455060,
     "status": "ok",
     "timestamp": 1660253404614,
     "user": {
      "displayName": "Martina Di Carlo",
      "userId": "17054237212499031598"
     },
     "user_tz": 180
    },
    "id": "r2f4Jgo8ex5S",
    "outputId": "c20cc789-8844-4069-e383-72c32363c5aa"
   },
   "outputs": [
    {
     "name": "stdout",
     "output_type": "stream",
     "text": [
      "El offst es 4000 se terminará la ejecución.\n"
     ]
    }
   ],
   "source": [
    "item_list = meli_api.create_item_list(filters = filters)"
   ]
  },
  {
   "cell_type": "code",
   "execution_count": 22,
   "id": "f723a9df-9866-4220-87ba-3e162158a420",
   "metadata": {
    "colab": {
     "base_uri": "https://localhost:8080/",
     "height": 485
    },
    "executionInfo": {
     "elapsed": 3875,
     "status": "ok",
     "timestamp": 1660261722978,
     "user": {
      "displayName": "Martina Di Carlo",
      "userId": "17054237212499031598"
     },
     "user_tz": 180
    },
    "id": "BBoEQM_yprK9",
    "outputId": "6a64e782-1180-486f-c758-5726c8ea8248"
   },
   "outputs": [
    {
     "name": "stdout",
     "output_type": "stream",
     "text": [
      "Porcentaje de completitud: 1.90%\r"
     ]
    },
    {
     "ename": "",
     "evalue": "",
     "output_type": "error",
     "traceback": [
      "\u001b[1;31mThe kernel failed to start due to the missing module 'prompt_toolkit.formatted_text'. Consider installing this module.\n",
      "Click <a href='https://aka.ms/kernelFailuresMissingModule'>here</a> for more info."
     ]
    }
   ],
   "source": [
    "data2 = meli_api.get_df_list(item_list)\n",
    "data2[\"installment\"] = \"yes\"\n",
    "data2[\"display_size\"] = \"entre 14.1 y 16.9\"\n",
    "data2[\"shipping_cost\"] = \"free\""
   ]
  },
  {
   "cell_type": "markdown",
   "id": "fa9be5c4-e9b8-4001-b91b-9a562f38f680",
   "metadata": {},
   "source": [
    "### Grupo 3"
   ]
  },
  {
   "cell_type": "code",
   "execution_count": 13,
   "id": "28aad9f6-b14a-4015-af4f-85a19a74cf55",
   "metadata": {},
   "outputs": [],
   "source": [
    "filters = {\"installments\":\"no_interest\",\n",
    "           \"display_size\":'(*-14.1\")',\n",
    "          \"shipping_cost\":\"free\"}\n"
   ]
  },
  {
   "cell_type": "code",
   "execution_count": 14,
   "id": "98e36a38-7837-4994-9281-ff46bfa4f1c6",
   "metadata": {},
   "outputs": [
    {
     "name": "stdout",
     "output_type": "stream",
     "text": [
      "Encontramos 1254 resultados para nuestra consulta\n"
     ]
    }
   ],
   "source": [
    "maximum = meli_api.get_q_items(filters = filters)\n",
    "print(f'Encontramos {maximum} resultados para nuestra consulta')\n"
   ]
  },
  {
   "cell_type": "code",
   "execution_count": 15,
   "id": "2e736f6a-3836-46d0-9d70-271b2e15a3bb",
   "metadata": {
    "colab": {
     "base_uri": "https://localhost:8080/"
    },
    "executionInfo": {
     "elapsed": 455060,
     "status": "ok",
     "timestamp": 1660253404614,
     "user": {
      "displayName": "Martina Di Carlo",
      "userId": "17054237212499031598"
     },
     "user_tz": 180
    },
    "id": "r2f4Jgo8ex5S",
    "outputId": "c20cc789-8844-4069-e383-72c32363c5aa"
   },
   "outputs": [
    {
     "name": "stdout",
     "output_type": "stream",
     "text": [
      "Porcentaje de completitud: 99.52%\r"
     ]
    }
   ],
   "source": [
    "item_list = meli_api.create_item_list(filters = filters)"
   ]
  },
  {
   "cell_type": "code",
   "execution_count": 16,
   "id": "3fcd3ea5-b34b-4dc6-95b9-a45344a18ad1",
   "metadata": {
    "colab": {
     "base_uri": "https://localhost:8080/",
     "height": 485
    },
    "executionInfo": {
     "elapsed": 3875,
     "status": "ok",
     "timestamp": 1660261722978,
     "user": {
      "displayName": "Martina Di Carlo",
      "userId": "17054237212499031598"
     },
     "user_tz": 180
    },
    "id": "BBoEQM_yprK9",
    "outputId": "6a64e782-1180-486f-c758-5726c8ea8248"
   },
   "outputs": [
    {
     "name": "stdout",
     "output_type": "stream",
     "text": [
      "Porcentaje de completitud: 100.00%\r"
     ]
    }
   ],
   "source": [
    "data3 = meli_api.get_df_list(item_list)\n",
    "data3[\"installment\"] = \"no_interest\"\n",
    "data3[\"display_size\"] = \"hasta 14.1\" \n",
    "data3[\"shipping_cost\"] = \"free\""
   ]
  },
  {
   "cell_type": "markdown",
   "id": "06689401-9b9e-4197-8620-d3213b26c24a",
   "metadata": {},
   "source": [
    "### Grupo 4"
   ]
  },
  {
   "cell_type": "code",
   "execution_count": 17,
   "id": "c6f87cd1-4771-4230-8f94-677ebdf5753f",
   "metadata": {},
   "outputs": [],
   "source": [
    "filters = {\"installments\":\"no_interest\",\n",
    "           \"display_size\":'[14.1\"-17\")',\n",
    "          \"shipping_cost\":\"free\"}\n"
   ]
  },
  {
   "cell_type": "code",
   "execution_count": 18,
   "id": "a4d72a01-6640-4b79-ac98-8a934d0fd259",
   "metadata": {},
   "outputs": [
    {
     "name": "stdout",
     "output_type": "stream",
     "text": [
      "Encontramos 2313 resultados para nuestra consulta\n"
     ]
    }
   ],
   "source": [
    "maximum = meli_api.get_q_items(filters = filters)\n",
    "print(f'Encontramos {maximum} resultados para nuestra consulta')\n"
   ]
  },
  {
   "cell_type": "code",
   "execution_count": 19,
   "id": "bb70702c-8a18-4e30-aa5d-65e6652a0de9",
   "metadata": {
    "colab": {
     "base_uri": "https://localhost:8080/"
    },
    "executionInfo": {
     "elapsed": 455060,
     "status": "ok",
     "timestamp": 1660253404614,
     "user": {
      "displayName": "Martina Di Carlo",
      "userId": "17054237212499031598"
     },
     "user_tz": 180
    },
    "id": "r2f4Jgo8ex5S",
    "outputId": "c20cc789-8844-4069-e383-72c32363c5aa"
   },
   "outputs": [
    {
     "name": "stdout",
     "output_type": "stream",
     "text": [
      "Porcentaje de completitud: 99.44%\r"
     ]
    }
   ],
   "source": [
    "item_list = meli_api.create_item_list(filters = filters)"
   ]
  },
  {
   "cell_type": "code",
   "execution_count": 20,
   "id": "8a57b4ca-7a38-41e4-bddc-c326188b209b",
   "metadata": {
    "colab": {
     "base_uri": "https://localhost:8080/",
     "height": 485
    },
    "executionInfo": {
     "elapsed": 3875,
     "status": "ok",
     "timestamp": 1660261722978,
     "user": {
      "displayName": "Martina Di Carlo",
      "userId": "17054237212499031598"
     },
     "user_tz": 180
    },
    "id": "BBoEQM_yprK9",
    "outputId": "6a64e782-1180-486f-c758-5726c8ea8248"
   },
   "outputs": [
    {
     "name": "stdout",
     "output_type": "stream",
     "text": [
      "Porcentaje de completitud: 100.00%\r"
     ]
    }
   ],
   "source": [
    "data4 = meli_api.get_df_list(item_list)\n",
    "data4[\"installment\"] = \"no_interest\"\n",
    "data4[\"display_size\"] = \"entre 14.1 y 16.9\"\n",
    "data4[\"shipping_cost\"] = \"free\""
   ]
  },
  {
   "cell_type": "markdown",
   "id": "65e6415e-d73f-49e3-a757-48cdb41e8908",
   "metadata": {},
   "source": [
    "________________________"
   ]
  },
  {
   "cell_type": "code",
   "execution_count": 21,
   "id": "54708f83-d21a-4022-ae4b-fb0ad81ec95e",
   "metadata": {},
   "outputs": [
    {
     "ename": "NameError",
     "evalue": "name 'data2' is not defined",
     "output_type": "error",
     "traceback": [
      "\u001b[1;31m---------------------------------------------------------------------------\u001b[0m",
      "\u001b[1;31mNameError\u001b[0m                                 Traceback (most recent call last)",
      "\u001b[1;32mc:\\Users\\marti\\OneDrive\\Escritorio\\Tesis\\mdc-tesis\\00_extract_table.ipynb Cell 32\u001b[0m in \u001b[0;36m<cell line: 1>\u001b[1;34m()\u001b[0m\n\u001b[1;32m----> <a href='vscode-notebook-cell:/c%3A/Users/marti/OneDrive/Escritorio/Tesis/mdc-tesis/00_extract_table.ipynb#X43sZmlsZQ%3D%3D?line=0'>1</a>\u001b[0m data \u001b[39m=\u001b[39m pd\u001b[39m.\u001b[39mconcat([data, data2, data3, data4])\n",
      "\u001b[1;31mNameError\u001b[0m: name 'data2' is not defined"
     ]
    }
   ],
   "source": [
    "data = pd.concat([data, data2, data3, data4])"
   ]
  },
  {
   "cell_type": "code",
   "execution_count": null,
   "id": "ed252f73-4a46-478a-92a8-c9d9fe28c278",
   "metadata": {},
   "outputs": [
    {
     "data": {
      "text/plain": [
       "(11655, 76)"
      ]
     },
     "execution_count": 23,
     "metadata": {},
     "output_type": "execute_result"
    }
   ],
   "source": [
    "data.shape"
   ]
  },
  {
   "cell_type": "code",
   "execution_count": null,
   "id": "wWy2AF-3puLv",
   "metadata": {
    "colab": {
     "base_uri": "https://localhost:8080/"
    },
    "executionInfo": {
     "elapsed": 255,
     "status": "ok",
     "timestamp": 1660261727483,
     "user": {
      "displayName": "Martina Di Carlo",
      "userId": "17054237212499031598"
     },
     "user_tz": 180
    },
    "id": "wWy2AF-3puLv",
    "outputId": "60094781-22dc-4fe3-eb40-9f6983ca55fd"
   },
   "outputs": [
    {
     "data": {
      "text/plain": [
       "Renovada) Dell Inspiron 5482 2-in-1 14 Inch Touchscreen Fhd®    13\n",
       "Renovada) Dell Inspiron 5482 2-in-1 14 Inch Touchscreen Fhd     13\n",
       "Notebook Asus R410ma Intel Celeron 4gb 128gb Emmc Windows 10     9\n",
       "Notebook Pcbox Fire 3 I3-1005g1 8gb Ram  Ssd 256 14  Win10       8\n",
       "Renovada) Dell Latitude 7480 14 Touchscreen Laptop Intel Cor     7\n",
       "                                                                ..\n",
       "Notebook Lenovo I3 1005g1 8gb 128gb Ssd 14 Fhd W11s 81wd010u     1\n",
       "Notebook Lenovo I3 1005g1 4gb 128gb Ssd 14 Fhd W11s 81wd010u     1\n",
       "Notebook Acer I5 1135g7 8gb 256gb 14  Fhd W11 Nx.a25aa.002       1\n",
       "Renovada) Microsoft Surface Laptop 2 Intel Core I7 8gb Ram 2     1\n",
       "Cx 23800w                                                        1\n",
       "Name: title, Length: 8881, dtype: int64"
      ]
     },
     "execution_count": 24,
     "metadata": {},
     "output_type": "execute_result"
    }
   ],
   "source": [
    "data.title.value_counts()"
   ]
  },
  {
   "cell_type": "code",
   "execution_count": null,
   "id": "714e6b8b",
   "metadata": {},
   "outputs": [],
   "source": [
    "import datetime as dt\n",
    "\n",
    "anio = dt.datetime.now().year\n",
    "mes = dt.datetime.now().month\n",
    "dia = dt.datetime.now().day\n",
    "hora = dt.datetime.now().hour\n",
    "minuto = dt.datetime.now().minute\n"
   ]
  },
  {
   "cell_type": "code",
   "execution_count": null,
   "id": "3bf72e30",
   "metadata": {},
   "outputs": [
    {
     "data": {
      "text/plain": [
       "WindowsPath('c:/Users/marti/OneDrive/Escritorio/Tesis/mdc-tesis/data/datos_laptops_20220827_11.41.csv')"
      ]
     },
     "execution_count": 31,
     "metadata": {},
     "output_type": "execute_result"
    }
   ],
   "source": [
    "path_save /f\"datos_laptops_{anio*10000+mes*100+dia}_{hora}.{minuto}.csv\""
   ]
  },
  {
   "cell_type": "code",
   "execution_count": null,
   "id": "wmWFcc4WDdmQ",
   "metadata": {
    "executionInfo": {
     "elapsed": 26556,
     "status": "ok",
     "timestamp": 1660261774830,
     "user": {
      "displayName": "Martina Di Carlo",
      "userId": "17054237212499031598"
     },
     "user_tz": 180
    },
    "id": "wmWFcc4WDdmQ"
   },
   "outputs": [],
   "source": [
    "data.to_csv(path_save / f\"datos_laptops_{anio*10000+mes*100+dia}_{hora}.{minuto}.csv\", index = False, sep = \";\")"
   ]
  }
 ],
 "metadata": {
  "colab": {
   "name": "00_extract_table.ipynb",
   "provenance": [
    {
     "file_id": "1MKjfoeo7kih0sPT5yZq7VcAAocvTb9p1",
     "timestamp": 1657505217098
    }
   ]
  },
  "kernelspec": {
   "display_name": "Python 3.10.4 ('tesis')",
   "language": "python",
   "name": "python3"
  },
  "language_info": {
   "codemirror_mode": {
    "name": "ipython",
    "version": 3
   },
   "file_extension": ".py",
   "mimetype": "text/x-python",
   "name": "python",
   "nbconvert_exporter": "python",
   "pygments_lexer": "ipython3",
   "version": "3.10.4"
  },
  "vscode": {
   "interpreter": {
    "hash": "eb152fb488c65eabfee0aec9ec95b1cba9f3f0741672e67b509268b08ed522bf"
   }
  }
 },
 "nbformat": 4,
 "nbformat_minor": 5
}
